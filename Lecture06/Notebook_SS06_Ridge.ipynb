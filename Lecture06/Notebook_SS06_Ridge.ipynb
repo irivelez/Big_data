{
  "cells": [
    {
      "cell_type": "markdown",
      "id": "a952ad54-2218-4382-b2eb-d401d349f764",
      "metadata": {
        "id": "a952ad54-2218-4382-b2eb-d401d349f764"
      },
      "source": [
        "<div >\n",
        "<img src = \"../../banner.jpg\" />\n",
        "</div>"
      ]
    },
    {
      "cell_type": "markdown",
      "id": "9118fcac",
      "metadata": {
        "id": "9118fcac"
      },
      "source": [
        "<a target=\"_blank\" href=\"https://colab.research.google.com/github/ignaciomsarmiento/BDML_SS/blob/main/Lecture06/Notebook_SS06_Ridge.ipynb\">\n",
        "  <img src=\"https://colab.research.google.com/assets/colab-badge.svg\" alt=\"Open In Colab\"/>\n",
        "</a>"
      ]
    },
    {
      "cell_type": "markdown",
      "id": "f7e57de4",
      "metadata": {
        "id": "f7e57de4"
      },
      "source": [
        "\n",
        "# Regularization: Ridge"
      ]
    },
    {
      "cell_type": "markdown",
      "id": "303a3dcd",
      "metadata": {
        "id": "303a3dcd"
      },
      "source": [
        "## Predicting Wages\n",
        "\n",
        "Our objective today is to construct a model of individual wages\n",
        "\n",
        "$$\n",
        "w = f(X) + u\n",
        "$$\n",
        "\n",
        "where w is the  wage, and X is a matrix that includes potential explanatory variables/predictors. In this problem set, we will focus on a linear model of the form\n",
        "\n",
        "\\begin{align}\n",
        " ln(w) & = \\beta_0 + \\beta_1 X_1 + \\dots + \\beta_p X_p  + u\n",
        "\\end{align}"
      ]
    },
    {
      "cell_type": "markdown",
      "id": "312ba2f4",
      "metadata": {
        "id": "312ba2f4"
      },
      "source": [
        "were $ln(w)$ is the logarithm of the wage.\n",
        "\n",
        "To illustrate I'm going to use a sample of the NLSY97. The NLSY97 is  a nationally representative sample of 8,984 men and women born during the years 1980 through 1984 and living in the United States at the time of the initial survey in 1997.  Participants were ages 12 to 16 as of December 31, 1996.  Interviews were conducted annually from 1997 to 2011 and biennially since then.  "
      ]
    },
    {
      "cell_type": "markdown",
      "id": "2fdab5a6",
      "metadata": {
        "id": "2fdab5a6"
      },
      "source": [
        "Let's load the packages and the data set:"
      ]
    },
    {
      "cell_type": "code",
      "execution_count": 1,
      "id": "dce4bb18",
      "metadata": {
        "id": "dce4bb18",
        "outputId": "d4041b19-e2d3-4d7b-8fc6-222460e99cc6",
        "colab": {
          "base_uri": "https://localhost:8080/"
        }
      },
      "outputs": [
        {
          "output_type": "stream",
          "name": "stderr",
          "text": [
            "Installing package into ‘/usr/local/lib/R/site-library’\n",
            "(as ‘lib’ is unspecified)\n",
            "\n"
          ]
        }
      ],
      "source": [
        "install.packages(\"pacman\") #run this line if you use Google Colab"
      ]
    },
    {
      "cell_type": "code",
      "execution_count": 2,
      "id": "3e94ec2b-ab94-4ec8-8512-e370d2f22a56",
      "metadata": {
        "tags": [
          "remove_cell"
        ],
        "id": "3e94ec2b-ab94-4ec8-8512-e370d2f22a56",
        "outputId": "6547453b-7c3b-46c5-d120-20b01d2be907",
        "colab": {
          "base_uri": "https://localhost:8080/"
        }
      },
      "outputs": [
        {
          "output_type": "stream",
          "name": "stderr",
          "text": [
            "Loading required package: pacman\n",
            "\n",
            "Installing package into ‘/usr/local/lib/R/site-library’\n",
            "(as ‘lib’ is unspecified)\n",
            "\n",
            "\n",
            "stargazer installed\n",
            "\n",
            "\u001b[1mRows: \u001b[22m\u001b[34m1266\u001b[39m \u001b[1mColumns: \u001b[22m\u001b[34m994\u001b[39m\n",
            "\u001b[36m──\u001b[39m \u001b[1mColumn specification\u001b[22m \u001b[36m────────────────────────────────────────────────────────\u001b[39m\n",
            "\u001b[1mDelimiter:\u001b[22m \",\"\n",
            "\u001b[32mdbl\u001b[39m (994): lnw_2016, educ, black, hispanic, other, exp, afqt, mom_educ, dad_...\n",
            "\n",
            "\u001b[36mℹ\u001b[39m Use `spec()` to retrieve the full column specification for this data.\n",
            "\u001b[36mℹ\u001b[39m Specify the column types or set `show_col_types = FALSE` to quiet this message.\n"
          ]
        }
      ],
      "source": [
        "#packages\n",
        "require(\"pacman\")\n",
        "p_load(\"tidyverse\",\"stargazer\")\n",
        "\n",
        "nlsy <- read_csv('https://raw.githubusercontent.com/ignaciomsarmiento/datasets/main/nlsy97.csv')\n",
        "\n",
        "nlsy = nlsy  %>%   drop_na(educ) #dropea los valores faltantes (NA)"
      ]
    },
    {
      "cell_type": "markdown",
      "id": "49d73d77",
      "metadata": {
        "id": "49d73d77"
      },
      "source": [
        "We want to construct a model that predicts well out of sample, and we have potentially 994 regressors. We are going to regularize this regression using Ridge.\n",
        "\n",
        "## Ridge\n",
        "\n",
        "We first illustrate ridge regression, which can be fit using glmnet() with alpha = 0 and seeks to minimize\n",
        "\n",
        "$$\n",
        "\\sum_{i=1}^{n} \\left( y_i - \\beta_0 - \\sum_{j=1}^{p} \\beta_j x_{ij}    \\right) ^ 2 + \\lambda \\sum_{j=1}^{p} \\beta_j^2 .\n",
        "$$\n",
        "\n",
        "Notice that the intercept is not penalized.\n",
        "\n",
        "\n",
        "Ridge penalizes the squares  of the coefficients. As a result, ridge shrinks coefficients toward zero, but not all the way.\n",
        "\n",
        "We are going to use Glmnet. Glmnet is a package that fits generalized linear and similar models via penalized maximum likelihood. The regularization path is computed for the lasso or elastic net penalty at a grid of values (on the log scale) for the regularization parameter lambda. The algorithm is extremely fast!"
      ]
    },
    {
      "cell_type": "code",
      "execution_count": 3,
      "id": "8b1d97b3",
      "metadata": {
        "id": "8b1d97b3",
        "outputId": "50a5e919-fd27-471c-f795-a2e0713ef6ec",
        "colab": {
          "base_uri": "https://localhost:8080/"
        }
      },
      "outputs": [
        {
          "output_type": "stream",
          "name": "stderr",
          "text": [
            "Installing package into ‘/usr/local/lib/R/site-library’\n",
            "(as ‘lib’ is unspecified)\n",
            "\n",
            "also installing the dependencies ‘iterators’, ‘foreach’, ‘shape’, ‘RcppEigen’\n",
            "\n",
            "\n",
            "\n",
            "glmnet installed\n",
            "\n"
          ]
        }
      ],
      "source": [
        "p_load(\"glmnet\")"
      ]
    },
    {
      "cell_type": "code",
      "execution_count": 8,
      "id": "3ee45368",
      "metadata": {
        "id": "3ee45368",
        "outputId": "9ebc0891-240f-46e3-f1b3-09475c47daa0",
        "colab": {
          "base_uri": "https://localhost:8080/",
          "height": 437
        }
      },
      "outputs": [
        {
          "output_type": "display_data",
          "data": {
            "text/plain": [
              "plot without title"
            ],
            "image/png": "[encoded data removed]"
          },
          "metadata": {
            "image/png": {
              "width": 420,
              "height": 420
            }
          }
        }
      ],
      "source": [
        "# Matrix of predictos (all but lnw_2016)\n",
        "X0 <- as.matrix(nlsy  %>% select(-lnw_2016))\n",
        "\n",
        "#Vector that needs predicting\n",
        "y <- nlsy$lnw_2016\n",
        "\n",
        "\n",
        "ridge0 <- glmnet(\n",
        "  x = X0,\n",
        "  y = y,\n",
        "  alpha = 0 #ridge\n",
        ")\n",
        "\n",
        "\n",
        "plot(ridge0, xvar = \"lambda\")"
      ]
    },
    {
      "cell_type": "code",
      "execution_count": 9,
      "id": "f3787929",
      "metadata": {
        "id": "f3787929",
        "outputId": "39046f3b-e2d9-42e0-96c3-eb4a71d331bf",
        "colab": {
          "base_uri": "https://localhost:8080/",
          "height": 208
        }
      },
      "outputs": [
        {
          "output_type": "display_data",
          "data": {
            "text/html": [
              "<style>\n",
              ".list-inline {list-style: none; margin:0; padding: 0}\n",
              ".list-inline>li {display: inline-block}\n",
              ".list-inline>li:not(:last-child)::after {content: \"\\00b7\"; padding: 0 .5ex}\n",
              "</style>\n",
              "<ol class=list-inline><li>226.870937818481</li><li>206.716348985193</li><li>188.35223827548</li><li>171.619544547608</li><li>156.373337213283</li><li>142.481560918232</li><li>129.823891741893</li><li>118.290695009182</li><li>107.782075687383</li><li>98.2070131431644</li><li>89.4825727653958</li><li>81.5331876252229</li><li>74.2900039514793</li><li>67.6902847522605</li><li>61.676866417112</li><li>56.1976635931826</li><li>51.2052180468153</li><li>46.6562876030309</li><li>42.5114716024945</li><li>38.7348696318543</li><li>35.2937705715345</li><li>32.1583692676671</li><li>29.3015083741072</li><li>26.6984431284926</li><li>24.32662702495</li><li>22.165516527047</li><li>20.1963931295076</li><li>18.402201227474</li><li>16.7674003890171</li><li>15.2778307513487</li><li>13.9205903748649</li><li>12.6839234927166</li><li>11.5571186879817</li><li>10.5304161164952</li><li>9.59492297174876</li><li>8.74253645965442</li><li>7.96587361601887</li><li>7.25820735883942</li><li>6.61340822153785</li><li>6.02589126245326</li><li>5.49056769074916</li><li>5.00280078974166</li><li>4.55836575587776</li><li>4.15341310550804</li><li>3.7844353325009</li><li>3.44823652790236</li><li>3.14190469850162</li><li>2.86278654453894</li><li>2.60846447809244</li><li>2.37673568308806</li><li>2.16559303556054</li><li>1.97320771890585</li><li>1.79791338354662</li><li>1.63819171380926</li><li>1.492659277</li><li>1.36005554077268</li><li>1.23923195500057</li><li>1.12914200358471</li><li>1.02883214003201</li><li>0.937433528291762</li><li>0.854154517313389</li><li>0.778273784143763</li><li>0.709134086172862</li><li>0.646136568412704</li><li>0.588735576501924</li><li>0.536433930508734</li><li>0.488778618596203</li><li>0.445356873250438</li><li>0.405792596085846</li><li>0.369743100260839</li><li>0.336896142288351</li><li>0.30696721753213</li><li>0.279697095963679</li><li>0.254849576835764</li><li>0.232209442824541</li><li>0.211580595920051</li><li>0.192784358919071</li><li>0.175657927808659</li><li>0.160052961635673</li><li>0.145834297648406</li><li>0.132878780581489</li><li>0.121074195943895</li><li>0.110318298070706</li><li>0.100517924520074</li><li>0.0915881891447197</li><li>0.0834517468487295</li><li>0.0760381236613405</li><li>0.0692831063251174</li><li>0.0631281861114364</li><li>0.057520052045868</li><li>0.0524101291540194</li><li>0.0477541577283451</li><li>0.0435118099717327</li><li>0.0396463406974174</li><li>0.0361242690597525</li><li>0.0329150885591416</li><li>0.0299910028093329</li><li>0.0273266847784191</li><li>0.0248990574182036</li><li>0.0226870937818482</li></ol>\n"
            ],
            "text/markdown": "1. 226.870937818481\n2. 206.716348985193\n3. 188.35223827548\n4. 171.619544547608\n5. 156.373337213283\n6. 142.481560918232\n7. 129.823891741893\n8. 118.290695009182\n9. 107.782075687383\n10. 98.2070131431644\n11. 89.4825727653958\n12. 81.5331876252229\n13. 74.2900039514793\n14. 67.6902847522605\n15. 61.676866417112\n16. 56.1976635931826\n17. 51.2052180468153\n18. 46.6562876030309\n19. 42.5114716024945\n20. 38.7348696318543\n21. 35.2937705715345\n22. 32.1583692676671\n23. 29.3015083741072\n24. 26.6984431284926\n25. 24.32662702495\n26. 22.165516527047\n27. 20.1963931295076\n28. 18.402201227474\n29. 16.7674003890171\n30. 15.2778307513487\n31. 13.9205903748649\n32. 12.6839234927166\n33. 11.5571186879817\n34. 10.5304161164952\n35. 9.59492297174876\n36. 8.74253645965442\n37. 7.96587361601887\n38. 7.25820735883942\n39. 6.61340822153785\n40. 6.02589126245326\n41. 5.49056769074916\n42. 5.00280078974166\n43. 4.55836575587776\n44. 4.15341310550804\n45. 3.7844353325009\n46. 3.44823652790236\n47. 3.14190469850162\n48. 2.86278654453894\n49. 2.60846447809244\n50. 2.37673568308806\n51. 2.16559303556054\n52. 1.97320771890585\n53. 1.79791338354662\n54. 1.63819171380926\n55. 1.492659277\n56. 1.36005554077268\n57. 1.23923195500057\n58. 1.12914200358471\n59. 1.02883214003201\n60. 0.937433528291762\n61. 0.854154517313389\n62. 0.778273784143763\n63. 0.709134086172862\n64. 0.646136568412704\n65. 0.588735576501924\n66. 0.536433930508734\n67. 0.488778618596203\n68. 0.445356873250438\n69. 0.405792596085846\n70. 0.369743100260839\n71. 0.336896142288351\n72. 0.30696721753213\n73. 0.279697095963679\n74. 0.254849576835764\n75. 0.232209442824541\n76. 0.211580595920051\n77. 0.192784358919071\n78. 0.175657927808659\n79. 0.160052961635673\n80. 0.145834297648406\n81. 0.132878780581489\n82. 0.121074195943895\n83. 0.110318298070706\n84. 0.100517924520074\n85. 0.0915881891447197\n86. 0.0834517468487295\n87. 0.0760381236613405\n88. 0.0692831063251174\n89. 0.0631281861114364\n90. 0.057520052045868\n91. 0.0524101291540194\n92. 0.0477541577283451\n93. 0.0435118099717327\n94. 0.0396463406974174\n95. 0.0361242690597525\n96. 0.0329150885591416\n97. 0.0299910028093329\n98. 0.0273266847784191\n99. 0.0248990574182036\n100. 0.0226870937818482\n\n\n",
            "text/latex": "\\begin{enumerate*}\n\\item 226.870937818481\n\\item 206.716348985193\n\\item 188.35223827548\n\\item 171.619544547608\n\\item 156.373337213283\n\\item 142.481560918232\n\\item 129.823891741893\n\\item 118.290695009182\n\\item 107.782075687383\n\\item 98.2070131431644\n\\item 89.4825727653958\n\\item 81.5331876252229\n\\item 74.2900039514793\n\\item 67.6902847522605\n\\item 61.676866417112\n\\item 56.1976635931826\n\\item 51.2052180468153\n\\item 46.6562876030309\n\\item 42.5114716024945\n\\item 38.7348696318543\n\\item 35.2937705715345\n\\item 32.1583692676671\n\\item 29.3015083741072\n\\item 26.6984431284926\n\\item 24.32662702495\n\\item 22.165516527047\n\\item 20.1963931295076\n\\item 18.402201227474\n\\item 16.7674003890171\n\\item 15.2778307513487\n\\item 13.9205903748649\n\\item 12.6839234927166\n\\item 11.5571186879817\n\\item 10.5304161164952\n\\item 9.59492297174876\n\\item 8.74253645965442\n\\item 7.96587361601887\n\\item 7.25820735883942\n\\item 6.61340822153785\n\\item 6.02589126245326\n\\item 5.49056769074916\n\\item 5.00280078974166\n\\item 4.55836575587776\n\\item 4.15341310550804\n\\item 3.7844353325009\n\\item 3.44823652790236\n\\item 3.14190469850162\n\\item 2.86278654453894\n\\item 2.60846447809244\n\\item 2.37673568308806\n\\item 2.16559303556054\n\\item 1.97320771890585\n\\item 1.79791338354662\n\\item 1.63819171380926\n\\item 1.492659277\n\\item 1.36005554077268\n\\item 1.23923195500057\n\\item 1.12914200358471\n\\item 1.02883214003201\n\\item 0.937433528291762\n\\item 0.854154517313389\n\\item 0.778273784143763\n\\item 0.709134086172862\n\\item 0.646136568412704\n\\item 0.588735576501924\n\\item 0.536433930508734\n\\item 0.488778618596203\n\\item 0.445356873250438\n\\item 0.405792596085846\n\\item 0.369743100260839\n\\item 0.336896142288351\n\\item 0.30696721753213\n\\item 0.279697095963679\n\\item 0.254849576835764\n\\item 0.232209442824541\n\\item 0.211580595920051\n\\item 0.192784358919071\n\\item 0.175657927808659\n\\item 0.160052961635673\n\\item 0.145834297648406\n\\item 0.132878780581489\n\\item 0.121074195943895\n\\item 0.110318298070706\n\\item 0.100517924520074\n\\item 0.0915881891447197\n\\item 0.0834517468487295\n\\item 0.0760381236613405\n\\item 0.0692831063251174\n\\item 0.0631281861114364\n\\item 0.057520052045868\n\\item 0.0524101291540194\n\\item 0.0477541577283451\n\\item 0.0435118099717327\n\\item 0.0396463406974174\n\\item 0.0361242690597525\n\\item 0.0329150885591416\n\\item 0.0299910028093329\n\\item 0.0273266847784191\n\\item 0.0248990574182036\n\\item 0.0226870937818482\n\\end{enumerate*}\n",
            "text/plain": [
              "  [1] 226.87093782 206.71634899 188.35223828 171.61954455 156.37333721\n",
              "  [6] 142.48156092 129.82389174 118.29069501 107.78207569  98.20701314\n",
              " [11]  89.48257277  81.53318763  74.29000395  67.69028475  61.67686642\n",
              " [16]  56.19766359  51.20521805  46.65628760  42.51147160  38.73486963\n",
              " [21]  35.29377057  32.15836927  29.30150837  26.69844313  24.32662702\n",
              " [26]  22.16551653  20.19639313  18.40220123  16.76740039  15.27783075\n",
              " [31]  13.92059037  12.68392349  11.55711869  10.53041612   9.59492297\n",
              " [36]   8.74253646   7.96587362   7.25820736   6.61340822   6.02589126\n",
              " [41]   5.49056769   5.00280079   4.55836576   4.15341311   3.78443533\n",
              " [46]   3.44823653   3.14190470   2.86278654   2.60846448   2.37673568\n",
              " [51]   2.16559304   1.97320772   1.79791338   1.63819171   1.49265928\n",
              " [56]   1.36005554   1.23923196   1.12914200   1.02883214   0.93743353\n",
              " [61]   0.85415452   0.77827378   0.70913409   0.64613657   0.58873558\n",
              " [66]   0.53643393   0.48877862   0.44535687   0.40579260   0.36974310\n",
              " [71]   0.33689614   0.30696722   0.27969710   0.25484958   0.23220944\n",
              " [76]   0.21158060   0.19278436   0.17565793   0.16005296   0.14583430\n",
              " [81]   0.13287878   0.12107420   0.11031830   0.10051792   0.09158819\n",
              " [86]   0.08345175   0.07603812   0.06928311   0.06312819   0.05752005\n",
              " [91]   0.05241013   0.04775416   0.04351181   0.03964634   0.03612427\n",
              " [96]   0.03291509   0.02999100   0.02732668   0.02489906   0.02268709"
            ]
          },
          "metadata": {}
        }
      ],
      "source": [
        "ridge0$lambda"
      ]
    },
    {
      "cell_type": "markdown",
      "id": "0b5df971",
      "metadata": {
        "id": "0b5df971"
      },
      "source": [
        "## Scale Equivariance"
      ]
    },
    {
      "cell_type": "markdown",
      "id": "48194268",
      "metadata": {
        "id": "48194268"
      },
      "source": [
        "We are going to illustrate the scale problems using just `education` and `afqt` scores"
      ]
    },
    {
      "cell_type": "code",
      "execution_count": 10,
      "id": "12c5e4bb",
      "metadata": {
        "id": "12c5e4bb"
      },
      "outputs": [],
      "source": [
        "\n",
        "\n",
        "#Vector that needs predicting\n",
        "y <- nlsy$lnw_2016\n",
        "\n",
        "# Matrix of predictos (only educ and afqt)\n",
        "X <- as.matrix(nlsy  %>% select(educ,afqt))\n",
        "\n"
      ]
    },
    {
      "cell_type": "code",
      "execution_count": 11,
      "id": "f1476a2f",
      "metadata": {
        "id": "f1476a2f",
        "outputId": "07339a92-335f-42e7-aae1-618bafbd70e3",
        "colab": {
          "base_uri": "https://localhost:8080/"
        }
      },
      "outputs": [
        {
          "output_type": "stream",
          "name": "stdout",
          "text": [
            "\n",
            "============================================\n",
            "Statistic   N    Mean  St. Dev.  Min   Max  \n",
            "--------------------------------------------\n",
            "educ      1,266 14.314  2.900     8     20  \n",
            "afqt      1,266 5.325   2.915   0.000 10.000\n",
            "--------------------------------------------\n"
          ]
        }
      ],
      "source": [
        "stargazer(data.frame(X),type=\"text\")"
      ]
    },
    {
      "cell_type": "markdown",
      "id": "3e2b42d3",
      "metadata": {
        "id": "3e2b42d3"
      },
      "source": [
        "Let's run the ridge regression (we need to set the parameter `alpha` to zero)"
      ]
    },
    {
      "cell_type": "code",
      "execution_count": 17,
      "id": "7876f0c1",
      "metadata": {
        "id": "7876f0c1"
      },
      "outputs": [],
      "source": [
        "ridge <- glmnet(\n",
        "  x = X,\n",
        "  y = y,\n",
        "  alpha = 0, #ridge\n",
        "  lambda=1,\n",
        "  standarize=FALSE,\n",
        ")"
      ]
    },
    {
      "cell_type": "markdown",
      "id": "46568ae7",
      "metadata": {
        "id": "46568ae7"
      },
      "source": [
        "Let's see the coefficients we obtained"
      ]
    },
    {
      "cell_type": "code",
      "execution_count": 18,
      "id": "cef29570",
      "metadata": {
        "id": "cef29570",
        "outputId": "59a5f19f-e0dc-4efd-d401-2f91a4083c62",
        "colab": {
          "base_uri": "https://localhost:8080/",
          "height": 106
        }
      },
      "outputs": [
        {
          "output_type": "display_data",
          "data": {
            "text/plain": [
              "3 x 1 sparse Matrix of class \"dgCMatrix\"\n",
              "                    s0\n",
              "(Intercept) 2.55179582\n",
              "educ        0.02829430\n",
              "afqt        0.02874008"
            ]
          },
          "metadata": {}
        }
      ],
      "source": [
        "coef(ridge)"
      ]
    },
    {
      "cell_type": "markdown",
      "id": "646a3940",
      "metadata": {
        "id": "646a3940"
      },
      "source": [
        "Compare to OLS"
      ]
    },
    {
      "cell_type": "code",
      "execution_count": 19,
      "id": "5b6bbf3f",
      "metadata": {
        "id": "5b6bbf3f",
        "outputId": "1cd1ddb3-2987-4b4f-a8bf-41dd5020bf23",
        "colab": {
          "base_uri": "https://localhost:8080/",
          "height": 356
        }
      },
      "outputs": [
        {
          "output_type": "display_data",
          "data": {
            "text/plain": [
              "\n",
              "Call:\n",
              "lm(formula = y ~ X)\n",
              "\n",
              "Residuals:\n",
              "    Min      1Q  Median      3Q     Max \n",
              "-4.6858 -0.4214 -0.0299  0.3514  4.5426 \n",
              "\n",
              "Coefficients:\n",
              "            Estimate Std. Error t value Pr(>|t|)    \n",
              "(Intercept) 2.147862   0.121059  17.742  < 2e-16 ***\n",
              "Xeduc       0.048462   0.009813   4.939 8.92e-07 ***\n",
              "Xafqt       0.050380   0.009764   5.160 2.87e-07 ***\n",
              "---\n",
              "Signif. codes:  0 ‘***’ 0.001 ‘**’ 0.01 ‘*’ 0.05 ‘.’ 0.1 ‘ ’ 1\n",
              "\n",
              "Residual standard error: 0.8317 on 1263 degrees of freedom\n",
              "Multiple R-squared:  0.08583,\tAdjusted R-squared:  0.08438 \n",
              "F-statistic: 59.29 on 2 and 1263 DF,  p-value: < 2.2e-16\n"
            ]
          },
          "metadata": {}
        }
      ],
      "source": [
        "ols<-lm(y~X)\n",
        "summary(ols)"
      ]
    },
    {
      "cell_type": "markdown",
      "id": "aa0ad1e5",
      "metadata": {
        "id": "aa0ad1e5"
      },
      "source": [
        "### What happens if we change the scale for education?"
      ]
    },
    {
      "cell_type": "code",
      "execution_count": 26,
      "id": "ff6bfab5",
      "metadata": {
        "id": "ff6bfab5"
      },
      "outputs": [],
      "source": [
        "X[,1]<-X[,1]/1000 #divido la primer columna (educacion) por mil"
      ]
    },
    {
      "cell_type": "code",
      "execution_count": 22,
      "id": "c2a59e08",
      "metadata": {
        "id": "c2a59e08"
      },
      "outputs": [],
      "source": [
        "ridge_1000 <- glmnet(\n",
        "  x = X,\n",
        "  y = y,\n",
        "  alpha = 0, #ridge\n",
        " lambda=1,\n",
        "  standarize=FALSE,\n",
        ")"
      ]
    },
    {
      "cell_type": "code",
      "execution_count": 23,
      "id": "5cac7e0a",
      "metadata": {
        "id": "5cac7e0a",
        "outputId": "24b71283-9483-4ab5-87c3-3a7296be77e4",
        "colab": {
          "base_uri": "https://localhost:8080/",
          "height": 106
        }
      },
      "outputs": [
        {
          "output_type": "display_data",
          "data": {
            "text/plain": [
              "3 x 1 sparse Matrix of class \"dgCMatrix\"\n",
              "                      s0\n",
              "(Intercept) 2.5517958191\n",
              "educ        0.0000282943\n",
              "afqt        0.0287400764"
            ]
          },
          "metadata": {}
        }
      ],
      "source": [
        "coef(ridge_1000)"
      ]
    },
    {
      "cell_type": "code",
      "execution_count": 24,
      "id": "007b6ea8",
      "metadata": {
        "id": "007b6ea8",
        "outputId": "30027674-621a-4571-8404-296855cb3732",
        "colab": {
          "base_uri": "https://localhost:8080/",
          "height": 356
        }
      },
      "outputs": [
        {
          "output_type": "display_data",
          "data": {
            "text/plain": [
              "\n",
              "Call:\n",
              "lm(formula = y ~ X)\n",
              "\n",
              "Residuals:\n",
              "    Min      1Q  Median      3Q     Max \n",
              "-4.6858 -0.4214 -0.0299  0.3514  4.5426 \n",
              "\n",
              "Coefficients:\n",
              "             Estimate Std. Error t value Pr(>|t|)    \n",
              "(Intercept) 2.148e+00  1.211e-01  17.742  < 2e-16 ***\n",
              "Xeduc       4.846e-05  9.813e-06   4.939 8.92e-07 ***\n",
              "Xafqt       5.038e-02  9.764e-03   5.160 2.87e-07 ***\n",
              "---\n",
              "Signif. codes:  0 ‘***’ 0.001 ‘**’ 0.01 ‘*’ 0.05 ‘.’ 0.1 ‘ ’ 1\n",
              "\n",
              "Residual standard error: 0.8317 on 1263 degrees of freedom\n",
              "Multiple R-squared:  0.08583,\tAdjusted R-squared:  0.08438 \n",
              "F-statistic: 59.29 on 2 and 1263 DF,  p-value: < 2.2e-16\n"
            ]
          },
          "metadata": {}
        }
      ],
      "source": [
        "ols_1000<-lm(y~X)\n",
        "summary(ols_1000)"
      ]
    },
    {
      "cell_type": "code",
      "execution_count": 25,
      "id": "5295007e",
      "metadata": {
        "id": "5295007e",
        "outputId": "4b38c86a-017f-4709-d507-1338624b9826",
        "colab": {
          "base_uri": "https://localhost:8080/",
          "height": 34
        }
      },
      "outputs": [
        {
          "output_type": "display_data",
          "data": {
            "text/html": [
              "<strong>Xeduc:</strong> 0.0484623142517254"
            ],
            "text/markdown": "**Xeduc:** 0.0484623142517254",
            "text/latex": "\\textbf{Xeduc:} 0.0484623142517254",
            "text/plain": [
              "     Xeduc \n",
              "0.04846231 "
            ]
          },
          "metadata": {}
        }
      ],
      "source": [
        "ols_1000$coefficients[2]*1000"
      ]
    },
    {
      "cell_type": "markdown",
      "id": "bbbf0197",
      "metadata": {
        "id": "bbbf0197"
      },
      "source": [
        "## Selección de la penalización"
      ]
    },
    {
      "cell_type": "code",
      "execution_count": null,
      "id": "2d32b77b",
      "metadata": {
        "id": "2d32b77b"
      },
      "outputs": [],
      "source": [
        "p_load(\"caret\")"
      ]
    },
    {
      "cell_type": "code",
      "execution_count": null,
      "id": "19b8694c",
      "metadata": {
        "id": "19b8694c"
      },
      "outputs": [],
      "source": [
        "set.seed(123)\n",
        "fitControl <- trainControl(## 5-fold CV, 10 better\n",
        "                           method = \"cv\",\n",
        "                           number = 5)"
      ]
    },
    {
      "cell_type": "code",
      "execution_count": null,
      "id": "39055b62",
      "metadata": {
        "id": "39055b62"
      },
      "outputs": [],
      "source": [
        "ridge<-train(lnw_2016~.,\n",
        "             data=nlsy,\n",
        "             method = 'glmnet',\n",
        "             trControl = fitControl,\n",
        "             tuneGrid = expand.grid(alpha = 0, #Ridge\n",
        "                                    lambda = seq(0,20,0.1))\n",
        "              )\n"
      ]
    },
    {
      "cell_type": "code",
      "execution_count": null,
      "id": "0fa6a8c6",
      "metadata": {
        "id": "0fa6a8c6",
        "outputId": "2e94ddbd-dcbf-4bf3-aede-24949aa3d5e6"
      },
      "outputs": [
        {
          "data": {
            "image/png": "[encoded data removed]",
            "text/plain": [
              "plot without title"
            ]
          },
          "metadata": {
            "image/png": {
              "height": 420,
              "width": 420
            }
          },
          "output_type": "display_data"
        }
      ],
      "source": [
        "plot(ridge$results$lambda,\n",
        "     ridge$results$RMSE,\n",
        "     xlab=\"lambda\",\n",
        "     ylab=\"Root Mean-Squared Error (RMSE)\"\n",
        "     )"
      ]
    },
    {
      "cell_type": "code",
      "execution_count": null,
      "id": "674d3333",
      "metadata": {
        "id": "674d3333",
        "outputId": "70a86561-42d8-4c68-d201-be13e71858c1"
      },
      "outputs": [
        {
          "data": {
            "text/html": [
              "<table class=\"dataframe\">\n",
              "<caption>A data.frame: 1 × 2</caption>\n",
              "<thead>\n",
              "\t<tr><th></th><th scope=col>alpha</th><th scope=col>lambda</th></tr>\n",
              "\t<tr><th></th><th scope=col>&lt;dbl&gt;</th><th scope=col>&lt;dbl&gt;</th></tr>\n",
              "</thead>\n",
              "<tbody>\n",
              "\t<tr><th scope=row>73</th><td>0</td><td>7.2</td></tr>\n",
              "</tbody>\n",
              "</table>\n"
            ],
            "text/latex": [
              "A data.frame: 1 × 2\n",
              "\\begin{tabular}{r|ll}\n",
              "  & alpha & lambda\\\\\n",
              "  & <dbl> & <dbl>\\\\\n",
              "\\hline\n",
              "\t73 & 0 & 7.2\\\\\n",
              "\\end{tabular}\n"
            ],
            "text/markdown": [
              "\n",
              "A data.frame: 1 × 2\n",
              "\n",
              "| <!--/--> | alpha &lt;dbl&gt; | lambda &lt;dbl&gt; |\n",
              "|---|---|---|\n",
              "| 73 | 0 | 7.2 |\n",
              "\n"
            ],
            "text/plain": [
              "   alpha lambda\n",
              "73 0     7.2   "
            ]
          },
          "metadata": {},
          "output_type": "display_data"
        }
      ],
      "source": [
        "ridge$bestTune"
      ]
    },
    {
      "cell_type": "code",
      "execution_count": null,
      "id": "7d43a8a2",
      "metadata": {
        "id": "7d43a8a2",
        "outputId": "b01ad6ca-8b12-4946-e598-a32d287f7e9a"
      },
      "outputs": [
        {
          "data": {
            "text/plain": [
              "994 x 1 sparse Matrix of class \"dgCMatrix\"\n",
              "                                      s1\n",
              "(Intercept)                 2.955876e+00\n",
              "educ                        4.771209e-03\n",
              "black                      -2.512985e-02\n",
              "hispanic                    6.443190e-03\n",
              "other                      -3.324482e-02\n",
              "exp                        -3.729301e-03\n",
              "afqt                        4.863995e-03\n",
              "mom_educ                    2.614441e-03\n",
              "dad_educ                    1.779072e-03\n",
              "yhea_100_1997              -5.390930e-03\n",
              "yhea_2000_1997              4.937162e-03\n",
              "yhea_2100_1997              4.352932e-04\n",
              "yhea_2200_1997              3.194542e-05\n",
              "ysaq_284_1997               6.120416e-03\n",
              "ysaq_285_1997               7.480163e-04\n",
              "ysaq_291a_1997              6.308787e-03\n",
              "ysaq_292_1997               3.418022e-04\n",
              "ysaq_293_1997               1.157648e-03\n",
              "ysaq_294_1997               3.362526e-04\n",
              "ysaq_294a_1997              .           \n",
              "ysaq_295_1997               .           \n",
              "ysaq_296_1997               .           \n",
              "ysaq_297_1997               .           \n",
              "ysaq_354_1997              -7.110762e-04\n",
              "ysaq_355_1997              -1.079705e-03\n",
              "ysaq_356_1997              -5.057426e-04\n",
              "ysaq_357_1997              -7.642350e-04\n",
              "ysaq_373_1997               1.415025e-03\n",
              "ysaq_374_1997               3.181728e-04\n",
              "yinc_14700_1997             1.439695e-03\n",
              "yinc_14800_1997            -3.413036e-04\n",
              "youth_bothbio_01_1997       8.700788e-03\n",
              "youth_nonr1dead_01_1997    -1.285321e-02\n",
              "youth_nonr1inhh_01_1997     7.312317e-03\n",
              "youth_nonr1sex_01_1997      2.262410e-03\n",
              "youth_nonr2inhh_01_1997    -1.150841e-02\n",
              "youth_nonr2sex_01_1997     -7.017592e-03\n",
              "youth_parent_01_1997       -7.452516e-04\n",
              "youth_parentguar_01_1997    .           \n",
              "youth_parentsex_01_1997    -3.861643e-03\n",
              "p4_001_1997                -7.222150e-03\n",
              "p4_002_1997                -1.654779e-02\n",
              "p4_003_1997                -1.078412e-02\n",
              "p4_028_1997                 1.048113e-03\n",
              "p4_029_1997                 2.528196e-03\n",
              "p5_101_1997                 2.303631e-03\n",
              "p5_102_1997                -5.522025e-03\n",
              "p6_002_1997                -7.542627e-05\n",
              "p6_003_1997                -2.485594e-04\n",
              "p6_004_1997                -6.247591e-05\n",
              "p6_005_1997                -5.751449e-04\n",
              "pc8_090_1997               -2.836434e-03\n",
              "pc8_092_1997                1.120029e-03\n",
              "pc9_001_1997               -6.262411e-03\n",
              "pc9_002_1997               -5.990768e-03\n",
              "pc9_003_1997                9.028759e-03\n",
              "pc9_004_1997               -2.733268e-03\n",
              "pc9_014_1997               -7.039462e-04\n",
              "pc9_023_1997                2.140229e-03\n",
              "pc9_032_1997                6.380916e-03\n",
              "pc12_025_1997               7.008112e-05\n",
              "pc12_026_1997               4.898658e-05\n",
              "pc12_027_1997              -6.209665e-04\n",
              "pc12_028_1997              -1.701317e-04\n",
              "paryouth_nonr1dead_1997    -9.992021e-03\n",
              "paryouth_nonr1inhh_1997     7.168420e-03\n",
              "paryouth_nonr1sex_1997      4.305699e-03\n",
              "paryouth_nonr2dead_1997    -1.279422e-02\n",
              "paryouth_nonr2inhh_1997     5.905859e-03\n",
              "paryouth_nonr2sex_1997     -4.924097e-03\n",
              "paryouth_parentguar_1997    5.597325e-03\n",
              "paryouth_parentsex_1997    -3.399617e-03\n",
              "cv_bio_mom_age_child1_1997  4.750724e-04\n",
              "cv_bio_mom_age_youth_1997  -4.369196e-05\n",
              "cv_citizenship_1997         .           \n",
              "cv_yth_rel_hh_age_12_1997  -2.643652e-03\n",
              "cv_yth_rel_hh_age_2_1997   -3.556695e-03\n",
              "cv_yth_rel_hh_age_6_1997   -2.638633e-03\n",
              "cv_yth_rel_hh_current_1997 -1.708292e-03\n",
              "cv_hh_under_18_1997         2.922759e-04\n",
              "cv_hh_under_6_1997         -2.270080e-03\n",
              "fp_ymfrelat_1997           -8.362085e-07\n",
              "fp_yfmrelat_1997           -7.928285e-07\n",
              "fp_yhroutin_1997           -8.747872e-05\n",
              "fp_ymmonit_1997            -1.311562e-04\n",
              "fp_yfmonit_1997            -2.131058e-04\n",
              "fp_ynrmmonit_1997          -1.061561e-03\n",
              "fp_ynrfmonit_1997           8.615235e-06\n",
              "fp_yhlimits_1997           -2.230416e-04\n",
              "fp_phlimits_1997            4.659671e-05\n",
              "fp_yhbroked_1997           -7.002117e-04\n",
              "fp_phbroked_1997           -3.005163e-05\n",
              "fp_ympstyl_1997             9.178113e-04\n",
              "fp_yfpstyl_1997             1.067545e-03\n",
              "fp_ynrmpstyl_1997           3.902275e-04\n",
              "fp_ynrfpstyl_1997           1.270256e-03\n",
              "fp_pprelig_1997            -4.791115e-06\n",
              "fp_adhriski_1997           -1.561532e-05\n",
              "fp_adpenvri_1997           -4.568862e-05\n",
              "fp_adenrchi_1997           -4.164773e-04\n",
              "fp_yyfbehs_1997             .           \n",
              "fp_yymbehs_1997            -8.978058e-04\n",
              "fp_pyfbehs_1997            -2.631485e-03\n",
              "fp_pymbehs_1997            -3.269483e-04\n",
              "fp_yycrimi_1997            -4.136302e-04\n",
              "fp_yysubsi_1997             4.298290e-04\n",
              "cvc_govnt_prg_yr_80_xrnd   -3.164518e-03\n",
              "cvc_govnt_prg_yr_81_xrnd   -3.165826e-03\n",
              "cvc_govnt_prg_yr_82_xrnd   -3.167956e-03\n",
              "cvc_govnt_prg_yr_83_xrnd   -6.212133e-03\n",
              "cvc_govnt_prg_yr_84_xrnd   -5.821123e-03\n",
              "cvc_govnt_prg_yr_85_xrnd   -4.093119e-03\n",
              "cvc_govnt_prg_yr_86_xrnd   -2.239073e-03\n",
              "cvc_govnt_prg_yr_87_xrnd   -2.240093e-03\n",
              "cvc_govnt_prg_yr_88_xrnd   -2.241361e-03\n",
              "cvc_govnt_prg_yr_89_xrnd   -2.242802e-03\n",
              "cvc_govnt_prg_yr_90_xrnd   -2.244350e-03\n",
              "cvc_govnt_prg_yr_91_xrnd   -2.245948e-03\n",
              "cvc_govnt_prg_yr_92_xrnd   -1.883948e-03\n",
              "cvc_govnt_prg_yr_93_xrnd   -1.743692e-03\n",
              "cvc_govnt_prg_yr_94_xrnd   -2.203952e-03\n",
              "cvc_govnt_prg_yr_95_xrnd   -2.308299e-03\n",
              "cvc_govnt_prg_yr_96_xrnd   -3.482324e-03\n",
              "cvc_govnt_prg_yr_97_xrnd   -3.684633e-03\n",
              "`_Icv_census_1`             3.636316e-03\n",
              "`_Icv_census_2`            -1.172840e-02\n",
              "`_Icv_census_4`             5.482213e-03\n",
              "mom_educ2                   9.329952e-05\n",
              "mom_educHS                  1.040914e-02\n",
              "mom_educCOLL                1.573306e-02\n",
              "dad_educ2                   6.148122e-05\n",
              "dad_educHS                  2.356094e-03\n",
              "dad_educCOLL                1.241132e-02\n",
              "`_BGyyhea_10_2`             5.214538e-04\n",
              "`_BGyyhea_10_3`            -1.641997e-02\n",
              "`_BGyyhea_10_4`             1.223082e-02\n",
              "`_BGyyhea_10_5`            -6.789705e-03\n",
              "`_BGyyhea_20_1`            -4.782490e-03\n",
              "`_BGyyhea_20_2`            -2.739490e-02\n",
              "`_BGyyhea_20_3`            -1.216167e-01\n",
              "`_BGyyhea_20_4`             5.628100e-04\n",
              "`_BGyyhea_20_6`             1.004188e-02\n",
              "`_BGyyhea_20_7`             .           \n",
              "`_BGyyhea_20_8`             7.706350e-02\n",
              "`_BGyyhea_21_1`            -4.783664e-03\n",
              "`_BGyyhea_21_2`            -2.130461e-02\n",
              "`_BGyyhea_21_4`            -5.995726e-03\n",
              "`_BGyyhea_21_5`             2.931842e-03\n",
              "`_BGyyhea_21_6`            -1.019718e-02\n",
              "`_BGyyhea_21_7`            -6.894206e-03\n",
              "`_BGyyhea_21_8`            -9.384322e-03\n",
              "`_BGyyhea_21_9`            -2.090325e-03\n",
              "`_BGyyhea_21_10`            9.966493e-04\n",
              "`_BGyyhea_21_11`           -6.121773e-03\n",
              "`_BGyyhea_21_12`           -1.184982e-02\n",
              "`_BGyyhea_21_13`            1.992993e-02\n",
              "`_BGyyhea_21_14`            1.170903e-02\n",
              "`_BGyyhea_22_1`            -4.784543e-03\n",
              "`_BGyyhea_22_2`            -8.110239e-02\n",
              "`_BGyyhea_22_3`            -2.726939e-02\n",
              "`_BGyyhea_22_4`             1.858887e-01\n",
              "`_BGyyhea_22_5`             1.262299e-02\n",
              "`_BGyyhea_22_6`             7.665706e-02\n",
              "`_BGyyhea_22_7`             .           \n",
              "`_BGyyhea_22_8`            -5.125875e-02\n",
              "`_BGyyhea_22_9`            -3.186356e-02\n",
              "`_BGyyhea_22_10`            2.985447e-02\n",
              "`_BGyyhea_22_11`           -3.889692e-02\n",
              "`_BGyyhea_22_12`            7.178074e-03\n",
              "`_BGyyhea_22_13`            7.455004e-03\n",
              "`_BGyyhea_22_14`            .           \n",
              "`_BGyyhea_22_15`            4.965124e-03\n",
              "`_BGyyhea_22_16`           -2.076713e-02\n",
              "`_BGyyhea_22_17`            2.649367e-02\n",
              "`_BGyyhea_22_18`           -3.618873e-02\n",
              "`_BGyyhea_22_19`            6.063615e-02\n",
              "`_BGyyhea_22_20`           -3.128225e-02\n",
              "`_BGyyhea_22_21`           -1.417974e-02\n",
              "`_BGyyhea_22_22`            1.397794e-01\n",
              "`_BGyyhea_22_23`           -3.672086e-02\n",
              "`_BGyyhea_22_24`           -1.407317e-03\n",
              "`_BGyyhea_22_25`            4.008967e-03\n",
              "`_BGyyhea_22_26`           -5.634233e-02\n",
              "`_BGyyhea_22_27`            2.869444e-02\n",
              "`_BGyyhea_22_28`           -2.978273e-04\n",
              "`_BGyyhea_22_29`            3.152624e-02\n",
              "`_BGyyhea_22_30`           -1.336356e-02\n",
              "`_BGyyhea_22_31`           -6.814133e-03\n",
              "`_BGyyhea_22_32`           -8.175993e-03\n",
              "`_BGyyhea_22_33`            9.159522e-04\n",
              "`_BGyyhea_22_34`           -1.261516e-02\n",
              "`_BGyyhea_22_35`           -1.405992e-02\n",
              "`_BGyyhea_22_36`            4.210059e-02\n",
              "`_BGyyhea_22_37`           -1.866789e-02\n",
              "`_BGyyhea_22_38`            8.752693e-03\n",
              "`_BGyyhea_22_39`           -3.554392e-02\n",
              "`_BGyyhea_22_40`           -3.403332e-02\n",
              "`_BGyyhea_22_41`            1.709134e-03\n",
              "`_BGyyhea_22_42`            8.648204e-04\n",
              "`_BGyyhea_22_43`            1.765809e-02\n",
              "`_BGyyhea_22_44`            5.355899e-03\n",
              "`_BGyyhea_22_45`           -9.296133e-03\n",
              "`_BGyyhea_22_46`           -1.251717e-03\n",
              "`_BGyyhea_22_47`            2.874469e-02\n",
              "`_BGyyhea_22_48`           -9.975517e-03\n",
              "`_BGyyhea_22_49`            1.476275e-01\n",
              "`_BGyyhea_22_50`           -6.299525e-03\n",
              "`_BGyyhea_22_51`           -5.589476e-03\n",
              "`_BGyyhea_22_52`           -4.233030e-02\n",
              "`_BGyyhea_22_53`           -2.617321e-02\n",
              "`_BGyyhea_22_54`            2.653327e-02\n",
              "`_BGyyhea_22_55`           -1.129729e-02\n",
              "`_BGyyhea_22_56`           -7.199947e-03\n",
              "`_BGyyhea_22_57`            9.333832e-03\n",
              "`_BGyyhea_22_58`           -2.888000e-02\n",
              "`_BGyyhea_22_59`           -5.124418e-02\n",
              "`_BGyyhea_22_60`            9.444604e-03\n",
              "`_BGyyhea_22_61`           -9.380243e-03\n",
              "`_BGyyhea_22_62`           -3.336043e-02\n",
              "`_BGyyhea_22_63`           -3.439690e-04\n",
              "`_BGyyhea_22_64`            6.520591e-02\n",
              "`_BGyyhea_22_66`           -5.089673e-02\n",
              "`_BGyyhea_22_67`           -2.923326e-02\n",
              "`_BGyyhea_22_68`            3.892211e-02\n",
              "`_BGyyhea_22_69`            3.304109e-03\n",
              "`_BGyyhea_22_70`            5.856397e-03\n",
              "`_BGyyhea_22_71`           -7.104535e-03\n",
              "`_BGyyhea_22_72`            2.161995e-02\n",
              "`_BGyyhea_22_73`           -6.094642e-02\n",
              "`_BGyyhea_22_74`           -5.190723e-02\n",
              "`_BGyyhea_22_75`            1.414593e-02\n",
              "`_BGyyhea_22_76`           -9.576890e-03\n",
              "`_BGyyhea_22_77`            3.657245e-02\n",
              "`_BGyyhea_22_78`           -8.842520e-03\n",
              "`_BGyyhea_22_79`            1.832896e-02\n",
              "`_BGyyhea_22_80`           -3.315168e-02\n",
              "`_BGyyhea_22_81`            8.041880e-04\n",
              "`_BGyyhea_22_82`           -1.982402e-02\n",
              "`_BGyyhea_22_83`           -1.366128e-02\n",
              "`_BGyyhea_22_84`            9.801308e-03\n",
              "`_BGyyhea_22_85`           -9.570365e-03\n",
              "`_BGyyhea_22_86`           -1.862916e-02\n",
              "`_BGyyhea_22_87`            1.241209e-02\n",
              "`_BGyyhea_22_88`            2.886164e-02\n",
              "`_BGyyhea_22_89`            1.683226e-02\n",
              "`_BGyyhea_22_90`           -4.523298e-02\n",
              "`_BGyyhea_22_91`            4.117646e-02\n",
              "`_BGyyhea_22_92`            8.138662e-03\n",
              "`_BGyyhea_22_93`           -3.326341e-02\n",
              "`_BGyyhea_22_94`            4.001683e-03\n",
              "`_BGyyhea_22_95`            .           \n",
              "`_BGyyhea_22_96`           -5.448077e-02\n",
              "`_BGyyhea_22_97`            1.783180e-01\n",
              "`_BGyyhea_22_98`            1.099409e-01\n",
              "`_BGyyhea_22_99`            4.131630e-02\n",
              "`_BGyyhea_22_100`           1.737269e-01\n",
              "`_BGyyhea_22_101`          -1.137098e-01\n",
              "`_BGyyhea_22_102`           5.585175e-03\n",
              "`_BGyyhea_22_103`           .           \n",
              "`_BGyyhea_22_104`           1.044770e-02\n",
              "`_BGyyhea_22_105`          -4.320887e-02\n",
              "`_BGyyhea_22_106`          -9.261290e-02\n",
              "`_BGyyhea_22_107`          -2.441137e-02\n",
              "`_BGyyhea_22_108`           1.078518e-02\n",
              "`_BGyyhea_22_109`           4.366129e-02\n",
              "`_BGyyhea_22_110`          -2.180630e-02\n",
              "`_BGyyhea_22_111`           1.951510e-02\n",
              "`_BGyyhea_22_112`           9.084362e-04\n",
              "`_BGyyhea_22_113`           6.499828e-02\n",
              "`_BGyyhea_22_114`           2.230362e-02\n",
              "`_BGyyhea_22_115`          -9.003708e-04\n",
              "`_BGyyhea_22_116`           4.361801e-02\n",
              "`_BGyyhea_22_117`          -8.452867e-02\n",
              "`_BGyyhea_22_118`           1.415055e-02\n",
              "`_BGyyhea_22_119`           2.496180e-02\n",
              "`_BGyyhea_22_120`           4.318872e-02\n",
              "`_BGyyhea_22_121`           2.206315e-02\n",
              "`_BGyyhea_22_122`           1.779467e-02\n",
              "`_BGyyhea_22_123`          -7.998180e-02\n",
              "`_BGyyhea_22_124`           5.283979e-03\n",
              "`_BGyyhea_22_125`          -6.734626e-02\n",
              "`_BGyyhea_22_126`          -4.706730e-02\n",
              "`_BGyyhea_22_127`          -2.283709e-02\n",
              "`_BGyyhea_22_128`           .           \n",
              "`_BGyyhea_22_129`          -1.094412e-02\n",
              "`_BGyyhea_22_130`          -5.939638e-02\n",
              "`_BGyyhea_22_131`          -4.470051e-02\n",
              "`_BGyyhea_22_132`           1.000748e-02\n",
              "`_BGyyhea_22_133`          -7.478039e-02\n",
              "`_BGyyhea_22_134`           2.394536e-03\n",
              "`_BGyyhea_22_135`           9.118333e-03\n",
              "`_BGyyhea_22_136`           2.489530e-03\n",
              "`_BGyyhea_22_137`          -2.492438e-02\n",
              "`_BGyyhea_22_138`          -4.690871e-02\n",
              "`_BGyyhea_22_139`          -7.707079e-02\n",
              "`_BGyyhea_22_140`           3.427823e-03\n",
              "`_BGyyhea_22_141`           .           \n",
              "`_BGyyhea_22_142`           .           \n",
              "`_BGyyhea_22_143`          -3.286775e-02\n",
              "`_BGyyhea_22_144`          -4.647553e-02\n",
              "`_BGyyhea_22_145`          -6.981931e-02\n",
              "`_BGyyhea_22_146`          -5.981547e-02\n",
              "`_BGyyhea_22_147`           3.666606e-02\n",
              "`_BGyyhea_22_148`           .           \n",
              "`_BGyyhea_22_149`          -3.608303e-02\n",
              "`_BGyyhea_22_150`          -2.744109e-02\n",
              "`_BGyyhea_22_151`          -8.727877e-02\n",
              "`_BGyyhea_22_152`          -9.769116e-02\n",
              "`_BGyyhea_22_153`          -5.913961e-02\n",
              "`_BGyyhea_22_154`           2.759190e-02\n",
              "`_BGyyhea_22_155`          -7.732975e-02\n",
              "`_BGyyhea_22_156`          -1.608666e-02\n",
              "`_BGypc8_090_1`            -2.213718e-02\n",
              "`_BGypc8_090_2`             .           \n",
              "`_BGypc8_090_4`            -1.739984e-02\n",
              "`_BGypc8_092_1`            -2.213793e-02\n",
              "`_BGypc8_092_2`             2.427081e-02\n",
              "`_BGypc8_092_4`             1.068080e-03\n",
              "`_BGypc9_001_1`            -2.214235e-02\n",
              "`_BGypc9_001_3`            -1.959185e-02\n",
              "`_BGypc9_001_4`            -3.036564e-03\n",
              "`_BGypc9_001_5`            -5.165214e-03\n",
              "`_BGypc9_001_6`            -1.115496e-02\n",
              "`_BGypc9_002_1`            -2.214924e-02\n",
              "`_BGypc9_002_2`            -7.810167e-02\n",
              "`_BGypc9_002_4`            -1.992156e-02\n",
              "`_BGypc9_003_1`            -2.215830e-02\n",
              "`_BGypc9_003_3`             1.137380e-02\n",
              "`_BGypc9_004_1`            -2.216859e-02\n",
              "`_BGypc9_004_3`            -8.061376e-03\n",
              "`_BGypc9_014_1`            -2.217928e-02\n",
              "`_BGypc9_014_3`            -3.466576e-03\n",
              "`_BGypc9_023_1`            -2.218982e-02\n",
              "`_BGypc9_023_3`            -1.224683e-02\n",
              "`_BGypc9_032_1`            -2.219963e-02\n",
              "`_BGypc9_032_3`             7.091920e-03\n",
              "`_BGypc12_02_2`             .           \n",
              "`_BGypc12_02_3`            -4.864802e-03\n",
              "`_BGypc12_02_4`             8.205871e-03\n",
              "`_BGypc12_02_5`            -7.060638e-03\n",
              "`_BGypc12_02a2`            -8.719202e-03\n",
              "`_BGypc12_02a3`            -1.833011e-03\n",
              "`_BGypc12_02a4`             3.459232e-03\n",
              "`_BGypc12_02a5`            -6.153311e-03\n",
              "`_BGypc12_02b2`             .           \n",
              "`_BGypc12_02b3`             1.042215e-02\n",
              "`_BGypc12_02b4`            -2.438431e-02\n",
              "`_BGypc12_02b5`            -3.985191e-02\n",
              "`_BGypc12_02c2`             .           \n",
              "`_BGypc12_02c3`             3.490169e-03\n",
              "`_BGypc12_02c4`            -7.961599e-03\n",
              "`_BGypc12_02c5`             6.966436e-03\n",
              "`_BGyysaq_28_1`            -3.860685e-02\n",
              "`_BGyysaq_28_2`            -2.864578e-02\n",
              "`_BGyysaq_28_3`            -5.406884e-03\n",
              "`_BGyysaq_28_5`             3.694473e-03\n",
              "`_BGyysaq_28a1`            -2.864581e-02\n",
              "`_BGyysaq_28a2`             .           \n",
              "`_BGyysaq_28a3`            -4.438341e-03\n",
              "`_BGyysaq_28a4`            -2.206746e-02\n",
              "`_BGyysaq_28a5`             3.170165e-03\n",
              "`_BGyysaq_28a6`            -1.181772e-02\n",
              "`_BGyysaq_28a7`            -2.831074e-02\n",
              "`_BGyysaq_28a8`             1.760884e-02\n",
              "`_BGyysaq_28a9`             1.341649e-02\n",
              "`_BGyysaq_28a10`            9.274575e-03\n",
              "`_BGyysaq_28a12`           -1.516945e-03\n",
              "`_BGyysaq_28a13`            2.564420e-03\n",
              "`_BGyysaq_28a14`           -3.635285e-02\n",
              "`_BGyysaq_29_1`            -3.994723e-02\n",
              "`_BGyysaq_29_2`            -5.905582e-03\n",
              "`_BGyysaq_29a2`            -5.832397e-03\n",
              "`_BGyysaq_29a3`            -1.360352e-02\n",
              "`_BGyysaq_29a4`            -1.260800e-02\n",
              "`_BGyysaq_29a5`             1.106750e-02\n",
              "`_BGyysaq_29a6`             8.746967e-03\n",
              "`_BGyysaq_29a7`            -1.873378e-03\n",
              "`_BGyysaq_29a8`             1.830252e-02\n",
              "`_BGyysaq_29a9`            -5.616402e-03\n",
              "`_BGyysaq_29a10`           -2.751621e-02\n",
              "`_BGyysaq_29a11`            .           \n",
              "`_BGyysaq_29b2`            -1.360378e-02\n",
              "`_BGyysaq_29b3`            -6.988661e-05\n",
              "`_BGyysaq_29b4`            -2.406672e-03\n",
              "`_BGyysaq_29b5`            -9.993870e-05\n",
              "`_BGyysaq_29b6`            -3.258766e-03\n",
              "`_BGyysaq_29b7`             2.518049e-02\n",
              "`_BGyysaq_29b8`            -1.930613e-02\n",
              "`_BGyysaq_29c2`            -1.394659e-02\n",
              "`_BGyysaq_29c3`            -4.173304e-02\n",
              "`_BGyysaq_29c4`             7.242342e-03\n",
              "`_BGyysaq_29c5`             1.730081e-03\n",
              "`_BGyysaq_29c6`            -9.398463e-03\n",
              "`_BGyysaq_29c7`             9.168288e-03\n",
              "`_BGyysaq_29c8`            -1.750667e-02\n",
              "`_BGyysaq_29c9`             8.617692e-03\n",
              "`_BGyysaq_29c10`           -1.207562e-02\n",
              "`_BGyysaq_29c11`            4.661345e-02\n",
              "`_BGyysaq_29c12`           -3.245259e-02\n",
              "`_BGyysaq_29c13`            2.109307e-02\n",
              "`_BGyysaq_29c14`            2.040154e-02\n",
              "`_BGyysaq_29c15`            1.817203e-02\n",
              "`_BGyysaq_29c16`            8.163234e-02\n",
              "`_BGyysaq_29c17`           -4.557083e-03\n",
              "`_BGyysaq_29c18`            8.816235e-03\n",
              "`_BGyysaq_29c19`           -2.553639e-02\n",
              "`_BGyysaq_29c20`           -3.219803e-02\n",
              "`_BGyysaq_29c21`            3.922249e-03\n",
              "`_BGyysaq_29c22`            1.468700e-02\n",
              "`_BGyysaq_29c23`            4.147084e-02\n",
              "`_BGyysaq_29c24`            2.425674e-02\n",
              "`_BGyysaq_29c25`            1.029760e-01\n",
              "`_BGyysaq_29c26`            9.224205e-02\n",
              "`_BGyysaq_29c27`            4.502530e-02\n",
              "`_BGyysaq_29c28`            3.106688e-02\n",
              "`_BGyysaq_29c29`            .           \n",
              "`_BGyysaq_29c30`            .           \n",
              "`_BGyysaq_29c31`           -1.553551e-02\n",
              "`_BGyysaq_29c32`           -6.362537e-02\n",
              "`_BGyysaq_29c33`            .           \n",
              "`_BGyysaq_29c34`            .           \n",
              "`_BGyysaq_29c35`           -7.125581e-02\n",
              "`_BGyysaq_29c36`            2.902997e-04\n",
              "`_BGyysaq_29c37`            7.007048e-03\n",
              "`_BGyysaq_29c38`            .           \n",
              "`_BGyysaq_29c39`           -5.659325e-02\n",
              "`_BGyysaq_35_1`             4.137500e-03\n",
              "`_BGyysaq_35_2`             2.894839e-02\n",
              "`_BGyysaq_35_3`            -1.693017e-02\n",
              "`_BGyysaq_35_4`            -8.708683e-03\n",
              "`_BGyysaq_35_5`             1.608277e-03\n",
              "`_BGyysaq_35_7`            -1.683168e-02\n",
              "`_BGyysaq_35a2`            -1.693781e-02\n",
              "`_BGyysaq_35a3`             1.067691e-02\n",
              "`_BGyysaq_35a4`             2.069260e-03\n",
              "`_BGyysaq_35a5`            -1.248412e-02\n",
              "`_BGyysaq_35a6`            -1.367908e-02\n",
              "`_BGyysaq_35b2`            -4.467443e-02\n",
              "`_BGyysaq_35b3`            -4.949403e-03\n",
              "`_BGyysaq_35b4`            -1.115424e-02\n",
              "`_BGyysaq_35b5`            -6.595497e-03\n",
              "`_BGyysaq_35b6`             5.752727e-03\n",
              "`_BGyysaq_35b7`            -7.299968e-03\n",
              "`_BGyysaq_35c2`            -1.695114e-02\n",
              "`_BGyysaq_35c3`             5.224216e-03\n",
              "`_BGyysaq_35c4`            -3.380767e-03\n",
              "`_BGyysaq_35c5`            -7.884047e-03\n",
              "`_BGyysaq_35c6`             1.137179e-02\n",
              "`_BGyysaq_37_1`            -6.910402e-02\n",
              "`_BGyysaq_37_2`            -1.695748e-02\n",
              "`_BGyysaq_37_3`            -1.991013e-02\n",
              "`_BGyysaq_37_4`             4.309760e-03\n",
              "`_BGyysaq_37_6`             2.911802e-03\n",
              "`_BGyysaq_37_7`            -1.156187e-02\n",
              "`_BGyysaq_37a1`             1.306219e-02\n",
              "`_BGyysaq_37a3`             1.469910e-03\n",
              "`_BGyysaq_37a4`            -3.792655e-03\n",
              "`_BGyysaq_37a5`             2.923388e-03\n",
              "`_BGyfp_yymb_2`             6.694151e-03\n",
              "`_BGyfp_yymb_3`            -8.197128e-03\n",
              "`_BGyfp_yymb_4`             6.514687e-03\n",
              "`_BGyfp_yymb_5`            -3.632580e-03\n",
              "`_BGyfp_yymb_6`             4.760532e-03\n",
              "`_BGyfp_yymb_7`            -4.128075e-02\n",
              "`_BGyfp_yymb_8`            -1.029631e-02\n",
              "`_BGyfp_yymb_9`             1.458908e-02\n",
              "`_BGyfp_yymb_10`            .           \n",
              "`_BGyfp_yycr_1`            -1.696484e-02\n",
              "`_BGyfp_yycr_3`            -1.195799e-02\n",
              "`_BGyfp_yycr_4`             7.001287e-03\n",
              "`_BGyfp_yycr_5`            -1.604908e-04\n",
              "`_BGyfp_yycr_6`             4.673226e-03\n",
              "`_BGyfp_yycr_7`            -1.978746e-03\n",
              "`_BGyfp_yycr_8`            -5.263815e-03\n",
              "`_BGyfp_yycr_9`            -6.561915e-03\n",
              "`_BGyfp_yycr_10`            8.393039e-03\n",
              "`_BGyfp_yycr_11`           -1.070146e-02\n",
              "`_BGyfp_yycr_12`           -7.967781e-02\n",
              "`_BGyfp_yysu_1`            -1.529463e-02\n",
              "`_BGyfp_yysu_3`             2.964761e-03\n",
              "`_BGyfp_yysu_4`             6.353128e-03\n",
              "`_BGyfp_yysu_5`            -4.090978e-03\n",
              "`_BGyfp_yhro_2`            -5.454222e-02\n",
              "`_BGyfp_yhro_3`             .           \n",
              "`_BGyfp_yhro_4`             1.734776e-02\n",
              "`_BGyfp_yhro_5`             3.153294e-02\n",
              "`_BGyfp_yhro_6`             2.643505e-02\n",
              "`_BGyfp_yhro_7`             1.302705e-02\n",
              "`_BGyfp_yhro_8`            -4.201031e-02\n",
              "`_BGyfp_yhro_9`            -1.920633e-02\n",
              "`_BGyfp_yhro_10`           -9.128769e-03\n",
              "`_BGyfp_yhro_11`           -2.578299e-02\n",
              "`_BGyfp_yhro_12`            6.346457e-03\n",
              "`_BGyfp_yhro_13`            1.011655e-02\n",
              "`_BGyfp_yhro_14`            1.077574e-02\n",
              "`_BGyfp_yhro_15`            5.566250e-03\n",
              "`_BGyfp_yhro_16`            1.042181e-02\n",
              "`_BGyfp_yhro_17`            6.357722e-03\n",
              "`_BGyfp_yhro_18`            7.592375e-03\n",
              "`_BGyfp_yhro_19`           -1.080552e-02\n",
              "`_BGyfp_yhro_20`           -3.273413e-03\n",
              "`_BGyfp_yhro_21`           -4.466314e-02\n",
              "`_BGyfp_yhro_22`            3.516658e-03\n",
              "`_BGyfp_yhro_23`            1.058066e-03\n",
              "`_BGyfp_yhro_24`           -2.207102e-02\n",
              "`_BGyfp_yhro_25`            7.681331e-03\n",
              "`_BGyfp_yhro_26`            2.388047e-02\n",
              "`_BGyfp_yhro_27`            4.134044e-02\n",
              "`_BGyfp_yhro_28`            4.389325e-02\n",
              "`_BGyfp_yhro_29`           -5.660816e-03\n",
              "`_BGyfp_yhro_30`           -1.537630e-02\n",
              "`_BGyfp_yhli_2`            -1.496850e-02\n",
              "`_BGyfp_yhli_3`             1.768465e-02\n",
              "`_BGyfp_yhli_4`            -2.239969e-02\n",
              "`_BGyfp_yhli_5`             3.579751e-03\n",
              "`_BGyfp_yhli_6`             4.012865e-03\n",
              "`_BGyfp_yhli_7`             1.302696e-02\n",
              "`_BGyfp_yhli_8`            -1.082558e-02\n",
              "`_BGyfp_yhbr_2`             4.836768e-03\n",
              "`_BGyfp_yhbr_3`            -9.361429e-03\n",
              "`_BGyfp_pyfb_2`            -6.338387e-03\n",
              "`_BGyfp_pyfb_3`            -2.143818e-02\n",
              "`_BGyfp_pymb_2`            -3.469339e-03\n",
              "`_BGyfp_pymb_3`             3.816390e-03\n",
              "`_BGyfp_pymb_4`             1.733292e-02\n",
              "`_BGyfp_pymb_5`            -1.600719e-02\n",
              "`_BGyfp_pymb_6`             8.740677e-03\n",
              "`_BGyfp_pymb_7`            -3.957908e-02\n",
              "`_BGyfp_pymb_8`            -2.984329e-02\n",
              "`_BGyfp_pymb_9`            -8.992932e-02\n",
              "`_BGyfp_pymb_10`            .           \n",
              "`_BGyfp_phli_2`            -3.671840e-02\n",
              "`_BGyfp_phli_3`            -2.112809e-02\n",
              "`_BGyfp_phli_4`            -1.372408e-02\n",
              "`_BGyfp_phli_5`             9.901323e-03\n",
              "`_BGyfp_phli_6`             8.260244e-04\n",
              "`_BGyfp_phli_7`            -8.889673e-03\n",
              "`_BGyfp_phli_8`             6.607385e-03\n",
              "`_BGyfp_phbr_2`             3.026029e-04\n",
              "`_BGyfp_phbr_3`            -5.838011e-04\n",
              "`_BGyyinc_14_2`            -3.677934e-02\n",
              "`_BGyyinc_14_3`             1.222775e-02\n",
              "`_BGyyinc_14_4`            -2.619288e-02\n",
              "`_BGyyinc_14_5`             1.380975e-02\n",
              "`_BGyyinc_14a2`             1.111870e-02\n",
              "`_BGyyinc_14a3`            -4.446910e-02\n",
              "`_BGyp6_002__1`             2.857157e-06\n",
              "`_BGyp6_002__2`             .           \n",
              "`_BGyp6_002__3`            -1.841993e-03\n",
              "`_BGyp6_002__4`             4.901087e-03\n",
              "`_BGyp6_002__6`            -1.299741e-03\n",
              "`_BGyp6_003__1`             2.960188e-08\n",
              "`_BGyp6_003__2`             3.290117e-02\n",
              "`_BGyp6_003__3`             2.482807e-03\n",
              "`_BGyp6_003__5`            -7.826394e-04\n",
              "`_BGyp6_003__6`            -1.392666e-02\n",
              "`_BGyp6_004__1`            -3.063271e-06\n",
              "`_BGyp6_004__2`             .           \n",
              "`_BGyp6_004__3`             7.624160e-03\n",
              "`_BGyp6_004__4`             8.199661e-03\n",
              "`_BGyp6_004__6`             6.059759e-03\n",
              "`_BGyp6_005__1`            -6.089709e-06\n",
              "`_BGyp6_005__2`             .           \n",
              "`_BGyp6_005__3`             1.448596e-02\n",
              "`_BGyp6_005__5`            -6.312008e-03\n",
              "`_BGyp6_005__6`            -5.305345e-03\n",
              "`_BGpyouth_b_0`            -8.699069e-03\n",
              "`_BGpyouth_n_1`             2.596398e-02\n",
              "`_BGpyouth_n_3`            -1.322772e-02\n",
              "`_BGpyouth_na0`            -7.318670e-03\n",
              "`_BGpyouth_nb2`             2.260760e-03\n",
              "`_BGpyouth_nc1`            -1.150747e-02\n",
              "`_BGpyouth_nd1`             5.305891e-03\n",
              "`_BGpyouth_nd2`            -3.389765e-02\n",
              "`_BGpyouth_p_2`            -3.493676e-04\n",
              "`_BGpyouth_p_3`             .           \n",
              "`_BGpyouth_p_4`            -1.561904e-02\n",
              "`_BGpyouth_p_5`            -7.788815e-03\n",
              "`_BGpyouth_p_6`             2.494090e-02\n",
              "`_BGpyouth_p_7`            -8.548780e-03\n",
              "`_BGpyouth_p_17`           -1.666044e-02\n",
              "`_BGpyouth_p_18`           -2.899908e-02\n",
              "`_BGpyouth_pa1`             3.860739e-03\n",
              "`_BGpparyout_1`            -2.806903e-02\n",
              "`_BGpparyout_2`             2.596003e-02\n",
              "`_BGpparyout_4`            -1.323252e-02\n",
              "`_BGpparyouta1`            -2.808157e-02\n",
              "`_BGpparyouta2`            -7.232578e-03\n",
              "`_BGpparyoutb1`            -2.809245e-02\n",
              "`_BGpparyoutb3`             4.152195e-03\n",
              "`_BGpparyoutc1`            -2.810293e-02\n",
              "`_BGpparyoutc2`             3.408728e-02\n",
              "`_BGpparyoutc4`            -3.123716e-01\n",
              "`_BGpparyoutd1`            -2.811154e-02\n",
              "`_BGpparyoutd3`            -1.151052e-02\n",
              "`_BGpparyoute1`            -2.811785e-02\n",
              "`_BGpparyoute3`             5.300938e-03\n",
              "`_BGpparyoute4`            -3.389703e-02\n",
              "`_BGpparyoutf1`            -2.812151e-02\n",
              "`_BGpparyoutg1`            -2.812242e-02\n",
              "`_BGpparyoutg2`             5.285132e-03\n",
              "`_BGpcv_yth__1`            -2.222893e-02\n",
              "`_BGpcv_yth__2`             5.676188e-02\n",
              "`_BGpcv_yth__3`             9.061306e-02\n",
              "`_BGpcv_yth__5`            -6.277833e-03\n",
              "`_BGpcv_yth__6`             1.361430e-02\n",
              "`_BGpcv_yth__7`            -9.670639e-03\n",
              "`_BGpcv_yth__8`            -3.324146e-03\n",
              "`_BGpcv_yth__9`            -6.984764e-02\n",
              "`_BGpcv_yth__10`           -2.536057e-02\n",
              "`_BGpcv_yth__11`           -7.795265e-03\n",
              "`_BGpcv_yth__12`            3.446585e-02\n",
              "`_BGpcv_yth__13`           -2.184269e-02\n",
              "`_BGpcv_yth_a1`            -2.223120e-02\n",
              "`_BGpcv_yth_a2`             1.199711e-02\n",
              "`_BGpcv_yth_a3`            -7.524408e-03\n",
              "`_BGpcv_yth_a5`             1.639364e-03\n",
              "`_BGpcv_yth_a6`             4.314049e-03\n",
              "`_BGpcv_yth_a7`            -1.468321e-02\n",
              "`_BGpcv_yth_a8`            -1.447317e-02\n",
              "`_BGpcv_yth_a9`            -2.536099e-02\n",
              "`_BGpcv_yth_a10`           -1.356821e-02\n",
              "`_BGpcv_yth_a11`            7.918874e-03\n",
              "`_BGpcv_yth_b1`            -2.223151e-02\n",
              "`_BGpcv_yth_b2`             5.676164e-02\n",
              "`_BGpcv_yth_b3`            -3.376521e-02\n",
              "`_BGpcv_yth_b5`            -7.534452e-03\n",
              "`_BGpcv_yth_b6`            -8.297277e-03\n",
              "`_BGpcv_yth_b7`            -3.459682e-03\n",
              "`_BGpcv_yth_b8`            -1.775989e-02\n",
              "`_BGpcv_yth_b9`            -6.984890e-02\n",
              "`_BGpcv_yth_b10`           -2.536114e-02\n",
              "`_BGpcv_yth_b11`           -1.275915e-02\n",
              "`_BGpcv_yth_b12`           -5.929811e-02\n",
              "`_BGpcv_yth_c1`             2.508851e-02\n",
              "`_BGpcv_yth_c3`            -5.771518e-03\n",
              "`_BGpcv_yth_c4`            -1.969088e-02\n",
              "`_BGpcv_yth_c5`            -6.246411e-03\n",
              "`_BGpcv_yth_c6`            -8.849412e-03\n",
              "`_BGpcv_yth_c7`            -6.984947e-02\n",
              "`_BGpcv_yth_c8`            -8.586936e-03\n",
              "`_BGpcv_yth_c9`             1.084500e-02\n",
              "`_BGpcv_yth_c10`            1.081041e-01\n",
              "`_BGpcv_hh_u_1`             9.430808e-04\n",
              "`_BGpcv_hh_u_3`             6.825893e-03\n",
              "`_BGpcv_hh_u_4`             2.558722e-03\n",
              "`_BGpcv_hh_u_5`            -5.967146e-03\n",
              "`_BGpcv_hh_u_6`            -7.817713e-03\n",
              "`_BGpcv_hh_u_7`            -3.798853e-02\n",
              "`_BGpcv_hh_u_8`             3.916402e-02\n",
              "`_BGpcv_hh_ua1`            -6.881110e-03\n",
              "`_BGpcv_hh_ua2`             1.379274e-02\n",
              "`_BGpcv_hh_ua3`            -3.604705e-02\n",
              "`_BGpcv_bio__1`            -2.126860e-02\n",
              "`_BGpcv_bio__2`            -6.978237e-02\n",
              "`_BGpcv_bio__3`             3.996305e-01\n",
              "`_BGpcv_bio__4`             1.605034e-01\n",
              "`_BGpcv_bio__5`             7.412654e-02\n",
              "`_BGpcv_bio__6`             5.097899e-02\n",
              "`_BGpcv_bio__7`            -5.359658e-02\n",
              "`_BGpcv_bio__8`            -1.026069e-02\n",
              "`_BGpcv_bio__9`            -2.830580e-02\n",
              "`_BGpcv_bio__10`           -3.513270e-03\n",
              "`_BGpcv_bio__11`           -2.233371e-03\n",
              "`_BGpcv_bio__12`           -1.491389e-02\n",
              "`_BGpcv_bio__13`           -5.600079e-03\n",
              "`_BGpcv_bio__15`            1.418261e-02\n",
              "`_BGpcv_bio__16`            9.952107e-03\n",
              "`_BGpcv_bio__17`            7.456679e-03\n",
              "`_BGpcv_bio__18`            1.186873e-03\n",
              "`_BGpcv_bio__19`            6.828880e-03\n",
              "`_BGpcv_bio__20`            3.984321e-04\n",
              "`_BGpcv_bio__21`            9.579681e-03\n",
              "`_BGpcv_bio__22`            9.988708e-04\n",
              "`_BGpcv_bio__23`            7.054751e-03\n",
              "`_BGpcv_bio__24`            3.071780e-02\n",
              "`_BGpcv_bio__25`           -5.173381e-03\n",
              "`_BGpcv_bio__26`            1.593162e-02\n",
              "`_BGpcv_bio__27`           -2.538302e-03\n",
              "`_BGpcv_bio__28`           -4.043662e-03\n",
              "`_BGpcv_bio__29`           -3.905370e-02\n",
              "`_BGpcv_bio__30`           -3.737143e-01\n",
              "`_BGpcv_bio__31`            9.533689e-03\n",
              "`_BGpcv_bio__32`           -1.373248e-02\n",
              "`_BGpcv_bio__33`           -1.339717e-01\n",
              "`_BGpcv_bio_a1`             3.135279e-03\n",
              "`_BGpcv_bio_a2`             1.243028e-01\n",
              "`_BGpcv_bio_a3`            -6.330781e-02\n",
              "`_BGpcv_bio_a4`             1.916635e-01\n",
              "`_BGpcv_bio_a5`            -8.049891e-02\n",
              "`_BGpcv_bio_a6`             6.367435e-03\n",
              "`_BGpcv_bio_a7`             4.785737e-03\n",
              "`_BGpcv_bio_a8`            -1.925537e-02\n",
              "`_BGpcv_bio_a9`            -3.359243e-03\n",
              "`_BGpcv_bio_a10`           -6.834426e-03\n",
              "`_BGpcv_bio_a11`           -7.233926e-03\n",
              "`_BGpcv_bio_a12`            1.771463e-03\n",
              "`_BGpcv_bio_a13`            5.607305e-05\n",
              "`_BGpcv_bio_a14`            2.591741e-03\n",
              "`_BGpcv_bio_a16`            1.317625e-02\n",
              "`_BGpcv_bio_a17`           -3.164799e-03\n",
              "`_BGpcv_bio_a18`            3.722334e-03\n",
              "`_BGpcv_bio_a19`            5.530936e-03\n",
              "`_BGpcv_bio_a20`           -8.355338e-03\n",
              "`_BGpcv_bio_a21`            1.099345e-02\n",
              "`_BGpcv_bio_a22`           -6.011254e-03\n",
              "`_BGpcv_bio_a23`           -1.640671e-03\n",
              "`_BGpcv_bio_a24`            9.421084e-03\n",
              "`_BGpcv_bio_a25`           -9.824549e-03\n",
              "`_BGpcv_bio_a26`           -1.932715e-02\n",
              "`_BGpcv_bio_a27`            1.210947e-02\n",
              "`_BGpcv_bio_a28`           -7.111363e-02\n",
              "`_BGpcv_bio_a29`            1.105787e-02\n",
              "`_BGpcv_bio_a30`            1.596921e-02\n",
              "`_BGpcv_bio_a31`            4.750454e-02\n",
              "`_BGpcv_bio_a32`           -4.774609e-02\n",
              "`_BGpcv_bio_a33`            1.780778e-02\n",
              "`_BGpp4_001__1`             9.579908e-03\n",
              "`_BGpp4_001__3`            -1.348737e-02\n",
              "`_BGpp4_001__4`            -1.167808e-02\n",
              "`_BGpp4_001__5`            -2.314318e-02\n",
              "`_BGpp4_002__1`            -2.929778e-02\n",
              "`_BGpp4_002__3`            -1.747784e-02\n",
              "`_BGpp4_003__1`            -1.079010e-02\n",
              "`_BGpp4_028__1`            -1.155903e-02\n",
              "`_BGpp4_028__2`             6.289811e-02\n",
              "`_BGpp4_028__3`             3.015096e-01\n",
              "`_BGpp4_028__4`             6.729221e-03\n",
              "`_BGpp4_028__6`            -1.669436e-03\n",
              "`_BGpp4_028__7`            -4.406423e-03\n",
              "`_BGpp4_028__8`            -2.016544e-02\n",
              "`_BGpp4_029__1`            -1.156005e-02\n",
              "`_BGpp4_029__2`             4.584904e-03\n",
              "`_BGpp4_029__3`             3.015068e-01\n",
              "`_BGpp4_029__5`            -2.321889e-03\n",
              "`_BGpfp_ynrm_2`            -1.057312e-01\n",
              "`_BGpfp_ynrm_3`             3.407651e-02\n",
              "`_BGpfp_ynrm_4`             .           \n",
              "`_BGpfp_ynrm_5`            -1.876165e-02\n",
              "`_BGpfp_ynrm_6`             .           \n",
              "`_BGpfp_ynrm_7`            -4.328610e-02\n",
              "`_BGpfp_ynrm_8`             1.130608e-02\n",
              "`_BGpfp_ynrm_9`            -3.239342e-02\n",
              "`_BGpfp_ynrm_10`            .           \n",
              "`_BGpfp_ynrm_11`            3.089753e-02\n",
              "`_BGpfp_ynrm_12`            1.248458e-02\n",
              "`_BGpfp_ynrm_13`           -6.886070e-02\n",
              "`_BGpfp_ynrf_2`            -8.872182e-03\n",
              "`_BGpfp_ynrf_3`            -3.598547e-02\n",
              "`_BGpfp_ynrf_4`            -2.115989e-02\n",
              "`_BGpfp_ynrf_5`             1.822055e-02\n",
              "`_BGpfp_ynrf_6`            -1.484918e-02\n",
              "`_BGpfp_ynrf_7`             2.981348e-02\n",
              "`_BGpfp_ynrf_8`             4.299822e-02\n",
              "`_BGpfp_ynrf_9`             5.028398e-02\n",
              "`_BGpfp_ynrf_10`           -3.495435e-03\n",
              "`_BGpfp_ynrf_11`           -4.761795e-02\n",
              "`_BGpfp_ynrf_12`           -2.582124e-02\n",
              "`_BGpfp_ynrf_13`            1.430441e-02\n",
              "`_BGpfp_ynrf_14`            1.002761e-02\n",
              "`_BGpfp_ynrf_15`            6.150831e-02\n",
              "`_BGpfp_ynrf_16`            .           \n",
              "`_BGpfp_ynrf_17`           -1.997306e-01\n",
              "`_BGpfp_ynrf_18`            1.990643e-02\n",
              "`_BGpfp_ynrma2`            -1.161501e-02\n",
              "`_BGpfp_ynrma3`            -1.595436e-02\n",
              "`_BGpfp_ynrma4`            -6.543514e-03\n",
              "`_BGpfp_ynrma5`             2.539220e-02\n",
              "`_BGpfp_ynrfa2`             4.092079e-03\n",
              "`_BGpfp_ynrfa3`             1.901207e-03\n",
              "`_BGpfp_ynrfa4`             1.356217e-03\n",
              "`_BGpfp_ynrfa5`             1.711932e-02\n",
              "`_BGpfp_ymfr_2`             7.025757e-03\n",
              "`_BGpfp_ymfr_3`            -1.216626e-02\n",
              "`_BGpfp_ymfr_4`             3.941156e-03\n",
              "`_BGpfp_ymfr_5`            -4.787777e-02\n",
              "`_BGpfp_ymfr_6`             1.716475e-01\n",
              "`_BGpfp_ymfr_7`             2.029433e-02\n",
              "`_BGpfp_ymfr_8`             4.600943e-02\n",
              "`_BGpfp_ymfr_9`             .           \n",
              "`_BGpfp_ymfr_10`            2.782562e-02\n",
              "`_BGpfp_ymfr_11`            2.352007e-02\n",
              "`_BGpfp_ymfr_12`            5.985848e-03\n",
              "`_BGpfp_ymfr_13`           -7.763173e-03\n",
              "`_BGpfp_ymfr_14`            1.855916e-03\n",
              "`_BGpfp_ymfr_15`           -2.810561e-02\n",
              "`_BGpfp_ymfr_16`           -3.376936e-03\n",
              "`_BGpfp_ymfr_17`            2.291282e-03\n",
              "`_BGpfp_ymfr_18`            1.135985e-02\n",
              "`_BGpfp_ymfr_19`           -2.837092e-03\n",
              "`_BGpfp_ymfr_20`           -1.908828e-02\n",
              "`_BGpfp_ymfr_21`            1.654250e-03\n",
              "`_BGpfp_ymfr_22`            6.259336e-03\n",
              "`_BGpfp_ymfr_23`            1.820133e-03\n",
              "`_BGpfp_ymmo_2`            -2.600525e-02\n",
              "`_BGpfp_ymmo_3`            -6.692469e-03\n",
              "`_BGpfp_ymmo_4`             3.089473e-02\n",
              "`_BGpfp_ymmo_5`            -1.417919e-02\n",
              "`_BGpfp_ymmo_6`            -6.928236e-05\n",
              "`_BGpfp_ymmo_7`             2.029223e-02\n",
              "`_BGpfp_ymmo_8`            -3.640629e-03\n",
              "`_BGpfp_ymmo_9`            -5.733533e-03\n",
              "`_BGpfp_ymmo_10`           -9.543110e-03\n",
              "`_BGpfp_ymmo_11`           -1.640025e-02\n",
              "`_BGpfp_ymmo_12`            4.189545e-03\n",
              "`_BGpfp_ymmo_13`            7.219992e-03\n",
              "`_BGpfp_ymmo_14`            5.811776e-03\n",
              "`_BGpfp_ymmo_15`           -1.554064e-02\n",
              "`_BGpfp_ymmo_16`            5.577376e-03\n",
              "`_BGpfp_ymmo_17`            8.391467e-03\n",
              "`_BGpfp_ymps_1`            -1.086533e-02\n",
              "`_BGpfp_ymps_2`             8.304516e-03\n",
              "`_BGpfp_ymps_3`            -2.783709e-03\n",
              "`_BGpfp_ymps_4`            -3.126819e-04\n",
              "`_BGpfp_yfmr_2`            -9.079353e-03\n",
              "`_BGpfp_yfmr_3`            -3.475760e-02\n",
              "`_BGpfp_yfmr_4`            -6.734172e-02\n",
              "`_BGpfp_yfmr_5`            -7.871336e-03\n",
              "`_BGpfp_yfmr_6`            -2.212492e-02\n",
              "`_BGpfp_yfmr_7`             3.479323e-02\n",
              "`_BGpfp_yfmr_8`             2.602301e-02\n",
              "`_BGpfp_yfmr_9`             3.052573e-02\n",
              "`_BGpfp_yfmr_10`            1.899680e-02\n",
              "`_BGpfp_yfmr_11`            6.782425e-03\n",
              "`_BGpfp_yfmr_12`            1.580955e-04\n",
              "`_BGpfp_yfmr_13`           -2.349337e-02\n",
              "`_BGpfp_yfmr_14`            2.140227e-02\n",
              "`_BGpfp_yfmr_15`            1.025528e-02\n",
              "`_BGpfp_yfmr_16`            1.178036e-04\n",
              "`_BGpfp_yfmr_17`           -9.944766e-03\n",
              "`_BGpfp_yfmr_18`           -4.425942e-03\n",
              "`_BGpfp_yfmr_19`           -8.318547e-03\n",
              "`_BGpfp_yfmr_20`           -6.795531e-03\n",
              "`_BGpfp_yfmr_21`            1.352499e-02\n",
              "`_BGpfp_yfmr_22`           -4.923485e-03\n",
              "`_BGpfp_yfmo_2`             5.261308e-03\n",
              "`_BGpfp_yfmo_3`             4.884546e-04\n",
              "`_BGpfp_yfmo_4`            -1.009510e-02\n",
              "`_BGpfp_yfmo_5`             4.390549e-03\n",
              "`_BGpfp_yfmo_6`             2.818014e-04\n",
              "`_BGpfp_yfmo_7`            -1.865367e-03\n",
              "`_BGpfp_yfmo_8`             1.219403e-02\n",
              "`_BGpfp_yfmo_9`            -8.735808e-03\n",
              "`_BGpfp_yfmo_10`            7.032672e-03\n",
              "`_BGpfp_yfmo_11`            1.945840e-02\n",
              "`_BGpfp_yfmo_12`           -1.526353e-04\n",
              "`_BGpfp_yfmo_13`           -7.805142e-03\n",
              "`_BGpfp_yfmo_14`           -2.052281e-02\n",
              "`_BGpfp_yfmo_15`           -1.008192e-02\n",
              "`_BGpfp_yfmo_16`            1.225524e-02\n",
              "`_BGpfp_yfmo_17`           -5.665523e-03\n",
              "`_BGpfp_yfmo_18`           -6.617981e-03\n",
              "`_BGpfp_yfps_1`            -6.893324e-03\n",
              "`_BGpfp_yfps_2`            -1.029986e-02\n",
              "`_BGpfp_yfps_3`             5.807652e-03\n",
              "`_BGpfp_yfps_4`            -6.729406e-04\n",
              "`_BGpfp_ppre_2`            -2.508307e-03\n",
              "`_BGpfp_ppre_3`            -9.796943e-04\n",
              "`_BGpfp_ppre_4`             1.101130e-02\n",
              "`_BGpfp_ppre_5`             1.502292e-03\n",
              "`_BGpfp_ppre_6`             2.396487e-02\n",
              "`_BGpfp_ppre_7`             4.736158e-03\n",
              "`_BGpfp_ppre_8`             1.125318e-02\n",
              "`_BGpfp_ppre_9`            -3.792208e-03\n",
              "`_BGpfp_ppre_10`           -8.636435e-03\n",
              "`_BGpfp_ppre_11`           -1.484116e-04\n",
              "`_BGpfp_ppre_12`           -4.272999e-03\n",
              "`_BGhfp_adhr_2`             5.487816e-03\n",
              "`_BGhfp_adhr_3`            -1.598829e-03\n",
              "`_BGhfp_adhr_4`            -1.463859e-01\n",
              "`_BGhfp_adhr_5`            -1.211978e-03\n",
              "`_BGhfp_adhr_6`             3.243165e-02\n",
              "`_BGhfp_adhr_7`            -1.271949e-02\n",
              "`_BGhfp_adhr_8`            -2.197056e-02\n",
              "`_BGhfp_adhr_9`             1.127471e-02\n",
              "`_BGhfp_adhr_10`            6.210827e-03\n",
              "`_BGhfp_adhr_11`           -7.520420e-02\n",
              "`_BGhfp_adhr_12`            8.624316e-04\n",
              "`_BGhfp_adhr_13`           -1.457170e-02\n",
              "`_BGhfp_adhr_14`           -8.026066e-04\n",
              "`_BGhfp_adhr_15`           -2.263915e-02\n",
              "`_BGhfp_adhr_16`           -2.006892e-02\n",
              "`_BGhfp_adhr_17`            .           \n",
              "`_BGhfp_adhr_18`            1.344972e-02\n",
              "`_BGhfp_adhr_19`           -2.963328e-02\n",
              "`_BGhfp_adhr_20`            9.693449e-02\n",
              "`_BGhfp_adhr_21`            8.096305e-05\n",
              "`_BGhfp_adhr_22`           -2.236200e-02\n",
              "`_BGhfp_adhr_23`           -6.074737e-02\n",
              "`_BGhfp_adhr_24`           -2.347703e-02\n",
              "`_BGhfp_adhr_25`           -3.204921e-02\n",
              "`_BGhfp_adhr_26`            3.834718e-02\n",
              "`_BGhfp_adpe_2`             7.234822e-03\n",
              "`_BGhfp_adpe_3`            -1.382228e-04\n",
              "`_BGhfp_adpe_4`            -1.407168e-02\n",
              "`_BGhfp_adpe_5`            -1.014571e-02\n",
              "`_BGhfp_adpe_6`             1.314581e-02\n",
              "`_BGhfp_adpe_7`            -1.648393e-02\n",
              "`_BGhfp_adpe_8`             .           \n",
              "`_BGhfp_adpe_9`            -3.488611e-02\n",
              "`_BGhfp_adpe_10`            2.693893e-02\n",
              "`_BGhfp_adpe_11`            3.005246e-02\n",
              "`_BGhfp_adpe_12`            1.147923e-02\n",
              "`_BGhfp_adpe_13`            8.152600e-05\n",
              "`_BGhfp_aden_2`            -1.038726e-02\n",
              "`_BGhfp_aden_3`            -1.200862e-02\n",
              "`_BGhfp_aden_4`             3.827933e-03\n",
              "`_BGhfp_aden_5`             1.181678e-03\n",
              "`_BGhp5_101__1`            -2.311467e-02\n",
              "`_BGhp5_101__2`             .           \n",
              "`_BGhp5_101__4`            -7.569210e-03\n",
              "`_BGhp5_101__5`            -4.782842e-02\n",
              "`_BGhp5_102__2`            -2.575513e-02\n",
              "`_BGhp5_102__3`            -1.456548e-01\n",
              "`_BGhp5_102__4`            -3.178831e-02\n",
              "`_BGhp5_102__5`            -7.797425e-03\n",
              "`_BGhp5_102__6`             3.556192e-02\n",
              "`_BGhp5_102__7`            -8.521544e-02\n",
              "`_BGhcvc_gov_1`             1.278003e-02\n",
              "`_BGhcvc_gova1`             1.279851e-02\n",
              "`_BGhcvc_govb1`             1.281321e-02\n",
              "`_BGhcvc_govc1`             1.282397e-02\n",
              "`_BGhcvc_govc2`            -2.348334e-02\n",
              "`_BGhcvc_govc4`            -9.453828e-02\n",
              "`_BGhcvc_govd1`             1.283089e-02\n",
              "`_BGhcvc_govd2`            -2.349282e-02\n",
              "`_BGhcvc_govd4`            -9.454689e-02\n",
              "`_BGhcvc_gove1`             1.283422e-02\n",
              "`_BGhcvc_gove2`            -2.350416e-02\n",
              "`_BGhcvc_gove4`             3.777832e-02\n",
              "`_BGhcvc_gove5`            -9.455284e-02\n",
              "`_BGhcvc_govf1`             1.283435e-02\n",
              "`_BGhcvc_govf2`            -2.351601e-02\n",
              "`_BGhcvc_govf4`            -2.841574e-02\n",
              "`_BGhcvc_govg1`             1.283172e-02\n",
              "`_BGhcvc_govg2`            -2.352736e-02\n",
              "`_BGhcvc_govg4`            -2.841905e-02\n",
              "`_BGhcvc_govh1`             1.282680e-02\n",
              "`_BGhcvc_govh2`            -2.353746e-02\n",
              "`_BGhcvc_govh4`            -2.841947e-02\n",
              "`_BGhcvc_govi1`             1.282007e-02\n",
              "`_BGhcvc_govi2`            -2.354581e-02\n",
              "`_BGhcvc_govi4`            -2.841704e-02\n",
              "`_BGhcvc_govj1`             1.281197e-02\n",
              "`_BGhcvc_govj2`            -2.355207e-02\n",
              "`_BGhcvc_govj4`            -2.841190e-02\n",
              "`_BGhcvc_govk1`             1.280292e-02\n",
              "`_BGhcvc_govk2`            -2.355606e-02\n",
              "`_BGhcvc_govk4`            -2.840428e-02\n",
              "`_BGhcvc_govl1`             1.279332e-02\n",
              "`_BGhcvc_govl2`            -2.355770e-02\n",
              "`_BGhcvc_govl4`            -5.880743e-03\n",
              "`_BGhcvc_govl5`            -2.839446e-02\n",
              "`_BGhcvc_govm1`             1.278349e-02\n",
              "`_BGhcvc_govm2`            -2.355701e-02\n",
              "`_BGhcvc_govm4`             .           \n",
              "`_BGhcvc_govm5`            -2.090041e-02\n",
              "`_BGhcvc_govn1`             1.277371e-02\n",
              "`_BGhcvc_govn2`             3.021129e-02\n",
              "`_BGhcvc_govn4`            -2.089072e-02\n",
              "`_BGhcvc_govo1`             1.276422e-02\n",
              "`_BGhcvc_govo2`             2.303928e-02\n",
              "`_BGhcvc_govo4`            -2.087924e-02\n",
              "`_BGhcvc_govp1`             1.275522e-02\n",
              "`_BGhcvc_govp2`             2.034488e-02\n",
              "`_BGhcvc_govp4`            -4.242791e-02\n",
              "`_BGhcvc_govp5`            -8.178384e-02\n",
              "`_BGhcvc_govp6`            -1.263188e-01\n",
              "`_BGhcvc_govp7`             9.997333e-03\n",
              "`_BGhcvc_govq1`             1.274686e-02\n",
              "`_BGhcvc_govq2`             7.132953e-03\n",
              "`_BGhcvc_govq4`            -1.884533e-01\n",
              "`_BGhcvc_govq5`            -4.242744e-02\n",
              "`_BGhcvc_govq6`             3.757026e-02\n",
              "`_BGhcvc_govq7`            -5.837777e-03\n",
              "`_BGhcvc_govq8`             3.908350e-02\n",
              "`_BGhcvc_govq9`            -1.226616e-01\n",
              "`_BGhcvc_govq10`           -3.891672e-02\n",
              "`_XPexp_7`                 -1.502216e-02\n",
              "`_XPexp_8`                  3.489977e-02\n",
              "`_XPexp_9`                  3.940332e-03\n",
              "`_XPexp_10`                 3.095931e-02\n",
              "`_XPexp_11`                 1.723340e-02\n",
              "`_XPexp_12`                 1.433221e-02\n",
              "`_XPexp_13`                 1.218909e-03\n",
              "`_XPexp_14`                -4.402564e-03\n",
              "`_XPexp_16`                -8.165141e-03\n",
              "`_XPexp_17`                -1.060688e-02\n",
              "`_XPexp_18`                -1.745170e-02\n",
              "`_XPexp_19`                -2.151387e-02\n",
              "`_XPexp_20`                -3.544086e-02\n",
              "`_XPexp_21`                 9.483800e-04\n",
              "`_XPexp_22`                -5.405027e-02\n",
              "`_XPexp_23`                -2.940411e-02"
            ]
          },
          "metadata": {},
          "output_type": "display_data"
        }
      ],
      "source": [
        "coef_ridge<-coef(ridge$finalModel, ridge$bestTune$lambda)\n",
        "coef_ridge"
      ]
    },
    {
      "cell_type": "markdown",
      "id": "bda8169f",
      "metadata": {
        "id": "bda8169f"
      },
      "source": [
        "### Compare to OLS fit"
      ]
    },
    {
      "cell_type": "code",
      "execution_count": null,
      "id": "5507ebbf",
      "metadata": {
        "id": "5507ebbf",
        "outputId": "e48a0db1-57c2-4b7d-b89c-c2d15e2a970d"
      },
      "outputs": [
        {
          "data": {
            "text/html": [
              "1.33339890902413"
            ],
            "text/latex": [
              "1.33339890902413"
            ],
            "text/markdown": [
              "1.33339890902413"
            ],
            "text/plain": [
              "[1] 1.333399"
            ]
          },
          "metadata": {},
          "output_type": "display_data"
        }
      ],
      "source": [
        "ridge$results$RMSE[which.min(ridge$results$lambda)]"
      ]
    },
    {
      "cell_type": "code",
      "execution_count": null,
      "id": "b2955cf7",
      "metadata": {
        "id": "b2955cf7",
        "outputId": "4587b00d-32d3-4316-ec12-fb8da883cd99"
      },
      "outputs": [
        {
          "name": "stderr",
          "output_type": "stream",
          "text": [
            "Warning message in predict.lm(modelFit, newdata):\n",
            "“prediction from rank-deficient fit; attr(*, \"non-estim\") has doubtful cases”\n",
            "Warning message in predict.lm(modelFit, newdata):\n",
            "“prediction from rank-deficient fit; attr(*, \"non-estim\") has doubtful cases”\n"
          ]
        },
        {
          "data": {
            "text/plain": [
              "Linear Regression \n",
              "\n",
              "1266 samples\n",
              " 993 predictor\n",
              "\n",
              "No pre-processing\n",
              "Resampling: Cross-Validated (5 fold) \n",
              "Summary of sample sizes: 1013, 1011, 1012, 1014, 1014 \n",
              "Resampling results:\n",
              "\n",
              "  RMSE     Rsquared     MAE     \n",
              "  2.82355  0.003200609  1.438444\n",
              "\n",
              "Tuning parameter 'intercept' was held constant at a value of TRUE"
            ]
          },
          "metadata": {},
          "output_type": "display_data"
        }
      ],
      "source": [
        "linear_reg<-train(lnw_2016~.,\n",
        "                 data=nlsy,\n",
        "                  method = 'lm',\n",
        "                  trControl = fitControl\n",
        ")\n",
        "\n",
        "\n",
        "linear_reg"
      ]
    },
    {
      "cell_type": "markdown",
      "id": "e87b97cc",
      "metadata": {
        "id": "e87b97cc"
      },
      "source": [
        "### Compare to Lasso?"
      ]
    },
    {
      "cell_type": "code",
      "execution_count": null,
      "id": "b74edb29",
      "metadata": {
        "id": "b74edb29",
        "outputId": "2adadd9a-3f84-4c56-d433-29f8ecd16b32"
      },
      "outputs": [
        {
          "name": "stderr",
          "output_type": "stream",
          "text": [
            "Warning message in nominalTrainWorkflow(x = x, y = y, wts = weights, info = trainInfo, :\n",
            "“There were missing values in resampled performance measures.”\n"
          ]
        }
      ],
      "source": [
        "lasso<-train(lnw_2016~.,\n",
        "             data=nlsy,\n",
        "             method = 'glmnet',\n",
        "             trControl = fitControl,\n",
        "             tuneGrid = expand.grid(alpha = 1, #lasso\n",
        "                                    lambda = ridge0$lambda)\n",
        "              )\n"
      ]
    },
    {
      "cell_type": "code",
      "execution_count": null,
      "id": "df7346fc",
      "metadata": {
        "id": "df7346fc",
        "outputId": "209acdcc-cd13-4d96-87e4-3cbeee354a14"
      },
      "outputs": [
        {
          "data": {
            "text/html": [
              "<table class=\"dataframe\">\n",
              "<caption>A matrix: 1 × 3 of type dbl</caption>\n",
              "<thead>\n",
              "\t<tr><th scope=col>OLS</th><th scope=col>RIDGE</th><th scope=col>LASSO</th></tr>\n",
              "</thead>\n",
              "<tbody>\n",
              "\t<tr><td>2.82355</td><td>1.333399</td><td>0.8687309</td></tr>\n",
              "</tbody>\n",
              "</table>\n"
            ],
            "text/latex": [
              "A matrix: 1 × 3 of type dbl\n",
              "\\begin{tabular}{lll}\n",
              " OLS & RIDGE & LASSO\\\\\n",
              "\\hline\n",
              "\t 2.82355 & 1.333399 & 0.8687309\\\\\n",
              "\\end{tabular}\n"
            ],
            "text/markdown": [
              "\n",
              "A matrix: 1 × 3 of type dbl\n",
              "\n",
              "| OLS | RIDGE | LASSO |\n",
              "|---|---|---|\n",
              "| 2.82355 | 1.333399 | 0.8687309 |\n",
              "\n"
            ],
            "text/plain": [
              "     OLS     RIDGE    LASSO    \n",
              "[1,] 2.82355 1.333399 0.8687309"
            ]
          },
          "metadata": {},
          "output_type": "display_data"
        }
      ],
      "source": [
        "RMSE_df<-cbind(linear_reg$results$RMSE,\n",
        "               ridge$results$RMSE[which.min(ridge$results$lambda)],\n",
        "               lasso$results$RMSE[which.min(lasso$results$lambda)]\n",
        "              )\n",
        "colnames(RMSE_df)<-c(\"OLS\",\"RIDGE\",\"LASSO\")\n",
        "RMSE_df"
      ]
    },
    {
      "cell_type": "code",
      "execution_count": null,
      "id": "57c5c152",
      "metadata": {
        "id": "57c5c152"
      },
      "outputs": [],
      "source": []
    }
  ],
  "metadata": {
    "jupytext": {
      "formats": "ipynb,Rmd"
    },
    "kernelspec": {
      "display_name": "R",
      "language": "R",
      "name": "ir"
    },
    "language_info": {
      "codemirror_mode": "r",
      "file_extension": ".r",
      "mimetype": "text/x-r-source",
      "name": "R",
      "pygments_lexer": "r",
      "version": "4.3.0"
    },
    "toc": {
      "base_numbering": 1,
      "nav_menu": {},
      "number_sections": true,
      "sideBar": true,
      "skip_h1_title": false,
      "title_cell": "Table of Contents",
      "title_sidebar": "Contents",
      "toc_cell": false,
      "toc_position": {},
      "toc_section_display": true,
      "toc_window_display": false
    },
    "colab": {
      "provenance": []
    }
  },
  "nbformat": 4,
  "nbformat_minor": 5
}