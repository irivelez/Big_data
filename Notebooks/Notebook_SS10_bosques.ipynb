{
 "cells": [
  {
   "cell_type": "markdown",
   "id": "a952ad54-2218-4382-b2eb-d401d349f764",
   "metadata": {},
   "source": [
    "<div >\n",
    "<img src = \"../banner.jpg\" />\n",
    "</div>"
   ]
  },
  {
   "cell_type": "markdown",
   "id": "19d3abb9",
   "metadata": {},
   "source": [
    "<a target=\"_blank\" href=\"https://colab.research.google.com/github/ignaciomsarmiento/BDML_SS/blob/main/Lecture10/Notebook_SS10_bosques\n",
    ".ipynb\">\n",
    "  <img src=\"https://colab.research.google.com/assets/colab-badge.svg\" alt=\"Open In Colab\"/>\n",
    "</a>\n"
   ]
  },
  {
   "cell_type": "markdown",
   "id": "f7e57de4",
   "metadata": {},
   "source": [
    "# CARTs, Bagging and Random Forests"
   ]
  },
  {
   "cell_type": "markdown",
   "id": "303a3dcd",
   "metadata": {},
   "source": [
    "## Predicting House Prices\n",
    "\n",
    "Our objective today is to construct a model to predict house prices. From Rosen's landmark paper \"Hedonic Prices and Implicit Markets: Product Differentiation in Pure Competition\" (1974), we know that a vector of its characteristics describes a differentiated good.\n",
    "\n",
    "In the case of a house, these characteristics may include structural attributes (e.g., number of bedrooms), neighborhood public services (e.g., local school quality), and local amenities (e.g., crime, air quality, etc). Thus, we can write the market price of the house as:\n",
    "\n",
    "$$\n",
    "Price=f(structural\\,attributes,amenities,...)\n",
    "$$\n",
    "\n",
    "\n",
    "However, Rosen's theory doesn't tell us much about the functional form of $f$. "
   ]
  },
  {
   "cell_type": "markdown",
   "id": "b9183a2e",
   "metadata": {},
   "source": [
    "## CARTS: Recap"
   ]
  },
  {
   "cell_type": "markdown",
   "id": "2fdab5a6",
   "metadata": {},
   "source": [
    "Let's load the packages:"
   ]
  },
  {
   "cell_type": "code",
   "execution_count": null,
   "id": "dce4bb18",
   "metadata": {},
   "outputs": [],
   "source": [
    "# install.packages(\"pacman\") #run this line if you use Google Colab"
   ]
  },
  {
   "cell_type": "code",
   "execution_count": null,
   "id": "3e94ec2b-ab94-4ec8-8512-e370d2f22a56",
   "metadata": {
    "tags": [
     "remove_cell"
    ]
   },
   "outputs": [],
   "source": [
    "#packages\n",
    "require(\"pacman\")\n",
    "p_load(\"tidyverse\",\"ggplot2\")"
   ]
  },
  {
   "cell_type": "markdown",
   "id": "a5e5668c",
   "metadata": {},
   "source": [
    "### Algorithm\n",
    "\n",
    "\n",
    "-  Datos: $y_{n\\times 1}$  y $X_{n\\times k}$ \n",
    "\n",
    "-  Definiciones\n",
    "\n",
    "      -  *j* es la variable que parte el espacio \n",
    "      - *s* es el punto de partición\n",
    "\n",
    "\n",
    "-  Definimos los siguientes semiplanos\n",
    "\n",
    "\\begin{align}\n",
    "R_1(j,s)=\\{X|X_j\\leq s\\} \\,\\,\\, \\& \\,\\,\\, R_2(j,s)=\\{X|X_j > s\\}\n",
    "\\end{align}\n",
    "\n",
    "-  *El problema*: buscar la variable de partición $X_j$ y el punto $s$ de forma tal que \n",
    "\n",
    "\n",
    "\\begin{align}\n",
    "\\underset{j,s}{min} \\left[ \\underset{y_{R_1}}{min}\\sum_{x_i\\in R_1(j,s)}(y-y_{R_1})^2+ \\underset{y_{R_2}}{min}\\sum_{x_i\\in R_2(j,s)}(y-y_{R_2})^2\\right]\n",
    "\\end{align}\n",
    "\n"
   ]
  },
  {
   "cell_type": "markdown",
   "id": "f29393e0",
   "metadata": {},
   "source": [
    "#### Algorithm in R"
   ]
  },
  {
   "cell_type": "markdown",
   "id": "5f08f3fa",
   "metadata": {},
   "source": [
    "##### With Ames Data Set"
   ]
  },
  {
   "cell_type": "markdown",
   "id": "22c8269f",
   "metadata": {},
   "source": [
    "There are multiple packages, we are going to use `rpart`"
   ]
  },
  {
   "cell_type": "code",
   "execution_count": null,
   "id": "69588256",
   "metadata": {},
   "outputs": [],
   "source": [
    "p_load(\"rpart\")"
   ]
  },
  {
   "cell_type": "code",
   "execution_count": null,
   "id": "647d6dcf",
   "metadata": {},
   "outputs": [],
   "source": [
    "p_load(\"modeldata\")\n",
    "\n",
    "data(\"ames\", package = \"modeldata\")\n",
    "\n",
    "ames<-ames  %>% filter(Neighborhood %in%c(\"North_Ames\", \"College_Creek\", \"Old_Town\", \"Edwards\", \"Somerset\", \"Northridge_Heights\", \"Gilbert\", \"Sawyer\", \"Northwest_Ames\", \"Sawyer_West\"))\n"
   ]
  },
  {
   "cell_type": "code",
   "execution_count": null,
   "id": "f5b90bab",
   "metadata": {},
   "outputs": [],
   "source": [
    "head(ames)"
   ]
  },
  {
   "cell_type": "markdown",
   "id": "c555ba52",
   "metadata": {},
   "source": [
    "The description of the variables can be viewed here: https://jse.amstat.org/v19n3/decock/DataDocumentation.txt"
   ]
  },
  {
   "cell_type": "code",
   "execution_count": null,
   "id": "82f4e74a",
   "metadata": {},
   "outputs": [],
   "source": [
    "class(ames$Fence)"
   ]
  },
  {
   "cell_type": "code",
   "execution_count": null,
   "id": "514184bb",
   "metadata": {},
   "outputs": [],
   "source": [
    "amestree<-rpart(log(Sale_Price) ~ Gr_Liv_Area  + Bldg_Type + Fence + Lot_Area,data=ames, control = list(maxdepth = 3))\n",
    "\n",
    "p_load(\"rpart.plot\")\n",
    "prp(amestree, under = TRUE, branch.lty = 2, yesno = 2, faclen = 0, varlen=15,tweak=1.2,clip.facs= TRUE,box.palette = \"Greens\",compress=FALSE,ycompress = FALSE,node.fun=function(x, labs, digits, varlen) paste(\"Precio \\n\", format(round(exp(amestree$frame$yval), 0), nsmall=0, big.mark=\",\")))"
   ]
  },
  {
   "cell_type": "markdown",
   "id": "de10c96b",
   "metadata": {},
   "source": [
    "### Sobreajuste"
   ]
  },
  {
   "cell_type": "code",
   "execution_count": null,
   "id": "c3950976",
   "metadata": {},
   "outputs": [],
   "source": [
    "amestree<-rpart(log(Sale_Price) ~ Gr_Liv_Area  + Bldg_Type + Fence + Lot_Area,data=ames,cp=-1)"
   ]
  },
  {
   "cell_type": "code",
   "execution_count": null,
   "id": "35748246",
   "metadata": {},
   "outputs": [],
   "source": [
    "p_load(\"rpart.plot\")\n",
    "prp(amestree, under = TRUE, branch.lty = 2, yesno = 2, faclen = 0, varlen=15,tweak=1.2,clip.facs= TRUE,box.palette = \"Greens\",compress=FALSE,ycompress = FALSE,node.fun=function(x, labs, digits, varlen) paste(\"Precio \\n\", format(round(exp(amestree$frame$yval), 0), nsmall=0, big.mark=\",\")))"
   ]
  },
  {
   "cell_type": "markdown",
   "id": "02329a4d",
   "metadata": {},
   "source": [
    "- Cost complexity pruning (implementado en Caret con `method=rpart`)\n",
    "\n",
    "- Fijar la profundidad del árbol. (implementado en Caret `method=rpart2`)\n",
    "\n",
    "- Fijar la cantidad de hojas (nodos terminales, regiones).\n",
    "\n",
    "- Fijar la mínima cantidad de datos que están contenidos dentro de cada hoja. "
   ]
  },
  {
   "cell_type": "markdown",
   "id": "264d249f",
   "metadata": {},
   "source": [
    "#### Cost complexity Prunning\n",
    "\n",
    "\n",
    "Cost complexity del árbol  $T$ con $[T]$ nodos terminales del árbol \n",
    "\\begin{align}\n",
    "  C_{\\alpha}(T)= \\sum_{m=1}^{[T]}  \\sum_{x_i\\in R_m} (y_i-\\hat{y}_m)^2 + \\alpha [T]\n",
    "\\end{align}\n",
    "\n",
    "\n",
    "Objetivo: para un dado $\\alpha$, encontrar el pruning óptimo que minimice  $C_{\\alpha}(T)$\n",
    "\n",
    "Se logra eliminando sucesivamente las ramas que producen un aumento mínimo en $\\sum_{x_i\\in R_m} (y_i-\\hat{y}_m)^2 $\n",
    "\n",
    "\n",
    "##### Algoritmo completo\n",
    "\n",
    "  - Hacemos crecer el árbol\n",
    "\n",
    "  - Para un dado $\\alpha$, aplicamos  *cost complexity pruning* \n",
    "    \n",
    "  - Utilizamos K-fold cross-validation para elegir $\\alpha$. \n",
    "\n",
    "  \n",
    "Tenemos entonces una secuencia de subarboles para distintos valores de $\\alpha$ \n",
    "\n",
    "Elegimos el $\\alpha$ y el subárbol que tienen el menor error de predicción."
   ]
  },
  {
   "cell_type": "markdown",
   "id": "6e92e07f",
   "metadata": {},
   "source": [
    "##### Implementación con Caret"
   ]
  },
  {
   "cell_type": "code",
   "execution_count": null,
   "id": "ecfc1c57",
   "metadata": {},
   "outputs": [],
   "source": [
    "p_load(\"caret\")"
   ]
  },
  {
   "cell_type": "code",
   "execution_count": null,
   "id": "318c6c70",
   "metadata": {},
   "outputs": [],
   "source": [
    "fitControl<-trainControl(method =\"cv\",\n",
    "                         number=5)\n"
   ]
  },
  {
   "cell_type": "markdown",
   "id": "bfd6d093",
   "metadata": {},
   "source": [
    "#### Tunning Hiper-parameters\n",
    "\n",
    "#####  `method=rpart`  only allows to tune Complexity Parameter\n",
    "\n",
    "- Can change the length\n"
   ]
  },
  {
   "cell_type": "code",
   "execution_count": null,
   "id": "c93df854",
   "metadata": {},
   "outputs": [],
   "source": [
    "set.seed(123)\n",
    "tree_lenght <- train(\n",
    "    log(Sale_Price) ~ Gr_Liv_Area  + Bldg_Type + Fence + Lot_Area,\n",
    "    data=ames,\n",
    "    method = \"rpart\",\n",
    "    trControl = fitControl,\n",
    "    tuneLength=100\n",
    ")"
   ]
  },
  {
   "cell_type": "code",
   "execution_count": null,
   "id": "b1c61d27",
   "metadata": {},
   "outputs": [],
   "source": [
    "tree_lenght"
   ]
  },
  {
   "cell_type": "code",
   "execution_count": null,
   "id": "02b52123",
   "metadata": {},
   "outputs": [],
   "source": [
    "prp(tree_lenght$finalModel, under = TRUE, branch.lty = 2, yesno = 2, faclen = 0, varlen=15,tweak=1.2,clip.facs= TRUE,box.palette = \"Greens\",compress=FALSE,ycompress = FALSE,node.fun=function(x, labs, digits, varlen) paste(\"Precio \\n\", format(round(exp(tree_lenght$finalModel$frame$yval), 0), nsmall=0, big.mark=\",\")))"
   ]
  },
  {
   "cell_type": "markdown",
   "id": "82c16df7",
   "metadata": {},
   "source": [
    "- Or the grid"
   ]
  },
  {
   "cell_type": "code",
   "execution_count": null,
   "id": "d5bda02f",
   "metadata": {},
   "outputs": [],
   "source": [
    "set.seed(123)\n",
    "tree_grid <- train(\n",
    "    log(Sale_Price) ~ Gr_Liv_Area  + Bldg_Type + Fence + Lot_Area,\n",
    "    data=ames,\n",
    "    method = \"rpart\",\n",
    "    trControl = fitControl,\n",
    "    tuneGrid = expand.grid(cp = seq(0.001707763, 0.001707765, length.out = 100))\n",
    ")\n"
   ]
  },
  {
   "cell_type": "code",
   "execution_count": null,
   "id": "9169c095",
   "metadata": {},
   "outputs": [],
   "source": [
    "tree_grid"
   ]
  },
  {
   "cell_type": "markdown",
   "id": "b3c8e9ce",
   "metadata": {},
   "source": [
    "#####  `method=rpart2`  allows to tune Max Tree Depth"
   ]
  },
  {
   "cell_type": "code",
   "execution_count": null,
   "id": "a5df693c",
   "metadata": {},
   "outputs": [],
   "source": [
    "set.seed(123)\n",
    "tree_rpart2 <- train(\n",
    "    log(Sale_Price) ~ Gr_Liv_Area  + Bldg_Type + Fence + Lot_Area,\n",
    "    data=ames,\n",
    "    method = \"rpart2\",\n",
    "    trControl = fitControl,\n",
    "    tuneGrid = expand.grid(maxdepth = seq(1,30,1))\n",
    ")"
   ]
  },
  {
   "cell_type": "code",
   "execution_count": null,
   "id": "ffaf5931",
   "metadata": {},
   "outputs": [],
   "source": [
    "tree_rpart2"
   ]
  },
  {
   "cell_type": "code",
   "execution_count": null,
   "id": "f79bfa23",
   "metadata": {},
   "outputs": [],
   "source": [
    "prp(tree_rpart2$finalModel, under = TRUE, branch.lty = 2, yesno = 2, faclen = 0, varlen=15,tweak=1.2,clip.facs= TRUE,box.palette = \"Greens\",compress=FALSE,ycompress = FALSE,node.fun=function(x, labs, digits, varlen) paste(\"Precio \\n\", format(round(exp(tree_rpart2$finalModel$frame$yval), 0), nsmall=0, big.mark=\",\")))"
   ]
  },
  {
   "cell_type": "markdown",
   "id": "e563acfa",
   "metadata": {},
   "source": [
    "More details here: https://topepo.github.io/caret/train-models-by-tag.html#tree-based-model"
   ]
  },
  {
   "cell_type": "markdown",
   "id": "7f2fc692",
   "metadata": {},
   "source": [
    "### Comentarios sobre Árboles\n",
    "\n",
    "\n",
    "- Pros: \n",
    "  \n",
    "    - Los árboles son muy fáciles de explicar a las personas (probablemente incluso más fáciles que la regresión lineal)\n",
    "\n",
    "    - Los árboles se pueden trazar gráficamente y son fácilmente interpretados incluso por no expertos. Variables más importantes en la parte superior\n",
    "\n",
    "\n",
    "\n",
    "- Cons:\n",
    "    \n",
    "    - Si la estructura es lineal, CART no funciona bien\n",
    "\n",
    "    - Los árboles no son muy robustos \n",
    "    "
   ]
  },
  {
   "cell_type": "code",
   "execution_count": null,
   "id": "94745ab2",
   "metadata": {},
   "outputs": [],
   "source": [
    "set.seed(123)\n",
    "tree_rpart2_rob <- train(\n",
    "    log(Sale_Price) ~ Gr_Liv_Area  + Bldg_Type + Fence + Lot_Area,\n",
    "    data=ames[-c(1:20),],\n",
    "    method = \"rpart2\",\n",
    "    trControl = fitControl,\n",
    "    tuneGrid = expand.grid(maxdepth = seq(1,30,1))\n",
    ")"
   ]
  },
  {
   "cell_type": "code",
   "execution_count": null,
   "id": "87d18779",
   "metadata": {},
   "outputs": [],
   "source": [
    "tree_rpart2_rob"
   ]
  },
  {
   "cell_type": "code",
   "execution_count": null,
   "id": "b90b3a8a",
   "metadata": {},
   "outputs": [],
   "source": [
    "prp(tree_rpart2_rob$finalModel, under = TRUE, branch.lty = 2, yesno = 2, faclen = 0, varlen=15,tweak=1.2,clip.facs= TRUE,box.palette = \"Greens\",compress=FALSE,ycompress = FALSE,node.fun=function(x, labs, digits, varlen) paste(\"Precio \\n\", format(round(exp(tree_rpart2_rob$finalModel$frame$yval), 0), nsmall=0, big.mark=\",\")))"
   ]
  },
  {
   "cell_type": "code",
   "execution_count": null,
   "id": "0b5de81c",
   "metadata": {},
   "outputs": [],
   "source": [
    "20/2063*100"
   ]
  },
  {
   "cell_type": "markdown",
   "id": "b5d4441e",
   "metadata": {},
   "source": [
    "#### Change the sample"
   ]
  },
  {
   "cell_type": "code",
   "execution_count": null,
   "id": "06ca9d18",
   "metadata": {},
   "outputs": [],
   "source": [
    "db_sample<- sample_frac(ames,size=1,replace=TRUE) #takes a sample with replacement of the same size of the original sample (1 or 100%)"
   ]
  },
  {
   "cell_type": "code",
   "execution_count": null,
   "id": "bef1a328",
   "metadata": {},
   "outputs": [],
   "source": [
    "set.seed(123)\n",
    "tree_rpart2_rob_sample <- train(\n",
    "    log(Sale_Price) ~ Gr_Liv_Area  + Bldg_Type + Fence + Lot_Area,\n",
    "    data=db_sample,\n",
    "    method = \"rpart2\",\n",
    "    trControl = fitControl,\n",
    "    tuneGrid = expand.grid(maxdepth = seq(1,30,1))\n",
    ")"
   ]
  },
  {
   "cell_type": "code",
   "execution_count": null,
   "id": "ec140268",
   "metadata": {},
   "outputs": [],
   "source": [
    "prp(tree_rpart2_rob_sample$finalModel, under = TRUE, branch.lty = 2, yesno = 2, faclen = 0, varlen=15,tweak=1.2,clip.facs= TRUE,box.palette = \"Greens\",compress=FALSE,ycompress = FALSE,node.fun=function(x, labs, digits, varlen) paste(\"Precio \\n\", format(round(exp(tree_rpart2_rob_sample$finalModel$frame$yval), 0), nsmall=0, big.mark=\",\")))"
   ]
  },
  {
   "cell_type": "markdown",
   "id": "a2e1a513",
   "metadata": {},
   "source": [
    "## Random Forests"
   ]
  },
  {
   "cell_type": "markdown",
   "id": "33789131",
   "metadata": {},
   "source": [
    "We are going to use `ranger: A Fast Implementation of Random Forests`"
   ]
  },
  {
   "cell_type": "code",
   "execution_count": null,
   "id": "2c27ec9e",
   "metadata": {},
   "outputs": [],
   "source": [
    "p_load(\"ranger\")"
   ]
  },
  {
   "cell_type": "code",
   "execution_count": null,
   "id": "3805b525",
   "metadata": {},
   "outputs": [],
   "source": [
    "set.seed(123)\n",
    "\n",
    "tree_ranger <- train(\n",
    "    log(Sale_Price) ~ Gr_Liv_Area  + Bldg_Type + Fence,\n",
    "    data=ames,\n",
    "    method = \"ranger\",\n",
    "    trControl = fitControl,\n",
    "    tuneGrid=expand.grid(\n",
    "              mtry = 1,\n",
    "              splitrule = \"variance\",\n",
    "              min.node.size = 5)\n",
    ")"
   ]
  },
  {
   "cell_type": "code",
   "execution_count": null,
   "id": "19e40992",
   "metadata": {},
   "outputs": [],
   "source": [
    "tree_ranger"
   ]
  },
  {
   "cell_type": "markdown",
   "id": "257b92de",
   "metadata": {
    "lines_to_next_cell": 0
   },
   "source": [
    "Tuning parameters:\n",
    "\n",
    "    - mtry (#Randomly Selected Predictors)\n",
    "    - splitrule (Splitting Rule)\n",
    "    - min.node.size (Minimal Node Size)\n",
    "\n"
   ]
  },
  {
   "cell_type": "code",
   "execution_count": null,
   "id": "6e876df0",
   "metadata": {},
   "outputs": [],
   "source": [
    "set.seed(123)\n",
    "\n",
    "tree_ranger_grid <- train(\n",
    "    log(Sale_Price) ~ Gr_Liv_Area  + Bldg_Type + Fence,\n",
    "    data=ames,\n",
    "    method = \"ranger\",\n",
    "    trControl = fitControl,\n",
    "    tuneGrid=expand.grid(\n",
    "              mtry = c(1,2,3),\n",
    "              splitrule = \"variance\",\n",
    "              min.node.size = c(5,10,15))\n",
    ")"
   ]
  },
  {
   "cell_type": "code",
   "execution_count": null,
   "id": "f55fa8bd",
   "metadata": {},
   "outputs": [],
   "source": [
    "tree_ranger_grid"
   ]
  },
  {
   "cell_type": "markdown",
   "id": "b60350b0",
   "metadata": {},
   "source": [
    "## Boosting Trees"
   ]
  },
  {
   "cell_type": "code",
   "execution_count": null,
   "id": "35100263",
   "metadata": {},
   "outputs": [],
   "source": [
    "db<-read.csv(\"https://raw.githubusercontent.com/ignaciomsarmiento/datasets/main/boosting_tree_toy.csv\")\n",
    "head(db)\n",
    "\n",
    "y<-db$y\n",
    "x<-db$x"
   ]
  },
  {
   "cell_type": "code",
   "execution_count": null,
   "id": "f95b8aa0",
   "metadata": {},
   "outputs": [],
   "source": [
    "plot(x,y)"
   ]
  },
  {
   "cell_type": "markdown",
   "id": "8ce904f0",
   "metadata": {},
   "source": [
    "### Hiperparámetros\n",
    "\n",
    "- $\\lambda$ la tasa a la que aprende, los valores típicos son 0.01 o 0.001"
   ]
  },
  {
   "cell_type": "code",
   "execution_count": null,
   "id": "84a68d6e",
   "metadata": {},
   "outputs": [],
   "source": [
    "lambda<-.01"
   ]
  },
  {
   "cell_type": "markdown",
   "id": "c6ebe184",
   "metadata": {},
   "source": [
    "- Tamaño del árbol. Arboles pocos profundos  funcionan bien."
   ]
  },
  {
   "cell_type": "code",
   "execution_count": null,
   "id": "4eb144f1",
   "metadata": {},
   "outputs": [],
   "source": [
    "d<-1 #stump"
   ]
  },
  {
   "cell_type": "markdown",
   "id": "8f0a6880",
   "metadata": {},
   "source": [
    "- Iniciamos fijando $\\hat{f}(x)=0$ y $r_i=y_i$ para todos los $i$ del training set"
   ]
  },
  {
   "cell_type": "code",
   "execution_count": null,
   "id": "4329fd9f",
   "metadata": {},
   "outputs": [],
   "source": [
    "fhat=rep(0,length(y))\n",
    "\n",
    "r=y"
   ]
  },
  {
   "cell_type": "code",
   "execution_count": null,
   "id": "1de16472",
   "metadata": {},
   "outputs": [],
   "source": [
    "head(r)"
   ]
  },
  {
   "cell_type": "markdown",
   "id": "ff6788cb",
   "metadata": {},
   "source": [
    "Para $m=1,2,...,M$\n",
    "\n",
    " - Ajustamos un árbol $\\hat{f}^m$ con $d$ bifurcaciones ($d+1$ hojas)"
   ]
  },
  {
   "cell_type": "code",
   "execution_count": null,
   "id": "2ae7e91e",
   "metadata": {},
   "outputs": [],
   "source": [
    "#Primera iteración\n",
    "fit1<-rpart(r ~ x, control = list(maxdepth = d))\n",
    "yhat1<-predict(fit1,newdata=data.frame(x))\n",
    "\n",
    "head(lambda *yhat1)"
   ]
  },
  {
   "cell_type": "markdown",
   "id": "83d618e0",
   "metadata": {},
   "source": [
    "   - Actualizamos $\\hat{f}(x)$ con una versión \"shrunken\" del nuevo árbol"
   ]
  },
  {
   "cell_type": "code",
   "execution_count": null,
   "id": "d7f68cb6",
   "metadata": {},
   "outputs": [],
   "source": [
    "f1<-fhat + lambda *yhat1"
   ]
  },
  {
   "cell_type": "code",
   "execution_count": null,
   "id": "e05f7e90",
   "metadata": {},
   "outputs": [],
   "source": [
    "plot(x,y,ylab=\"\",xlab=\"\")\n",
    "lines(x,f1,type=\"s\",col=\"red\",lwd=3)"
   ]
  },
  {
   "cell_type": "markdown",
   "id": "83614540",
   "metadata": {},
   "source": [
    "- Actualizamos los residuales\n",
    "  \\begin{align}\n",
    "  r_i\\leftarrow r_i-\\lambda\\hat{f}^m(x)\n",
    "  \\end{align}"
   ]
  },
  {
   "cell_type": "code",
   "execution_count": null,
   "id": "123595c2",
   "metadata": {},
   "outputs": [],
   "source": [
    "r1<- r - lambda*yhat1"
   ]
  },
  {
   "cell_type": "markdown",
   "id": "d93a9687",
   "metadata": {},
   "source": [
    "El loop vuelve a iniciar, en la iteración 2:"
   ]
  },
  {
   "cell_type": "code",
   "execution_count": null,
   "id": "819cf0d2",
   "metadata": {},
   "outputs": [],
   "source": [
    "# iteracion 2\n",
    "\n",
    "fit2<-rpart(r1 ~ x, control = list(maxdepth = d))\n",
    "yhat2<-predict(fit2,newdata=data.frame(x))\n",
    "f2<- f1 + lambda *yhat2\n",
    "\n",
    "head(lambda *yhat2)"
   ]
  },
  {
   "cell_type": "code",
   "execution_count": null,
   "id": "e4442cc6",
   "metadata": {},
   "outputs": [],
   "source": [
    "plot(x,y,ylab=\"\",xlab=\"\")\n",
    "lines(x,f2,type=\"s\",col=\"red\",lwd=3)"
   ]
  },
  {
   "cell_type": "code",
   "execution_count": null,
   "id": "7da19f46",
   "metadata": {},
   "outputs": [],
   "source": [
    "head(f2)"
   ]
  },
  {
   "cell_type": "code",
   "execution_count": null,
   "id": "65ebfbff",
   "metadata": {},
   "outputs": [],
   "source": [
    "# En un loop\n",
    "fhat<-rep(0,length(y))\n",
    "\n",
    "r = y\n",
    "\n",
    "YP<-lambda*fhat\n",
    "\n",
    "for(t in 1:10){\n",
    "  fit <- rpart(r~x, control = list(maxdepth = 1))\n",
    "  yhat<- predict(fit,newdata=data.frame(x))\n",
    "  r <-  r - lambda*yhat\n",
    "  YP <-  cbind(YP,lambda*yhat)}\n",
    "\n",
    "head(YP)"
   ]
  },
  {
   "cell_type": "code",
   "execution_count": null,
   "id": "8985053f",
   "metadata": {},
   "outputs": [],
   "source": [
    "sum(YP[1,c(1,2,3)])"
   ]
  },
  {
   "cell_type": "code",
   "execution_count": null,
   "id": "3b444321",
   "metadata": {},
   "outputs": [],
   "source": [
    "M<-10\n",
    "\n",
    "fhat<-apply(YP[,1:M],1,sum)\n",
    "\n",
    "plot(x,y,ylab=\"\",xlab=\"\")\n",
    "lines(x,fhat,type=\"s\",col=\"red\",lwd=3)"
   ]
  },
  {
   "cell_type": "markdown",
   "id": "37c79b24",
   "metadata": {},
   "source": [
    "### Con Caret"
   ]
  },
  {
   "cell_type": "code",
   "execution_count": null,
   "id": "85c4b0b7",
   "metadata": {},
   "outputs": [],
   "source": [
    "set.seed(123)\n",
    "p_load(\"bst\")\n",
    "tree_boosted <- train(\n",
    "    log(Sale_Price) ~ Gr_Liv_Area  + Bldg_Type + Fence,\n",
    "    data=ames,\n",
    "    method = \"bstTree\",\n",
    "    trControl = fitControl,\n",
    "    tuneGrid=expand.grid(\n",
    "              mstop = c(300,400,500), #Boostin Iterations (M)\n",
    "              maxdepth = c(1,2,3), # Max Tree Depth (d)\n",
    "              nu = c(0.01,0.001)) # Shrinkage (lambda)\n",
    ")"
   ]
  },
  {
   "cell_type": "code",
   "execution_count": null,
   "id": "4cc5f25f",
   "metadata": {},
   "outputs": [],
   "source": [
    "tree_boosted"
   ]
  }
 ],
 "metadata": {
  "jupytext": {
   "formats": "ipynb,Rmd"
  },
  "kernelspec": {
   "display_name": "R",
   "language": "R",
   "name": "ir"
  },
  "language_info": {
   "codemirror_mode": "r",
   "file_extension": ".r",
   "mimetype": "text/x-r-source",
   "name": "R",
   "pygments_lexer": "r",
   "version": "4.3.0"
  },
  "toc": {
   "base_numbering": 1,
   "nav_menu": {},
   "number_sections": true,
   "sideBar": true,
   "skip_h1_title": false,
   "title_cell": "Table of Contents",
   "title_sidebar": "Contents",
   "toc_cell": false,
   "toc_position": {},
   "toc_section_display": true,
   "toc_window_display": false
  }
 },
 "nbformat": 4,
 "nbformat_minor": 5
}
