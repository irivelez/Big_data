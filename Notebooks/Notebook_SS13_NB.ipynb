{
 "cells": [
  {
   "cell_type": "markdown",
   "id": "340f63f6-93da-4633-9f43-43927ea8d65c",
   "metadata": {},
   "source": [
    "<div >\n",
    "<img src = \"../banner.jpg\" />\n",
    "</div>"
   ]
  },
  {
   "cell_type": "markdown",
   "id": "d8e20450",
   "metadata": {},
   "source": [
    "# Naive Bayes Example"
   ]
  },
  {
   "cell_type": "markdown",
   "id": "0eba46da",
   "metadata": {},
   "source": [
    "\n",
    "\\begin{align}\n",
    "Pr (Y=1|X)=\\frac{f(X|Y=1)\\pi(Y=1)}{f(X|Y=1)\\pi(Y=1) + f(X|Y=0)(1-\\pi(Y=1))}\n",
    "\\end{align}\n",
    "\n",
    "Need\n",
    "\n",
    "   - $\\pi(Y=1)$\n",
    "   - $f(X|Y=y)=f(X_1|Y=y) \\times \\dots   \\times f(X_k|Y=y)$\n"
   ]
  },
  {
   "cell_type": "markdown",
   "id": "3a33e1d7",
   "metadata": {},
   "source": [
    "Toy example with p = 3 predictors and K = 2 classes $k=1,2$. \n",
    "\n",
    "-  The first two predictors are quantitative, and the third predictor is qualitative with three levels. \n",
    "\n",
    "- Suppose further that $\\pi(Y=1)=\\pi(Y=2)= 0.5$.\n",
    "\n",
    "The estimated density functions $\\hat{f}_{kj}$ for $k = 1,2$ and $j = 1,2,3$ are displayed in Figure.\n"
   ]
  },
  {
   "cell_type": "markdown",
   "id": "0675e929",
   "metadata": {},
   "source": [
    "<div >\n",
    "<img width=\"500\" height=\"300\" src = \"figures/toy_example.png\" />\n",
    "</div>"
   ]
  },
  {
   "cell_type": "markdown",
   "id": "b851bbbe",
   "metadata": {},
   "source": [
    "We wish to classify a new observation, $x^*= (0.4, 1.5, 1)$"
   ]
  },
  {
   "cell_type": "markdown",
   "id": "306bdb71",
   "metadata": {},
   "source": [
    "- f_11 parece ser Normal(0,1):\n",
    "\n",
    "La densidad de la normal es:\n",
    " $$\n",
    " f(x)=\\frac{1}{\\sigma {\\sqrt {2\\pi }}}e^{-{\\frac {1}{2}}\\left({\\frac {x-\\mu }{\\sigma }}\\right)^{2}}\n",
    " $$"
   ]
  },
  {
   "cell_type": "code",
   "execution_count": 1,
   "id": "86682756",
   "metadata": {},
   "outputs": [],
   "source": [
    "normal_density<-function(x,mu=0,sd=1){\n",
    "    1/(sqrt(2*pi)*sd) * exp(-0.5*((x-mu)/sd)^2)\n",
    "}"
   ]
  },
  {
   "cell_type": "code",
   "execution_count": 2,
   "id": "aaaea0e5",
   "metadata": {},
   "outputs": [
    {
     "data": {
      "text/html": [
       "0.368270140303323"
      ],
      "text/latex": [
       "0.368270140303323"
      ],
      "text/markdown": [
       "0.368270140303323"
      ],
      "text/plain": [
       "[1] 0.3682701"
      ]
     },
     "metadata": {},
     "output_type": "display_data"
    }
   ],
   "source": [
    "normal_density(0.4)"
   ]
  },
  {
   "cell_type": "code",
   "execution_count": 3,
   "id": "0966bef2",
   "metadata": {},
   "outputs": [
    {
     "data": {
      "text/html": [
       "0.368270140303323"
      ],
      "text/latex": [
       "0.368270140303323"
      ],
      "text/markdown": [
       "0.368270140303323"
      ],
      "text/plain": [
       "[1] 0.3682701"
      ]
     },
     "metadata": {},
     "output_type": "display_data"
    }
   ],
   "source": [
    "dnorm(0.4)"
   ]
  },
  {
   "cell_type": "markdown",
   "id": "0448e7ee",
   "metadata": {},
   "source": [
    "En el libro nos dice que $\\hat{f}_{11}(0.4)=0.368$"
   ]
  },
  {
   "cell_type": "markdown",
   "id": "a3a0293d",
   "metadata": {},
   "source": [
    "También nos dice que \n",
    "\n",
    " $$\\hat{f}_{12}(1.5)=0.484$$\n",
    " \n",
    " $$\\hat{f}_{13}(1)=0.226$$\n",
    " \n",
    " $$\\hat{f}_{21}(0.4)= 0.030$$\n",
    " \n",
    " $$\\hat{f}_{22}(1.5)=0.130$$\n",
    " \n",
    " $$\\hat{f}_{23}(1.5)=0.616$$"
   ]
  },
  {
   "cell_type": "code",
   "execution_count": 4,
   "id": "d9548f90",
   "metadata": {},
   "outputs": [
    {
     "data": {
      "text/html": [
       "0.483941449038287"
      ],
      "text/latex": [
       "0.483941449038287"
      ],
      "text/markdown": [
       "0.483941449038287"
      ],
      "text/plain": [
       "[1] 0.4839414"
      ]
     },
     "metadata": {},
     "output_type": "display_data"
    }
   ],
   "source": [
    "dnorm(1.5,2,0.5)"
   ]
  },
  {
   "cell_type": "markdown",
   "id": "82332be5",
   "metadata": {},
   "source": [
    "Entonces\n",
    "\\begin{align}\n",
    "\\hat{f}(X|Y=1)=\\hat{f}_{11}(0.4)\\times \\hat{f}_{12}(1.5)\\times \\hat{f}_{13}\n",
    "\\end{align}\n"
   ]
  },
  {
   "cell_type": "markdown",
   "id": "688f0a1c",
   "metadata": {},
   "source": [
    "Tengo que recobrar la probabilidad"
   ]
  },
  {
   "cell_type": "markdown",
   "id": "470a7751",
   "metadata": {},
   "source": [
    "\\begin{align}\n",
    "Pr (Y=1|X)=\\frac{f(X|Y=1)\\pi(Y=1)}{f(X|Y=1)\\pi(Y=1) + f(X|Y=2)(1-\\pi(Y=1))}\n",
    "\\end{align}"
   ]
  },
  {
   "cell_type": "code",
   "execution_count": 5,
   "id": "571aaa76",
   "metadata": {},
   "outputs": [
    {
     "data": {
      "text/html": [
       "0.040253312"
      ],
      "text/latex": [
       "0.040253312"
      ],
      "text/markdown": [
       "0.040253312"
      ],
      "text/plain": [
       "[1] 0.04025331"
      ]
     },
     "metadata": {},
     "output_type": "display_data"
    }
   ],
   "source": [
    "f11<- 0.368\n",
    "f12<- 0.484\n",
    "f13<- 0.226\n",
    "\n",
    "f1<-f11*f12*f13 #(NB)\n",
    "\n",
    "f1"
   ]
  },
  {
   "cell_type": "code",
   "execution_count": 6,
   "id": "1f2f9693",
   "metadata": {},
   "outputs": [
    {
     "data": {
      "text/html": [
       "0.0024024"
      ],
      "text/latex": [
       "0.0024024"
      ],
      "text/markdown": [
       "0.0024024"
      ],
      "text/plain": [
       "[1] 0.0024024"
      ]
     },
     "metadata": {},
     "output_type": "display_data"
    }
   ],
   "source": [
    "f21<- 0.03\n",
    "f22<- 0.13\n",
    "f23<- 0.616\n",
    "\n",
    "f2<-f21*f22*f23 #(NB)\n",
    "\n",
    "f2"
   ]
  },
  {
   "cell_type": "code",
   "execution_count": 7,
   "id": "eedbe009",
   "metadata": {},
   "outputs": [],
   "source": [
    "#Prior\n",
    "p1<-0.5"
   ]
  },
  {
   "cell_type": "code",
   "execution_count": 8,
   "id": "d9a0500d",
   "metadata": {},
   "outputs": [
    {
     "data": {
      "text/html": [
       "0.94367928965762"
      ],
      "text/latex": [
       "0.94367928965762"
      ],
      "text/markdown": [
       "0.94367928965762"
      ],
      "text/plain": [
       "[1] 0.9436793"
      ]
     },
     "metadata": {},
     "output_type": "display_data"
    }
   ],
   "source": [
    "#Pr (Y=1|X)\n",
    "f1*p1/(f1*p1+f2*(1-p1))"
   ]
  },
  {
   "cell_type": "code",
   "execution_count": 9,
   "id": "c2b7ae98",
   "metadata": {},
   "outputs": [
    {
     "data": {
      "text/html": [
       "0.0563207103423804"
      ],
      "text/latex": [
       "0.0563207103423804"
      ],
      "text/markdown": [
       "0.0563207103423804"
      ],
      "text/plain": [
       "[1] 0.05632071"
      ]
     },
     "metadata": {},
     "output_type": "display_data"
    }
   ],
   "source": [
    "#Pr (Y=2|X)\n",
    "f2*(1-p1)/(f1*p1+f2*(1-p1))"
   ]
  }
 ],
 "metadata": {
  "jupytext": {
   "cell_metadata_filter": "tags,name,-all",
   "main_language": "R",
   "notebook_metadata_filter": "-all"
  },
  "kernelspec": {
   "display_name": "R",
   "language": "R",
   "name": "ir"
  },
  "language_info": {
   "codemirror_mode": "r",
   "file_extension": ".r",
   "mimetype": "text/x-r-source",
   "name": "R",
   "pygments_lexer": "r",
   "version": "4.3.0"
  },
  "toc": {
   "base_numbering": 1,
   "nav_menu": {},
   "number_sections": true,
   "sideBar": true,
   "skip_h1_title": false,
   "title_cell": "Table of Contents",
   "title_sidebar": "Contents",
   "toc_cell": false,
   "toc_position": {
    "height": "calc(100% - 180px)",
    "left": "10px",
    "top": "150px",
    "width": "344.4px"
   },
   "toc_section_display": true,
   "toc_window_display": false
  }
 },
 "nbformat": 4,
 "nbformat_minor": 5
}
