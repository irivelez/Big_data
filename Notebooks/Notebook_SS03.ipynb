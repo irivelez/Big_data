{
  "cells": [
    {
      "cell_type": "markdown",
      "metadata": {
        "id": "view-in-github",
        "colab_type": "text"
      },
      "source": [
        "<a href=\"https://colab.research.google.com/github/irivelez/Big_data/blob/main/Notebooks/Notebook_SS03.ipynb\" target=\"_parent\"><img src=\"https://colab.research.google.com/assets/colab-badge.svg\" alt=\"Open In Colab\"/></a>"
      ]
    },
    {
      "cell_type": "markdown",
      "id": "52d3ad87-541b-4039-af11-e014c2c8f74f",
      "metadata": {
        "id": "52d3ad87-541b-4039-af11-e014c2c8f74f"
      },
      "source": [
        "![banner.jpg](attachment:banner.jpg)\n"
      ]
    },
    {
      "cell_type": "markdown",
      "id": "3e386f69-995e-4594-8394-e932c7f695e2",
      "metadata": {
        "id": "3e386f69-995e-4594-8394-e932c7f695e2"
      },
      "source": [
        "# The Bootstrap\n"
      ]
    },
    {
      "cell_type": "markdown",
      "id": "f34151b4",
      "metadata": {
        "id": "f34151b4"
      },
      "source": [
        "![pelos.jpg](attachment:pelos.jpg)"
      ]
    },
    {
      "cell_type": "markdown",
      "id": "6af730bf-67c3-425e-9ea6-8a400e3f6287",
      "metadata": {
        "id": "6af730bf-67c3-425e-9ea6-8a400e3f6287"
      },
      "source": [
        "## Introduction\n",
        "\n",
        "\n",
        "The bootstrap is a widely applicable and extremely powerful statistical tool that can be used to quantify the uncertainty associated with a given estimator or statistical learning method.\n",
        "\n",
        "As a simple example, the bootstrap can be used to estimate the standard errors of the coefficients from a linear regression fit.\n",
        "\n",
        "In the specific case of linear regression, this is not particularly useful, since standard statistical software outputs such standard errors automatically.\n",
        "\n",
        "However, the power of the bootstrap lies in the fact that it can be easily applied to a wide range of statistical learning methods, including some for which a measure of variability is otherwise difficult to obtain and is not automatically output by statistical software."
      ]
    },
    {
      "cell_type": "markdown",
      "id": "b46eaf8a-511f-4102-8362-6a0cccd95752",
      "metadata": {
        "lines_to_next_cell": 0,
        "id": "b46eaf8a-511f-4102-8362-6a0cccd95752"
      },
      "source": [
        "Let's illustrate this with an example. The objective is to estimate gasoline demand's elasticity and quantify its associated uncertainty.\n",
        "\n",
        "\n",
        "Suppose we have the following data to estimate the elasticity where all the variables are in logs:"
      ]
    },
    {
      "cell_type": "code",
      "execution_count": null,
      "id": "523b9df4",
      "metadata": {
        "comment": "#R_CODE#NA",
        "id": "523b9df4",
        "outputId": "f3559cb5-8702-44d3-a10c-37a025bb0950"
      },
      "outputs": [
        {
          "data": {
            "text/html": [
              "<table class=\"dataframe\">\n",
              "<caption>A data.frame: 6 × 3</caption>\n",
              "<thead>\n",
              "\t<tr><th></th><th scope=col>consumption</th><th scope=col>price</th><th scope=col>income</th></tr>\n",
              "\t<tr><th></th><th scope=col>&lt;dbl&gt;</th><th scope=col>&lt;dbl&gt;</th><th scope=col>&lt;dbl&gt;</th></tr>\n",
              "</thead>\n",
              "<tbody>\n",
              "\t<tr><th scope=row>1</th><td>5.090526</td><td>-1.602419</td><td>2.342972</td></tr>\n",
              "\t<tr><th scope=row>2</th><td>5.092324</td><td>-1.572913</td><td>2.317068</td></tr>\n",
              "\t<tr><th scope=row>3</th><td>5.093950</td><td>-1.547504</td><td>2.340076</td></tr>\n",
              "\t<tr><th scope=row>4</th><td>5.067488</td><td>-1.505120</td><td>2.323478</td></tr>\n",
              "\t<tr><th scope=row>5</th><td>5.049762</td><td>-1.456725</td><td>2.335196</td></tr>\n",
              "\t<tr><th scope=row>6</th><td>5.049566</td><td>-1.438641</td><td>2.364967</td></tr>\n",
              "</tbody>\n",
              "</table>\n"
            ],
            "text/latex": [
              "A data.frame: 6 × 3\n",
              "\\begin{tabular}{r|lll}\n",
              "  & consumption & price & income\\\\\n",
              "  & <dbl> & <dbl> & <dbl>\\\\\n",
              "\\hline\n",
              "\t1 & 5.090526 & -1.602419 & 2.342972\\\\\n",
              "\t2 & 5.092324 & -1.572913 & 2.317068\\\\\n",
              "\t3 & 5.093950 & -1.547504 & 2.340076\\\\\n",
              "\t4 & 5.067488 & -1.505120 & 2.323478\\\\\n",
              "\t5 & 5.049762 & -1.456725 & 2.335196\\\\\n",
              "\t6 & 5.049566 & -1.438641 & 2.364967\\\\\n",
              "\\end{tabular}\n"
            ],
            "text/markdown": [
              "\n",
              "A data.frame: 6 × 3\n",
              "\n",
              "| <!--/--> | consumption &lt;dbl&gt; | price &lt;dbl&gt; | income &lt;dbl&gt; |\n",
              "|---|---|---|---|\n",
              "| 1 | 5.090526 | -1.602419 | 2.342972 |\n",
              "| 2 | 5.092324 | -1.572913 | 2.317068 |\n",
              "| 3 | 5.093950 | -1.547504 | 2.340076 |\n",
              "| 4 | 5.067488 | -1.505120 | 2.323478 |\n",
              "| 5 | 5.049762 | -1.456725 | 2.335196 |\n",
              "| 6 | 5.049566 | -1.438641 | 2.364967 |\n",
              "\n"
            ],
            "text/plain": [
              "  consumption price     income  \n",
              "1 5.090526    -1.602419 2.342972\n",
              "2 5.092324    -1.572913 2.317068\n",
              "3 5.093950    -1.547504 2.340076\n",
              "4 5.067488    -1.505120 2.323478\n",
              "5 5.049762    -1.456725 2.335196\n",
              "6 5.049566    -1.438641 2.364967"
            ]
          },
          "metadata": {},
          "output_type": "display_data"
        }
      ],
      "source": [
        "gas<-read.csv(\"https://raw.githubusercontent.com/ignaciomsarmiento/datasets/main/gas.csv\",header=T)\n",
        "head(gas)\n"
      ]
    },
    {
      "cell_type": "markdown",
      "id": "96055d18",
      "metadata": {
        "id": "96055d18"
      },
      "source": [
        "\n",
        "Before estimating different models, let's recall that the elasticity of demand, usually denoted by $\\eta_{qp}$, is the percentage change in the quantity demanded divided by the percentage change in the price.  It gives the percentage change in quantity demanded when there is a one percent increase in price, holding everything else constant:\n",
        "\n",
        "\\begin{align}\n",
        "\\eta_{qp} &=\\frac{\\frac{\\partial Q}{Q}}{\\frac{\\partial P}{P}} \\\\\n",
        "          &=\\frac{\\partial Q}{\\partial P}\\frac{P}{Q}\n",
        "\\end{align}"
      ]
    },
    {
      "cell_type": "markdown",
      "id": "13a10007-1d3b-476e-a910-26fbc07f750e",
      "metadata": {
        "id": "13a10007-1d3b-476e-a910-26fbc07f750e"
      },
      "source": [
        "## Case 1"
      ]
    },
    {
      "cell_type": "markdown",
      "id": "2381f4d0-81db-4fc1-bf4a-e5e38e262d1f",
      "metadata": {
        "id": "2381f4d0-81db-4fc1-bf4a-e5e38e262d1f"
      },
      "source": [
        "\n",
        "\n",
        "To begin with, let's suppose that the demand model takes the form:\n",
        "\n",
        "$$\n",
        "\\ln{Quantity}_{t}= \\alpha + \\beta_1 \\ln{Price}_{t} +\\beta_2 \\ln{Income}_{t} +u_{t}\n",
        "$$\n",
        "\n",
        "given this specification, we have that the elasticity of demand is the coefficient associated with `lnPrice`\n",
        "\n",
        "\n",
        "\n",
        "$$\n",
        "\\eta_{qp} =\\beta_1\n",
        "$$\n",
        "\n",
        "Let's estimate this"
      ]
    },
    {
      "cell_type": "code",
      "execution_count": null,
      "id": "2a1b88f7",
      "metadata": {
        "message": false,
        "results": "asis",
        "warning": false,
        "id": "2a1b88f7",
        "outputId": "fc4cf5ba-ebbf-413c-cff3-4363fad6adce"
      },
      "outputs": [
        {
          "name": "stdout",
          "output_type": "stream",
          "text": [
            "\n",
            "========================================\n",
            "                 Dependent variable:    \n",
            "             ---------------------------\n",
            "                     consumption        \n",
            "----------------------------------------\n",
            "price                 -0.838***         \n",
            "                       (0.025)          \n",
            "                                        \n",
            "income                2.117***          \n",
            "                       (0.048)          \n",
            "                                        \n",
            "Constant              -1.056***         \n",
            "                       (0.158)          \n",
            "                                        \n",
            "----------------------------------------\n",
            "Observations             246            \n",
            "R2                      0.917           \n",
            "========================================\n",
            "Note:        *p<0.1; **p<0.05; ***p<0.01\n"
          ]
        }
      ],
      "source": [
        "require(\"pacman\")\n",
        "p_load(\"tidyverse\",\"stargazer\")\n",
        "\n",
        "mod1<- lm(consumption~price+income,gas)\n",
        "stargazer(mod1,type=\"text\", omit.stat=c(\"ser\",\"f\",\"adj.rsq\"))\n"
      ]
    },
    {
      "cell_type": "markdown",
      "id": "c79b0f6b",
      "metadata": {
        "id": "c79b0f6b"
      },
      "source": [
        "Thus the elasticity of demand, given the above specification, is -0.838, and the standard error of that elasticity of demand is 0.025.\n"
      ]
    },
    {
      "cell_type": "code",
      "execution_count": null,
      "id": "c8b82d72",
      "metadata": {
        "id": "c8b82d72",
        "outputId": "49349c72-2b2f-4d48-b146-ac1609f37cb4"
      },
      "outputs": [
        {
          "name": "stdout",
          "output_type": "stream",
          "text": [
            "List of 12\n",
            " $ coefficients : Named num [1:3] -1.056 -0.838 2.117\n",
            "  ..- attr(*, \"names\")= chr [1:3] \"(Intercept)\" \"price\" \"income\"\n",
            " $ residuals    : Named num [1:246] -0.1566 -0.0752 -0.101 -0.0568 -0.0587 ...\n",
            "  ..- attr(*, \"names\")= chr [1:246] \"1\" \"2\" \"3\" \"4\" ...\n",
            " $ effects      : Named num [1:246] -90.1731 2.6074 4.0818 -0.0353 -0.037 ...\n",
            "  ..- attr(*, \"names\")= chr [1:246] \"(Intercept)\" \"price\" \"income\" \"\" ...\n",
            " $ rank         : int 3\n",
            " $ fitted.values: Named num [1:246] 5.25 5.17 5.19 5.12 5.11 ...\n",
            "  ..- attr(*, \"names\")= chr [1:246] \"1\" \"2\" \"3\" \"4\" ...\n",
            " $ assign       : int [1:3] 0 1 2\n",
            " $ qr           :List of 5\n",
            "  ..$ qr   : num [1:246, 1:3] -15.6844 0.0638 0.0638 0.0638 0.0638 ...\n",
            "  .. ..- attr(*, \"dimnames\")=List of 2\n",
            "  .. .. ..$ : chr [1:246] \"1\" \"2\" \"3\" \"4\" ...\n",
            "  .. .. ..$ : chr [1:3] \"(Intercept)\" \"price\" \"income\"\n",
            "  .. ..- attr(*, \"assign\")= int [1:3] 0 1 2\n",
            "  ..$ qraux: num [1:3] 1.06 1.09 1.07\n",
            "  ..$ pivot: int [1:3] 1 2 3\n",
            "  ..$ tol  : num 1e-07\n",
            "  ..$ rank : int 3\n",
            "  ..- attr(*, \"class\")= chr \"qr\"\n",
            " $ df.residual  : int 243\n",
            " $ xlevels      : Named list()\n",
            " $ call         : language lm(formula = consumption ~ price + income, data = gas)\n",
            " $ terms        :Classes 'terms', 'formula'  language consumption ~ price + income\n",
            "  .. ..- attr(*, \"variables\")= language list(consumption, price, income)\n",
            "  .. ..- attr(*, \"factors\")= int [1:3, 1:2] 0 1 0 0 0 1\n",
            "  .. .. ..- attr(*, \"dimnames\")=List of 2\n",
            "  .. .. .. ..$ : chr [1:3] \"consumption\" \"price\" \"income\"\n",
            "  .. .. .. ..$ : chr [1:2] \"price\" \"income\"\n",
            "  .. ..- attr(*, \"term.labels\")= chr [1:2] \"price\" \"income\"\n",
            "  .. ..- attr(*, \"order\")= int [1:2] 1 1\n",
            "  .. ..- attr(*, \"intercept\")= int 1\n",
            "  .. ..- attr(*, \"response\")= int 1\n",
            "  .. ..- attr(*, \".Environment\")=<environment: R_GlobalEnv> \n",
            "  .. ..- attr(*, \"predvars\")= language list(consumption, price, income)\n",
            "  .. ..- attr(*, \"dataClasses\")= Named chr [1:3] \"numeric\" \"numeric\" \"numeric\"\n",
            "  .. .. ..- attr(*, \"names\")= chr [1:3] \"consumption\" \"price\" \"income\"\n",
            " $ model        :'data.frame':\t246 obs. of  3 variables:\n",
            "  ..$ consumption: num [1:246] 5.09 5.09 5.09 5.07 5.05 ...\n",
            "  ..$ price      : num [1:246] -1.6 -1.57 -1.55 -1.51 -1.46 ...\n",
            "  ..$ income     : num [1:246] 2.34 2.32 2.34 2.32 2.34 ...\n",
            "  ..- attr(*, \"terms\")=Classes 'terms', 'formula'  language consumption ~ price + income\n",
            "  .. .. ..- attr(*, \"variables\")= language list(consumption, price, income)\n",
            "  .. .. ..- attr(*, \"factors\")= int [1:3, 1:2] 0 1 0 0 0 1\n",
            "  .. .. .. ..- attr(*, \"dimnames\")=List of 2\n",
            "  .. .. .. .. ..$ : chr [1:3] \"consumption\" \"price\" \"income\"\n",
            "  .. .. .. .. ..$ : chr [1:2] \"price\" \"income\"\n",
            "  .. .. ..- attr(*, \"term.labels\")= chr [1:2] \"price\" \"income\"\n",
            "  .. .. ..- attr(*, \"order\")= int [1:2] 1 1\n",
            "  .. .. ..- attr(*, \"intercept\")= int 1\n",
            "  .. .. ..- attr(*, \"response\")= int 1\n",
            "  .. .. ..- attr(*, \".Environment\")=<environment: R_GlobalEnv> \n",
            "  .. .. ..- attr(*, \"predvars\")= language list(consumption, price, income)\n",
            "  .. .. ..- attr(*, \"dataClasses\")= Named chr [1:3] \"numeric\" \"numeric\" \"numeric\"\n",
            "  .. .. .. ..- attr(*, \"names\")= chr [1:3] \"consumption\" \"price\" \"income\"\n",
            " - attr(*, \"class\")= chr \"lm\"\n"
          ]
        }
      ],
      "source": [
        "str(mod1)"
      ]
    },
    {
      "cell_type": "code",
      "execution_count": null,
      "id": "0ea49ba4",
      "metadata": {
        "id": "0ea49ba4",
        "outputId": "295e2bca-9eaa-4005-ff1f-2cf0cd833181"
      },
      "outputs": [
        {
          "data": {
            "text/html": [
              "<style>\n",
              ".dl-inline {width: auto; margin:0; padding: 0}\n",
              ".dl-inline>dt, .dl-inline>dd {float: none; width: auto; display: inline-block}\n",
              ".dl-inline>dt::after {content: \":\\0020\"; padding-right: .5ex}\n",
              ".dl-inline>dt:not(:first-of-type) {padding-left: .5ex}\n",
              "</style><dl class=dl-inline><dt>(Intercept)</dt><dd>-1.05614789377265</dd><dt>price</dt><dd>-0.838363398058852</dd><dt>income</dt><dd>2.11689255068997</dd></dl>\n"
            ],
            "text/latex": [
              "\\begin{description*}\n",
              "\\item[(Intercept)] -1.05614789377265\n",
              "\\item[price] -0.838363398058852\n",
              "\\item[income] 2.11689255068997\n",
              "\\end{description*}\n"
            ],
            "text/markdown": [
              "(Intercept)\n",
              ":   -1.05614789377265price\n",
              ":   -0.838363398058852income\n",
              ":   2.11689255068997\n",
              "\n"
            ],
            "text/plain": [
              "(Intercept)       price      income \n",
              " -1.0561479  -0.8383634   2.1168926 "
            ]
          },
          "metadata": {},
          "output_type": "display_data"
        }
      ],
      "source": [
        "mod1$coefficients\n"
      ]
    },
    {
      "cell_type": "code",
      "execution_count": null,
      "id": "5edfb75b",
      "metadata": {
        "id": "5edfb75b",
        "outputId": "53abaff5-3f95-45a7-b70d-9cd9ca78383a"
      },
      "outputs": [
        {
          "data": {
            "text/html": [
              "<strong>price:</strong> -0.838"
            ],
            "text/latex": [
              "\\textbf{price:} -0.838"
            ],
            "text/markdown": [
              "**price:** -0.838"
            ],
            "text/plain": [
              " price \n",
              "-0.838 "
            ]
          },
          "metadata": {},
          "output_type": "display_data"
        }
      ],
      "source": [
        "round(mod1$coefficients[2],3)"
      ]
    },
    {
      "cell_type": "markdown",
      "id": "49d3bc27",
      "metadata": {
        "id": "49d3bc27"
      },
      "source": [
        "\n",
        "\n",
        "We can also find the standard error using *bootstrap*. In general terms, if $\\theta$ is the magnitude of interest (in our case, is $\\eta_{qp} =\\beta_1$ we need to perform the following steps:\n",
        "\n",
        "  1. Take a sample of size $n$ with replacement ( *bootstrap sample*)\n",
        "  2. Compute $\\hat{\\theta}_j$ $j=1,\\dots,B$, here it would be  $\\eta_{qp} =\\beta_1$\n",
        "  3. Repeat $B$ times\n",
        "  4. Calculate the standard error\n",
        "\n",
        "\n",
        "Let's implement the bootstrap in two ways: \"by hand\", and using the package `boot`."
      ]
    },
    {
      "cell_type": "markdown",
      "id": "a445a248",
      "metadata": {
        "id": "a445a248"
      },
      "source": [
        "The first step is to tell `R`  a seed so results are reproducible and set the number of bootstrap samples $B$:"
      ]
    },
    {
      "cell_type": "code",
      "execution_count": null,
      "id": "34bef623",
      "metadata": {
        "comment": "#R_CODE#NA",
        "lines_to_next_cell": 2,
        "id": "34bef623"
      },
      "outputs": [],
      "source": [
        "set.seed(123)\n",
        "\n",
        "B<-1000 # Number of Repetions()\n",
        "\n",
        "eta_mod1<-rep(0,B)#this is an empty vector where we are going to save our elasticity estimates\n"
      ]
    },
    {
      "cell_type": "markdown",
      "id": "45ebba2a",
      "metadata": {
        "id": "45ebba2a"
      },
      "source": [
        "Next, we have to create a loop that takes a sample of size $n$ with replacement, estimates the coefficient of interest, and saves it to the above empty vector."
      ]
    },
    {
      "cell_type": "code",
      "execution_count": null,
      "id": "5611d6b6-52e4-4cca-a907-2dafaa1fcc1a",
      "metadata": {
        "id": "5611d6b6-52e4-4cca-a907-2dafaa1fcc1a"
      },
      "outputs": [],
      "source": [
        "for(i in 1:B){\n",
        "\n",
        "      db_sample<- sample_frac(gas,size=1,replace=TRUE) #takes a sample with replacement of the same size of the original sample (1 or 100%)\n",
        "\n",
        "      f<-lm(consumption~price+income,db_sample)# estimates the models\n",
        "\n",
        "      coefs<-f$coefficients[2] # gets the coefficient of interest that coincides with the elasticity of demand\n",
        "\n",
        "      eta_mod1[i]<-coefs #saves it in the above vector\n",
        "    }"
      ]
    },
    {
      "cell_type": "markdown",
      "id": "f7bda527",
      "metadata": {
        "id": "f7bda527"
      },
      "source": [
        "We can check that we have B=1000 estimates of the elasticity of demand"
      ]
    },
    {
      "cell_type": "code",
      "execution_count": null,
      "id": "fa83540b",
      "metadata": {
        "id": "fa83540b",
        "outputId": "83864075-f8b4-44e7-fcae-0850e1cf8f54"
      },
      "outputs": [
        {
          "data": {
            "text/html": [
              "1000"
            ],
            "text/latex": [
              "1000"
            ],
            "text/markdown": [
              "1000"
            ],
            "text/plain": [
              "[1] 1000"
            ]
          },
          "metadata": {},
          "output_type": "display_data"
        }
      ],
      "source": [
        "length(eta_mod1)"
      ]
    },
    {
      "cell_type": "code",
      "execution_count": null,
      "id": "babfa4cd",
      "metadata": {
        "id": "babfa4cd",
        "outputId": "580fb760-dcba-4269-e2d5-80bea4bc21b6"
      },
      "outputs": [
        {
          "data": {
            "text/html": [
              "<style>\n",
              ".list-inline {list-style: none; margin:0; padding: 0}\n",
              ".list-inline>li {display: inline-block}\n",
              ".list-inline>li:not(:last-child)::after {content: \"\\00b7\"; padding: 0 .5ex}\n",
              "</style>\n",
              "<ol class=list-inline><li>-0.877049108351513</li><li>-0.808692654459221</li><li>-0.873032430208429</li><li>-0.850116627260617</li><li>-0.799106784736415</li><li>-0.831090351623041</li><li>-0.847297105257426</li><li>-0.809266706506851</li><li>-0.839916275908943</li><li>-0.810618917035752</li><li>-0.897621104106139</li><li>-0.825547559317194</li><li>-0.809085912240543</li><li>-0.89282465617139</li><li>-0.813466064240027</li><li>-0.853925033326974</li><li>-0.830712173615543</li><li>-0.894640550634478</li><li>-0.826605798759669</li><li>-0.858255458056668</li><li>-0.888696110496772</li><li>-0.814673707244581</li><li>-0.80984213061671</li><li>-0.820937894882204</li><li>-0.878298248773273</li><li>-0.790786983425066</li><li>-0.85390611600625</li><li>-0.81728471311523</li><li>-0.859557133675202</li><li>-0.801785090467706</li><li>-0.873307029208072</li><li>-0.894880724511431</li><li>-0.829759511237488</li><li>-0.830630463485032</li><li>-0.816967795493238</li><li>-0.904299521130873</li><li>-0.778266139215793</li><li>-0.81568696177967</li><li>-0.825037141910816</li><li>-0.854824721293738</li><li>-0.882971283135871</li><li>-0.851735038913858</li><li>-0.898601752492433</li><li>-0.871574329298449</li><li>-0.853312526701759</li><li>-0.804384157310134</li><li>-0.800873571415778</li><li>-0.848605892783482</li><li>-0.821514647163646</li><li>-0.843680655731902</li><li>-0.858636130032436</li><li>-0.82783336988272</li><li>-0.832073355300939</li><li>-0.819900014657353</li><li>-0.829708170197575</li><li>-0.852838896378611</li><li>-0.834275300824642</li><li>-0.827758960895839</li><li>-0.850416651202237</li><li>-0.876371758543707</li><li>-0.804039165589085</li><li>-0.846586637126372</li><li>-0.831093524449053</li><li>-0.850298456514166</li><li>-0.826527019689793</li><li>-0.862080464775025</li><li>-0.83151288384563</li><li>-0.797644329982381</li><li>-0.864498269630586</li><li>-0.872430306804609</li><li>-0.835335205843685</li><li>-0.810764994806367</li><li>-0.757026946124158</li><li>-0.759382740427482</li><li>-0.879391222638133</li><li>-0.81349488172038</li><li>-0.83349894828391</li><li>-0.827299376845136</li><li>-0.805306026798678</li><li>-0.839294788011198</li><li>-0.789224078133144</li><li>-0.840876162958779</li><li>-0.850262007600625</li><li>-0.82845303240895</li><li>-0.846365963232503</li><li>-0.884789247691983</li><li>-0.855103353707466</li><li>-0.841882408960597</li><li>-0.838010864340964</li><li>-0.805157600689344</li><li>-0.833897347883078</li><li>-0.844472004898798</li><li>-0.909406214312106</li><li>-0.840631766294915</li><li>-0.843944823035814</li><li>-0.800805940008601</li><li>-0.850271900031345</li><li>-0.875538624906309</li><li>-0.887983059326606</li><li>-0.859031447693804</li><li>-0.801847528312165</li><li>-0.855654297674874</li><li>-0.774125768263983</li><li>-0.854780590595206</li><li>-0.812016299265839</li><li>-0.825615653398363</li><li>-0.862634466872282</li><li>-0.854345341654696</li><li>-0.882436386352819</li><li>-0.815096219528125</li><li>-0.854434592491988</li><li>-0.816537331025606</li><li>-0.844433525172504</li><li>-0.810798449459601</li><li>-0.856297128523076</li><li>-0.860542634078453</li><li>-0.842791239437034</li><li>-0.865310368247081</li><li>-0.811441969107987</li><li>-0.771002620214344</li><li>-0.867126990580593</li><li>-0.833232101472587</li><li>-0.807176500108654</li><li>-0.886931075600813</li><li>-0.830779671641459</li><li>-0.84325190676986</li><li>-0.814859200157593</li><li>-0.852301586920823</li><li>-0.850881247717388</li><li>-0.816111818745058</li><li>-0.838518388637167</li><li>-0.840100400784423</li><li>-0.828272936110008</li><li>-0.815340236471783</li><li>-0.83680284013855</li><li>-0.817418169350495</li><li>-0.81878012805503</li><li>-0.796532919290048</li><li>-0.857073952142238</li><li>-0.809968384254264</li><li>-0.810812150971148</li><li>-0.878993748134938</li><li>-0.808237258631635</li><li>-0.878895684306883</li><li>-0.854862691027032</li><li>-0.841797231940075</li><li>-0.813695182565109</li><li>-0.824249643265166</li><li>-0.849096302641804</li><li>-0.838328315381203</li><li>-0.862326120512996</li><li>-0.847229873577137</li><li>-0.905909272937527</li><li>-0.900131268975257</li><li>-0.817987467373638</li><li>-0.816087640929766</li><li>-0.851872962406388</li><li>-0.790093248115131</li><li>-0.832683850302006</li><li>-0.814748399004234</li><li>-0.841925134946875</li><li>-0.822522439606703</li><li>-0.811413249019586</li><li>-0.843043434399211</li><li>-0.781794509536216</li><li>-0.842040319839462</li><li>-0.821387201139715</li><li>-0.806521492067981</li><li>-0.845865215057982</li><li>-0.852386446602706</li><li>-0.855253747654618</li><li>-0.843189497280776</li><li>-0.794215017158975</li><li>-0.838938490927249</li><li>-0.810642272164768</li><li>-0.854497837640173</li><li>-0.788405324169703</li><li>-0.836947141859284</li><li>-0.864210262576665</li><li>-0.83172074183899</li><li>-0.854662746143173</li><li>-0.833479293549947</li><li>-0.841792597682616</li><li>-0.839468885930557</li><li>-0.844708073322568</li><li>-0.857254117048821</li><li>-0.8935602301126</li><li>-0.88375866580316</li><li>-0.845588406552712</li><li>-0.843714085117472</li><li>-0.830901757036813</li><li>-0.877158365660925</li><li>-0.83396603090936</li><li>-0.827045571103931</li><li>-0.88135114813389</li><li>-0.845271925172084</li><li>-0.83292992195752</li><li>-0.779015047019024</li><li>-0.803300192126566</li><li>-0.801143007570636</li><li>⋯</li><li>-0.832593090864506</li><li>-0.879309899906517</li><li>-0.835479579700653</li><li>-0.857157073301488</li><li>-0.818488643063574</li><li>-0.801301403639095</li><li>-0.831774168503706</li><li>-0.840430274338245</li><li>-0.797402031751799</li><li>-0.885147543155672</li><li>-0.880698714401668</li><li>-0.809876199828552</li><li>-0.779255746645672</li><li>-0.82499769031667</li><li>-0.895285573335842</li><li>-0.799930134567225</li><li>-0.812669568282773</li><li>-0.817173944338939</li><li>-0.84498630226495</li><li>-0.818042323969837</li><li>-0.833705269950803</li><li>-0.875613778170513</li><li>-0.822483094054114</li><li>-0.824207912470453</li><li>-0.868714459324665</li><li>-0.785254856448479</li><li>-0.856606173816535</li><li>-0.89726004799765</li><li>-0.860978070469483</li><li>-0.792830743933527</li><li>-0.833094978998842</li><li>-0.862624183928937</li><li>-0.813382636949481</li><li>-0.814197457557302</li><li>-0.880611212733959</li><li>-0.841659769104541</li><li>-0.872969273891798</li><li>-0.867236255737689</li><li>-0.846780054203324</li><li>-0.793063995583969</li><li>-0.848655038703661</li><li>-0.862695580519202</li><li>-0.827834157519413</li><li>-0.868985572507968</li><li>-0.867759065863357</li><li>-0.83609826123353</li><li>-0.819857256172215</li><li>-0.878346683140243</li><li>-0.832717241490933</li><li>-0.830958308776911</li><li>-0.811054648208316</li><li>-0.802760653284603</li><li>-0.850825665235585</li><li>-0.82451328367138</li><li>-0.810135331678815</li><li>-0.876028883586288</li><li>-0.801299284472049</li><li>-0.878221096733456</li><li>-0.847240791539256</li><li>-0.817534100189995</li><li>-0.856371476818447</li><li>-0.853067255986426</li><li>-0.799365201824341</li><li>-0.813270189012079</li><li>-0.907516584912979</li><li>-0.845401691807736</li><li>-0.86789125335444</li><li>-0.856831969578447</li><li>-0.822351342380822</li><li>-0.797023830303969</li><li>-0.812805173191812</li><li>-0.806533376528397</li><li>-0.864030791130712</li><li>-0.835517519549189</li><li>-0.796076183649612</li><li>-0.798244144632853</li><li>-0.858923689591517</li><li>-0.82175636240993</li><li>-0.843410597846066</li><li>-0.837010589567613</li><li>-0.809417077284384</li><li>-0.834055375244958</li><li>-0.867868347569194</li><li>-0.839785187564056</li><li>-0.873958467735819</li><li>-0.799424065960092</li><li>-0.80619377737058</li><li>-0.845267875171829</li><li>-0.864095522636619</li><li>-0.843075092545185</li><li>-0.863201353200277</li><li>-0.841464990794324</li><li>-0.88842356646598</li><li>-0.860099796439558</li><li>-0.814683911635108</li><li>-0.858315481581879</li><li>-0.879105711041068</li><li>-0.833076630654673</li><li>-0.851390809885295</li><li>-0.844898351157289</li><li>-0.875513358161538</li><li>-0.837396975787144</li><li>-0.799637081132624</li><li>-0.810334982126724</li><li>-0.819279953316194</li><li>-0.822836331322175</li><li>-0.785717662823981</li><li>-0.836032008752341</li><li>-0.829454655015389</li><li>-0.819268685878601</li><li>-0.840528817550696</li><li>-0.816184276360786</li><li>-0.885834410106279</li><li>-0.812284140887257</li><li>-0.813442191131682</li><li>-0.813381139925952</li><li>-0.80765125564479</li><li>-0.839442646525786</li><li>-0.854426055296551</li><li>-0.878004463935283</li><li>-0.827001075222655</li><li>-0.787466862450287</li><li>-0.890959693155514</li><li>-0.884968279154482</li><li>-0.799930694342266</li><li>-0.788849130027914</li><li>-0.861523206654661</li><li>-0.855722940504328</li><li>-0.842878181691913</li><li>-0.800903107057056</li><li>-0.889196200710848</li><li>-0.787552248238879</li><li>-0.862602960884475</li><li>-0.822838761165037</li><li>-0.830200438870588</li><li>-0.820198393036641</li><li>-0.841951464560808</li><li>-0.868854396629305</li><li>-0.771609128263821</li><li>-0.852236057027441</li><li>-0.899155235373267</li><li>-0.798387210862945</li><li>-0.847321568407151</li><li>-0.832555736249234</li><li>-0.851055618128969</li><li>-0.794679842720127</li><li>-0.882925678512966</li><li>-0.861432309566722</li><li>-0.775620671707366</li><li>-0.853138460302158</li><li>-0.832538886627336</li><li>-0.820938422306611</li><li>-0.821028496023834</li><li>-0.847166530603932</li><li>-0.780790412848144</li><li>-0.853863584419638</li><li>-0.806089691858566</li><li>-0.822790077224644</li><li>-0.773671730446761</li><li>-0.784221242954719</li><li>-0.845756167315088</li><li>-0.858212466449921</li><li>-0.84261195282829</li><li>-0.84565950830512</li><li>-0.83479297359582</li><li>-0.894522004573971</li><li>-0.771732750741017</li><li>-0.865198210388672</li><li>-0.792896867778177</li><li>-0.849680793337102</li><li>-0.874539186943104</li><li>-0.821815158111118</li><li>-0.879347541161338</li><li>-0.799112320425305</li><li>-0.847364759837473</li><li>-0.821901584631985</li><li>-0.851135758859843</li><li>-0.861796924196635</li><li>-0.837161715089005</li><li>-0.808864336133413</li><li>-0.820701799875841</li><li>-0.801636565068941</li><li>-0.823531409817554</li><li>-0.830384229500178</li><li>-0.853944086030294</li><li>-0.811588285617606</li><li>-0.843114317931689</li><li>-0.834269900102216</li><li>-0.864116713060891</li><li>-0.898034113580858</li><li>-0.752714324465477</li><li>-0.86260630442685</li><li>-0.80806411137246</li><li>-0.796180793846894</li><li>-0.853890164910309</li><li>-0.8442401312539</li><li>-0.789314093691171</li><li>-0.807500617877492</li><li>-0.840112891593098</li><li>-0.801116281525283</li></ol>\n"
            ],
            "text/latex": [
              "\\begin{enumerate*}\n",
              "\\item -0.877049108351513\n",
              "\\item -0.808692654459221\n",
              "\\item -0.873032430208429\n",
              "\\item -0.850116627260617\n",
              "\\item -0.799106784736415\n",
              "\\item -0.831090351623041\n",
              "\\item -0.847297105257426\n",
              "\\item -0.809266706506851\n",
              "\\item -0.839916275908943\n",
              "\\item -0.810618917035752\n",
              "\\item -0.897621104106139\n",
              "\\item -0.825547559317194\n",
              "\\item -0.809085912240543\n",
              "\\item -0.89282465617139\n",
              "\\item -0.813466064240027\n",
              "\\item -0.853925033326974\n",
              "\\item -0.830712173615543\n",
              "\\item -0.894640550634478\n",
              "\\item -0.826605798759669\n",
              "\\item -0.858255458056668\n",
              "\\item -0.888696110496772\n",
              "\\item -0.814673707244581\n",
              "\\item -0.80984213061671\n",
              "\\item -0.820937894882204\n",
              "\\item -0.878298248773273\n",
              "\\item -0.790786983425066\n",
              "\\item -0.85390611600625\n",
              "\\item -0.81728471311523\n",
              "\\item -0.859557133675202\n",
              "\\item -0.801785090467706\n",
              "\\item -0.873307029208072\n",
              "\\item -0.894880724511431\n",
              "\\item -0.829759511237488\n",
              "\\item -0.830630463485032\n",
              "\\item -0.816967795493238\n",
              "\\item -0.904299521130873\n",
              "\\item -0.778266139215793\n",
              "\\item -0.81568696177967\n",
              "\\item -0.825037141910816\n",
              "\\item -0.854824721293738\n",
              "\\item -0.882971283135871\n",
              "\\item -0.851735038913858\n",
              "\\item -0.898601752492433\n",
              "\\item -0.871574329298449\n",
              "\\item -0.853312526701759\n",
              "\\item -0.804384157310134\n",
              "\\item -0.800873571415778\n",
              "\\item -0.848605892783482\n",
              "\\item -0.821514647163646\n",
              "\\item -0.843680655731902\n",
              "\\item -0.858636130032436\n",
              "\\item -0.82783336988272\n",
              "\\item -0.832073355300939\n",
              "\\item -0.819900014657353\n",
              "\\item -0.829708170197575\n",
              "\\item -0.852838896378611\n",
              "\\item -0.834275300824642\n",
              "\\item -0.827758960895839\n",
              "\\item -0.850416651202237\n",
              "\\item -0.876371758543707\n",
              "\\item -0.804039165589085\n",
              "\\item -0.846586637126372\n",
              "\\item -0.831093524449053\n",
              "\\item -0.850298456514166\n",
              "\\item -0.826527019689793\n",
              "\\item -0.862080464775025\n",
              "\\item -0.83151288384563\n",
              "\\item -0.797644329982381\n",
              "\\item -0.864498269630586\n",
              "\\item -0.872430306804609\n",
              "\\item -0.835335205843685\n",
              "\\item -0.810764994806367\n",
              "\\item -0.757026946124158\n",
              "\\item -0.759382740427482\n",
              "\\item -0.879391222638133\n",
              "\\item -0.81349488172038\n",
              "\\item -0.83349894828391\n",
              "\\item -0.827299376845136\n",
              "\\item -0.805306026798678\n",
              "\\item -0.839294788011198\n",
              "\\item -0.789224078133144\n",
              "\\item -0.840876162958779\n",
              "\\item -0.850262007600625\n",
              "\\item -0.82845303240895\n",
              "\\item -0.846365963232503\n",
              "\\item -0.884789247691983\n",
              "\\item -0.855103353707466\n",
              "\\item -0.841882408960597\n",
              "\\item -0.838010864340964\n",
              "\\item -0.805157600689344\n",
              "\\item -0.833897347883078\n",
              "\\item -0.844472004898798\n",
              "\\item -0.909406214312106\n",
              "\\item -0.840631766294915\n",
              "\\item -0.843944823035814\n",
              "\\item -0.800805940008601\n",
              "\\item -0.850271900031345\n",
              "\\item -0.875538624906309\n",
              "\\item -0.887983059326606\n",
              "\\item -0.859031447693804\n",
              "\\item -0.801847528312165\n",
              "\\item -0.855654297674874\n",
              "\\item -0.774125768263983\n",
              "\\item -0.854780590595206\n",
              "\\item -0.812016299265839\n",
              "\\item -0.825615653398363\n",
              "\\item -0.862634466872282\n",
              "\\item -0.854345341654696\n",
              "\\item -0.882436386352819\n",
              "\\item -0.815096219528125\n",
              "\\item -0.854434592491988\n",
              "\\item -0.816537331025606\n",
              "\\item -0.844433525172504\n",
              "\\item -0.810798449459601\n",
              "\\item -0.856297128523076\n",
              "\\item -0.860542634078453\n",
              "\\item -0.842791239437034\n",
              "\\item -0.865310368247081\n",
              "\\item -0.811441969107987\n",
              "\\item -0.771002620214344\n",
              "\\item -0.867126990580593\n",
              "\\item -0.833232101472587\n",
              "\\item -0.807176500108654\n",
              "\\item -0.886931075600813\n",
              "\\item -0.830779671641459\n",
              "\\item -0.84325190676986\n",
              "\\item -0.814859200157593\n",
              "\\item -0.852301586920823\n",
              "\\item -0.850881247717388\n",
              "\\item -0.816111818745058\n",
              "\\item -0.838518388637167\n",
              "\\item -0.840100400784423\n",
              "\\item -0.828272936110008\n",
              "\\item -0.815340236471783\n",
              "\\item -0.83680284013855\n",
              "\\item -0.817418169350495\n",
              "\\item -0.81878012805503\n",
              "\\item -0.796532919290048\n",
              "\\item -0.857073952142238\n",
              "\\item -0.809968384254264\n",
              "\\item -0.810812150971148\n",
              "\\item -0.878993748134938\n",
              "\\item -0.808237258631635\n",
              "\\item -0.878895684306883\n",
              "\\item -0.854862691027032\n",
              "\\item -0.841797231940075\n",
              "\\item -0.813695182565109\n",
              "\\item -0.824249643265166\n",
              "\\item -0.849096302641804\n",
              "\\item -0.838328315381203\n",
              "\\item -0.862326120512996\n",
              "\\item -0.847229873577137\n",
              "\\item -0.905909272937527\n",
              "\\item -0.900131268975257\n",
              "\\item -0.817987467373638\n",
              "\\item -0.816087640929766\n",
              "\\item -0.851872962406388\n",
              "\\item -0.790093248115131\n",
              "\\item -0.832683850302006\n",
              "\\item -0.814748399004234\n",
              "\\item -0.841925134946875\n",
              "\\item -0.822522439606703\n",
              "\\item -0.811413249019586\n",
              "\\item -0.843043434399211\n",
              "\\item -0.781794509536216\n",
              "\\item -0.842040319839462\n",
              "\\item -0.821387201139715\n",
              "\\item -0.806521492067981\n",
              "\\item -0.845865215057982\n",
              "\\item -0.852386446602706\n",
              "\\item -0.855253747654618\n",
              "\\item -0.843189497280776\n",
              "\\item -0.794215017158975\n",
              "\\item -0.838938490927249\n",
              "\\item -0.810642272164768\n",
              "\\item -0.854497837640173\n",
              "\\item -0.788405324169703\n",
              "\\item -0.836947141859284\n",
              "\\item -0.864210262576665\n",
              "\\item -0.83172074183899\n",
              "\\item -0.854662746143173\n",
              "\\item -0.833479293549947\n",
              "\\item -0.841792597682616\n",
              "\\item -0.839468885930557\n",
              "\\item -0.844708073322568\n",
              "\\item -0.857254117048821\n",
              "\\item -0.8935602301126\n",
              "\\item -0.88375866580316\n",
              "\\item -0.845588406552712\n",
              "\\item -0.843714085117472\n",
              "\\item -0.830901757036813\n",
              "\\item -0.877158365660925\n",
              "\\item -0.83396603090936\n",
              "\\item -0.827045571103931\n",
              "\\item -0.88135114813389\n",
              "\\item -0.845271925172084\n",
              "\\item -0.83292992195752\n",
              "\\item -0.779015047019024\n",
              "\\item -0.803300192126566\n",
              "\\item -0.801143007570636\n",
              "\\item ⋯\n",
              "\\item -0.832593090864506\n",
              "\\item -0.879309899906517\n",
              "\\item -0.835479579700653\n",
              "\\item -0.857157073301488\n",
              "\\item -0.818488643063574\n",
              "\\item -0.801301403639095\n",
              "\\item -0.831774168503706\n",
              "\\item -0.840430274338245\n",
              "\\item -0.797402031751799\n",
              "\\item -0.885147543155672\n",
              "\\item -0.880698714401668\n",
              "\\item -0.809876199828552\n",
              "\\item -0.779255746645672\n",
              "\\item -0.82499769031667\n",
              "\\item -0.895285573335842\n",
              "\\item -0.799930134567225\n",
              "\\item -0.812669568282773\n",
              "\\item -0.817173944338939\n",
              "\\item -0.84498630226495\n",
              "\\item -0.818042323969837\n",
              "\\item -0.833705269950803\n",
              "\\item -0.875613778170513\n",
              "\\item -0.822483094054114\n",
              "\\item -0.824207912470453\n",
              "\\item -0.868714459324665\n",
              "\\item -0.785254856448479\n",
              "\\item -0.856606173816535\n",
              "\\item -0.89726004799765\n",
              "\\item -0.860978070469483\n",
              "\\item -0.792830743933527\n",
              "\\item -0.833094978998842\n",
              "\\item -0.862624183928937\n",
              "\\item -0.813382636949481\n",
              "\\item -0.814197457557302\n",
              "\\item -0.880611212733959\n",
              "\\item -0.841659769104541\n",
              "\\item -0.872969273891798\n",
              "\\item -0.867236255737689\n",
              "\\item -0.846780054203324\n",
              "\\item -0.793063995583969\n",
              "\\item -0.848655038703661\n",
              "\\item -0.862695580519202\n",
              "\\item -0.827834157519413\n",
              "\\item -0.868985572507968\n",
              "\\item -0.867759065863357\n",
              "\\item -0.83609826123353\n",
              "\\item -0.819857256172215\n",
              "\\item -0.878346683140243\n",
              "\\item -0.832717241490933\n",
              "\\item -0.830958308776911\n",
              "\\item -0.811054648208316\n",
              "\\item -0.802760653284603\n",
              "\\item -0.850825665235585\n",
              "\\item -0.82451328367138\n",
              "\\item -0.810135331678815\n",
              "\\item -0.876028883586288\n",
              "\\item -0.801299284472049\n",
              "\\item -0.878221096733456\n",
              "\\item -0.847240791539256\n",
              "\\item -0.817534100189995\n",
              "\\item -0.856371476818447\n",
              "\\item -0.853067255986426\n",
              "\\item -0.799365201824341\n",
              "\\item -0.813270189012079\n",
              "\\item -0.907516584912979\n",
              "\\item -0.845401691807736\n",
              "\\item -0.86789125335444\n",
              "\\item -0.856831969578447\n",
              "\\item -0.822351342380822\n",
              "\\item -0.797023830303969\n",
              "\\item -0.812805173191812\n",
              "\\item -0.806533376528397\n",
              "\\item -0.864030791130712\n",
              "\\item -0.835517519549189\n",
              "\\item -0.796076183649612\n",
              "\\item -0.798244144632853\n",
              "\\item -0.858923689591517\n",
              "\\item -0.82175636240993\n",
              "\\item -0.843410597846066\n",
              "\\item -0.837010589567613\n",
              "\\item -0.809417077284384\n",
              "\\item -0.834055375244958\n",
              "\\item -0.867868347569194\n",
              "\\item -0.839785187564056\n",
              "\\item -0.873958467735819\n",
              "\\item -0.799424065960092\n",
              "\\item -0.80619377737058\n",
              "\\item -0.845267875171829\n",
              "\\item -0.864095522636619\n",
              "\\item -0.843075092545185\n",
              "\\item -0.863201353200277\n",
              "\\item -0.841464990794324\n",
              "\\item -0.88842356646598\n",
              "\\item -0.860099796439558\n",
              "\\item -0.814683911635108\n",
              "\\item -0.858315481581879\n",
              "\\item -0.879105711041068\n",
              "\\item -0.833076630654673\n",
              "\\item -0.851390809885295\n",
              "\\item -0.844898351157289\n",
              "\\item -0.875513358161538\n",
              "\\item -0.837396975787144\n",
              "\\item -0.799637081132624\n",
              "\\item -0.810334982126724\n",
              "\\item -0.819279953316194\n",
              "\\item -0.822836331322175\n",
              "\\item -0.785717662823981\n",
              "\\item -0.836032008752341\n",
              "\\item -0.829454655015389\n",
              "\\item -0.819268685878601\n",
              "\\item -0.840528817550696\n",
              "\\item -0.816184276360786\n",
              "\\item -0.885834410106279\n",
              "\\item -0.812284140887257\n",
              "\\item -0.813442191131682\n",
              "\\item -0.813381139925952\n",
              "\\item -0.80765125564479\n",
              "\\item -0.839442646525786\n",
              "\\item -0.854426055296551\n",
              "\\item -0.878004463935283\n",
              "\\item -0.827001075222655\n",
              "\\item -0.787466862450287\n",
              "\\item -0.890959693155514\n",
              "\\item -0.884968279154482\n",
              "\\item -0.799930694342266\n",
              "\\item -0.788849130027914\n",
              "\\item -0.861523206654661\n",
              "\\item -0.855722940504328\n",
              "\\item -0.842878181691913\n",
              "\\item -0.800903107057056\n",
              "\\item -0.889196200710848\n",
              "\\item -0.787552248238879\n",
              "\\item -0.862602960884475\n",
              "\\item -0.822838761165037\n",
              "\\item -0.830200438870588\n",
              "\\item -0.820198393036641\n",
              "\\item -0.841951464560808\n",
              "\\item -0.868854396629305\n",
              "\\item -0.771609128263821\n",
              "\\item -0.852236057027441\n",
              "\\item -0.899155235373267\n",
              "\\item -0.798387210862945\n",
              "\\item -0.847321568407151\n",
              "\\item -0.832555736249234\n",
              "\\item -0.851055618128969\n",
              "\\item -0.794679842720127\n",
              "\\item -0.882925678512966\n",
              "\\item -0.861432309566722\n",
              "\\item -0.775620671707366\n",
              "\\item -0.853138460302158\n",
              "\\item -0.832538886627336\n",
              "\\item -0.820938422306611\n",
              "\\item -0.821028496023834\n",
              "\\item -0.847166530603932\n",
              "\\item -0.780790412848144\n",
              "\\item -0.853863584419638\n",
              "\\item -0.806089691858566\n",
              "\\item -0.822790077224644\n",
              "\\item -0.773671730446761\n",
              "\\item -0.784221242954719\n",
              "\\item -0.845756167315088\n",
              "\\item -0.858212466449921\n",
              "\\item -0.84261195282829\n",
              "\\item -0.84565950830512\n",
              "\\item -0.83479297359582\n",
              "\\item -0.894522004573971\n",
              "\\item -0.771732750741017\n",
              "\\item -0.865198210388672\n",
              "\\item -0.792896867778177\n",
              "\\item -0.849680793337102\n",
              "\\item -0.874539186943104\n",
              "\\item -0.821815158111118\n",
              "\\item -0.879347541161338\n",
              "\\item -0.799112320425305\n",
              "\\item -0.847364759837473\n",
              "\\item -0.821901584631985\n",
              "\\item -0.851135758859843\n",
              "\\item -0.861796924196635\n",
              "\\item -0.837161715089005\n",
              "\\item -0.808864336133413\n",
              "\\item -0.820701799875841\n",
              "\\item -0.801636565068941\n",
              "\\item -0.823531409817554\n",
              "\\item -0.830384229500178\n",
              "\\item -0.853944086030294\n",
              "\\item -0.811588285617606\n",
              "\\item -0.843114317931689\n",
              "\\item -0.834269900102216\n",
              "\\item -0.864116713060891\n",
              "\\item -0.898034113580858\n",
              "\\item -0.752714324465477\n",
              "\\item -0.86260630442685\n",
              "\\item -0.80806411137246\n",
              "\\item -0.796180793846894\n",
              "\\item -0.853890164910309\n",
              "\\item -0.8442401312539\n",
              "\\item -0.789314093691171\n",
              "\\item -0.807500617877492\n",
              "\\item -0.840112891593098\n",
              "\\item -0.801116281525283\n",
              "\\end{enumerate*}\n"
            ],
            "text/markdown": [
              "1. -0.877049108351513\n",
              "2. -0.808692654459221\n",
              "3. -0.873032430208429\n",
              "4. -0.850116627260617\n",
              "5. -0.799106784736415\n",
              "6. -0.831090351623041\n",
              "7. -0.847297105257426\n",
              "8. -0.809266706506851\n",
              "9. -0.839916275908943\n",
              "10. -0.810618917035752\n",
              "11. -0.897621104106139\n",
              "12. -0.825547559317194\n",
              "13. -0.809085912240543\n",
              "14. -0.89282465617139\n",
              "15. -0.813466064240027\n",
              "16. -0.853925033326974\n",
              "17. -0.830712173615543\n",
              "18. -0.894640550634478\n",
              "19. -0.826605798759669\n",
              "20. -0.858255458056668\n",
              "21. -0.888696110496772\n",
              "22. -0.814673707244581\n",
              "23. -0.80984213061671\n",
              "24. -0.820937894882204\n",
              "25. -0.878298248773273\n",
              "26. -0.790786983425066\n",
              "27. -0.85390611600625\n",
              "28. -0.81728471311523\n",
              "29. -0.859557133675202\n",
              "30. -0.801785090467706\n",
              "31. -0.873307029208072\n",
              "32. -0.894880724511431\n",
              "33. -0.829759511237488\n",
              "34. -0.830630463485032\n",
              "35. -0.816967795493238\n",
              "36. -0.904299521130873\n",
              "37. -0.778266139215793\n",
              "38. -0.81568696177967\n",
              "39. -0.825037141910816\n",
              "40. -0.854824721293738\n",
              "41. -0.882971283135871\n",
              "42. -0.851735038913858\n",
              "43. -0.898601752492433\n",
              "44. -0.871574329298449\n",
              "45. -0.853312526701759\n",
              "46. -0.804384157310134\n",
              "47. -0.800873571415778\n",
              "48. -0.848605892783482\n",
              "49. -0.821514647163646\n",
              "50. -0.843680655731902\n",
              "51. -0.858636130032436\n",
              "52. -0.82783336988272\n",
              "53. -0.832073355300939\n",
              "54. -0.819900014657353\n",
              "55. -0.829708170197575\n",
              "56. -0.852838896378611\n",
              "57. -0.834275300824642\n",
              "58. -0.827758960895839\n",
              "59. -0.850416651202237\n",
              "60. -0.876371758543707\n",
              "61. -0.804039165589085\n",
              "62. -0.846586637126372\n",
              "63. -0.831093524449053\n",
              "64. -0.850298456514166\n",
              "65. -0.826527019689793\n",
              "66. -0.862080464775025\n",
              "67. -0.83151288384563\n",
              "68. -0.797644329982381\n",
              "69. -0.864498269630586\n",
              "70. -0.872430306804609\n",
              "71. -0.835335205843685\n",
              "72. -0.810764994806367\n",
              "73. -0.757026946124158\n",
              "74. -0.759382740427482\n",
              "75. -0.879391222638133\n",
              "76. -0.81349488172038\n",
              "77. -0.83349894828391\n",
              "78. -0.827299376845136\n",
              "79. -0.805306026798678\n",
              "80. -0.839294788011198\n",
              "81. -0.789224078133144\n",
              "82. -0.840876162958779\n",
              "83. -0.850262007600625\n",
              "84. -0.82845303240895\n",
              "85. -0.846365963232503\n",
              "86. -0.884789247691983\n",
              "87. -0.855103353707466\n",
              "88. -0.841882408960597\n",
              "89. -0.838010864340964\n",
              "90. -0.805157600689344\n",
              "91. -0.833897347883078\n",
              "92. -0.844472004898798\n",
              "93. -0.909406214312106\n",
              "94. -0.840631766294915\n",
              "95. -0.843944823035814\n",
              "96. -0.800805940008601\n",
              "97. -0.850271900031345\n",
              "98. -0.875538624906309\n",
              "99. -0.887983059326606\n",
              "100. -0.859031447693804\n",
              "101. -0.801847528312165\n",
              "102. -0.855654297674874\n",
              "103. -0.774125768263983\n",
              "104. -0.854780590595206\n",
              "105. -0.812016299265839\n",
              "106. -0.825615653398363\n",
              "107. -0.862634466872282\n",
              "108. -0.854345341654696\n",
              "109. -0.882436386352819\n",
              "110. -0.815096219528125\n",
              "111. -0.854434592491988\n",
              "112. -0.816537331025606\n",
              "113. -0.844433525172504\n",
              "114. -0.810798449459601\n",
              "115. -0.856297128523076\n",
              "116. -0.860542634078453\n",
              "117. -0.842791239437034\n",
              "118. -0.865310368247081\n",
              "119. -0.811441969107987\n",
              "120. -0.771002620214344\n",
              "121. -0.867126990580593\n",
              "122. -0.833232101472587\n",
              "123. -0.807176500108654\n",
              "124. -0.886931075600813\n",
              "125. -0.830779671641459\n",
              "126. -0.84325190676986\n",
              "127. -0.814859200157593\n",
              "128. -0.852301586920823\n",
              "129. -0.850881247717388\n",
              "130. -0.816111818745058\n",
              "131. -0.838518388637167\n",
              "132. -0.840100400784423\n",
              "133. -0.828272936110008\n",
              "134. -0.815340236471783\n",
              "135. -0.83680284013855\n",
              "136. -0.817418169350495\n",
              "137. -0.81878012805503\n",
              "138. -0.796532919290048\n",
              "139. -0.857073952142238\n",
              "140. -0.809968384254264\n",
              "141. -0.810812150971148\n",
              "142. -0.878993748134938\n",
              "143. -0.808237258631635\n",
              "144. -0.878895684306883\n",
              "145. -0.854862691027032\n",
              "146. -0.841797231940075\n",
              "147. -0.813695182565109\n",
              "148. -0.824249643265166\n",
              "149. -0.849096302641804\n",
              "150. -0.838328315381203\n",
              "151. -0.862326120512996\n",
              "152. -0.847229873577137\n",
              "153. -0.905909272937527\n",
              "154. -0.900131268975257\n",
              "155. -0.817987467373638\n",
              "156. -0.816087640929766\n",
              "157. -0.851872962406388\n",
              "158. -0.790093248115131\n",
              "159. -0.832683850302006\n",
              "160. -0.814748399004234\n",
              "161. -0.841925134946875\n",
              "162. -0.822522439606703\n",
              "163. -0.811413249019586\n",
              "164. -0.843043434399211\n",
              "165. -0.781794509536216\n",
              "166. -0.842040319839462\n",
              "167. -0.821387201139715\n",
              "168. -0.806521492067981\n",
              "169. -0.845865215057982\n",
              "170. -0.852386446602706\n",
              "171. -0.855253747654618\n",
              "172. -0.843189497280776\n",
              "173. -0.794215017158975\n",
              "174. -0.838938490927249\n",
              "175. -0.810642272164768\n",
              "176. -0.854497837640173\n",
              "177. -0.788405324169703\n",
              "178. -0.836947141859284\n",
              "179. -0.864210262576665\n",
              "180. -0.83172074183899\n",
              "181. -0.854662746143173\n",
              "182. -0.833479293549947\n",
              "183. -0.841792597682616\n",
              "184. -0.839468885930557\n",
              "185. -0.844708073322568\n",
              "186. -0.857254117048821\n",
              "187. -0.8935602301126\n",
              "188. -0.88375866580316\n",
              "189. -0.845588406552712\n",
              "190. -0.843714085117472\n",
              "191. -0.830901757036813\n",
              "192. -0.877158365660925\n",
              "193. -0.83396603090936\n",
              "194. -0.827045571103931\n",
              "195. -0.88135114813389\n",
              "196. -0.845271925172084\n",
              "197. -0.83292992195752\n",
              "198. -0.779015047019024\n",
              "199. -0.803300192126566\n",
              "200. -0.801143007570636\n",
              "201. ⋯\n",
              "202. -0.832593090864506\n",
              "203. -0.879309899906517\n",
              "204. -0.835479579700653\n",
              "205. -0.857157073301488\n",
              "206. -0.818488643063574\n",
              "207. -0.801301403639095\n",
              "208. -0.831774168503706\n",
              "209. -0.840430274338245\n",
              "210. -0.797402031751799\n",
              "211. -0.885147543155672\n",
              "212. -0.880698714401668\n",
              "213. -0.809876199828552\n",
              "214. -0.779255746645672\n",
              "215. -0.82499769031667\n",
              "216. -0.895285573335842\n",
              "217. -0.799930134567225\n",
              "218. -0.812669568282773\n",
              "219. -0.817173944338939\n",
              "220. -0.84498630226495\n",
              "221. -0.818042323969837\n",
              "222. -0.833705269950803\n",
              "223. -0.875613778170513\n",
              "224. -0.822483094054114\n",
              "225. -0.824207912470453\n",
              "226. -0.868714459324665\n",
              "227. -0.785254856448479\n",
              "228. -0.856606173816535\n",
              "229. -0.89726004799765\n",
              "230. -0.860978070469483\n",
              "231. -0.792830743933527\n",
              "232. -0.833094978998842\n",
              "233. -0.862624183928937\n",
              "234. -0.813382636949481\n",
              "235. -0.814197457557302\n",
              "236. -0.880611212733959\n",
              "237. -0.841659769104541\n",
              "238. -0.872969273891798\n",
              "239. -0.867236255737689\n",
              "240. -0.846780054203324\n",
              "241. -0.793063995583969\n",
              "242. -0.848655038703661\n",
              "243. -0.862695580519202\n",
              "244. -0.827834157519413\n",
              "245. -0.868985572507968\n",
              "246. -0.867759065863357\n",
              "247. -0.83609826123353\n",
              "248. -0.819857256172215\n",
              "249. -0.878346683140243\n",
              "250. -0.832717241490933\n",
              "251. -0.830958308776911\n",
              "252. -0.811054648208316\n",
              "253. -0.802760653284603\n",
              "254. -0.850825665235585\n",
              "255. -0.82451328367138\n",
              "256. -0.810135331678815\n",
              "257. -0.876028883586288\n",
              "258. -0.801299284472049\n",
              "259. -0.878221096733456\n",
              "260. -0.847240791539256\n",
              "261. -0.817534100189995\n",
              "262. -0.856371476818447\n",
              "263. -0.853067255986426\n",
              "264. -0.799365201824341\n",
              "265. -0.813270189012079\n",
              "266. -0.907516584912979\n",
              "267. -0.845401691807736\n",
              "268. -0.86789125335444\n",
              "269. -0.856831969578447\n",
              "270. -0.822351342380822\n",
              "271. -0.797023830303969\n",
              "272. -0.812805173191812\n",
              "273. -0.806533376528397\n",
              "274. -0.864030791130712\n",
              "275. -0.835517519549189\n",
              "276. -0.796076183649612\n",
              "277. -0.798244144632853\n",
              "278. -0.858923689591517\n",
              "279. -0.82175636240993\n",
              "280. -0.843410597846066\n",
              "281. -0.837010589567613\n",
              "282. -0.809417077284384\n",
              "283. -0.834055375244958\n",
              "284. -0.867868347569194\n",
              "285. -0.839785187564056\n",
              "286. -0.873958467735819\n",
              "287. -0.799424065960092\n",
              "288. -0.80619377737058\n",
              "289. -0.845267875171829\n",
              "290. -0.864095522636619\n",
              "291. -0.843075092545185\n",
              "292. -0.863201353200277\n",
              "293. -0.841464990794324\n",
              "294. -0.88842356646598\n",
              "295. -0.860099796439558\n",
              "296. -0.814683911635108\n",
              "297. -0.858315481581879\n",
              "298. -0.879105711041068\n",
              "299. -0.833076630654673\n",
              "300. -0.851390809885295\n",
              "301. -0.844898351157289\n",
              "302. -0.875513358161538\n",
              "303. -0.837396975787144\n",
              "304. -0.799637081132624\n",
              "305. -0.810334982126724\n",
              "306. -0.819279953316194\n",
              "307. -0.822836331322175\n",
              "308. -0.785717662823981\n",
              "309. -0.836032008752341\n",
              "310. -0.829454655015389\n",
              "311. -0.819268685878601\n",
              "312. -0.840528817550696\n",
              "313. -0.816184276360786\n",
              "314. -0.885834410106279\n",
              "315. -0.812284140887257\n",
              "316. -0.813442191131682\n",
              "317. -0.813381139925952\n",
              "318. -0.80765125564479\n",
              "319. -0.839442646525786\n",
              "320. -0.854426055296551\n",
              "321. -0.878004463935283\n",
              "322. -0.827001075222655\n",
              "323. -0.787466862450287\n",
              "324. -0.890959693155514\n",
              "325. -0.884968279154482\n",
              "326. -0.799930694342266\n",
              "327. -0.788849130027914\n",
              "328. -0.861523206654661\n",
              "329. -0.855722940504328\n",
              "330. -0.842878181691913\n",
              "331. -0.800903107057056\n",
              "332. -0.889196200710848\n",
              "333. -0.787552248238879\n",
              "334. -0.862602960884475\n",
              "335. -0.822838761165037\n",
              "336. -0.830200438870588\n",
              "337. -0.820198393036641\n",
              "338. -0.841951464560808\n",
              "339. -0.868854396629305\n",
              "340. -0.771609128263821\n",
              "341. -0.852236057027441\n",
              "342. -0.899155235373267\n",
              "343. -0.798387210862945\n",
              "344. -0.847321568407151\n",
              "345. -0.832555736249234\n",
              "346. -0.851055618128969\n",
              "347. -0.794679842720127\n",
              "348. -0.882925678512966\n",
              "349. -0.861432309566722\n",
              "350. -0.775620671707366\n",
              "351. -0.853138460302158\n",
              "352. -0.832538886627336\n",
              "353. -0.820938422306611\n",
              "354. -0.821028496023834\n",
              "355. -0.847166530603932\n",
              "356. -0.780790412848144\n",
              "357. -0.853863584419638\n",
              "358. -0.806089691858566\n",
              "359. -0.822790077224644\n",
              "360. -0.773671730446761\n",
              "361. -0.784221242954719\n",
              "362. -0.845756167315088\n",
              "363. -0.858212466449921\n",
              "364. -0.84261195282829\n",
              "365. -0.84565950830512\n",
              "366. -0.83479297359582\n",
              "367. -0.894522004573971\n",
              "368. -0.771732750741017\n",
              "369. -0.865198210388672\n",
              "370. -0.792896867778177\n",
              "371. -0.849680793337102\n",
              "372. -0.874539186943104\n",
              "373. -0.821815158111118\n",
              "374. -0.879347541161338\n",
              "375. -0.799112320425305\n",
              "376. -0.847364759837473\n",
              "377. -0.821901584631985\n",
              "378. -0.851135758859843\n",
              "379. -0.861796924196635\n",
              "380. -0.837161715089005\n",
              "381. -0.808864336133413\n",
              "382. -0.820701799875841\n",
              "383. -0.801636565068941\n",
              "384. -0.823531409817554\n",
              "385. -0.830384229500178\n",
              "386. -0.853944086030294\n",
              "387. -0.811588285617606\n",
              "388. -0.843114317931689\n",
              "389. -0.834269900102216\n",
              "390. -0.864116713060891\n",
              "391. -0.898034113580858\n",
              "392. -0.752714324465477\n",
              "393. -0.86260630442685\n",
              "394. -0.80806411137246\n",
              "395. -0.796180793846894\n",
              "396. -0.853890164910309\n",
              "397. -0.8442401312539\n",
              "398. -0.789314093691171\n",
              "399. -0.807500617877492\n",
              "400. -0.840112891593098\n",
              "401. -0.801116281525283\n",
              "\n",
              "\n"
            ],
            "text/plain": [
              "   [1] -0.8770491 -0.8086927 -0.8730324 -0.8501166 -0.7991068 -0.8310904\n",
              "   [7] -0.8472971 -0.8092667 -0.8399163 -0.8106189 -0.8976211 -0.8255476\n",
              "  [13] -0.8090859 -0.8928247 -0.8134661 -0.8539250 -0.8307122 -0.8946406\n",
              "  [19] -0.8266058 -0.8582555 -0.8886961 -0.8146737 -0.8098421 -0.8209379\n",
              "  [25] -0.8782982 -0.7907870 -0.8539061 -0.8172847 -0.8595571 -0.8017851\n",
              "  [31] -0.8733070 -0.8948807 -0.8297595 -0.8306305 -0.8169678 -0.9042995\n",
              "  [37] -0.7782661 -0.8156870 -0.8250371 -0.8548247 -0.8829713 -0.8517350\n",
              "  [43] -0.8986018 -0.8715743 -0.8533125 -0.8043842 -0.8008736 -0.8486059\n",
              "  [49] -0.8215146 -0.8436807 -0.8586361 -0.8278334 -0.8320734 -0.8199000\n",
              "  [55] -0.8297082 -0.8528389 -0.8342753 -0.8277590 -0.8504167 -0.8763718\n",
              "  [61] -0.8040392 -0.8465866 -0.8310935 -0.8502985 -0.8265270 -0.8620805\n",
              "  [67] -0.8315129 -0.7976443 -0.8644983 -0.8724303 -0.8353352 -0.8107650\n",
              "  [73] -0.7570269 -0.7593827 -0.8793912 -0.8134949 -0.8334989 -0.8272994\n",
              "  [79] -0.8053060 -0.8392948 -0.7892241 -0.8408762 -0.8502620 -0.8284530\n",
              "  [85] -0.8463660 -0.8847892 -0.8551034 -0.8418824 -0.8380109 -0.8051576\n",
              "  [91] -0.8338973 -0.8444720 -0.9094062 -0.8406318 -0.8439448 -0.8008059\n",
              "  [97] -0.8502719 -0.8755386 -0.8879831 -0.8590314 -0.8018475 -0.8556543\n",
              " [103] -0.7741258 -0.8547806 -0.8120163 -0.8256157 -0.8626345 -0.8543453\n",
              " [109] -0.8824364 -0.8150962 -0.8544346 -0.8165373 -0.8444335 -0.8107984\n",
              " [115] -0.8562971 -0.8605426 -0.8427912 -0.8653104 -0.8114420 -0.7710026\n",
              " [121] -0.8671270 -0.8332321 -0.8071765 -0.8869311 -0.8307797 -0.8432519\n",
              " [127] -0.8148592 -0.8523016 -0.8508812 -0.8161118 -0.8385184 -0.8401004\n",
              " [133] -0.8282729 -0.8153402 -0.8368028 -0.8174182 -0.8187801 -0.7965329\n",
              " [139] -0.8570740 -0.8099684 -0.8108122 -0.8789937 -0.8082373 -0.8788957\n",
              " [145] -0.8548627 -0.8417972 -0.8136952 -0.8242496 -0.8490963 -0.8383283\n",
              " [151] -0.8623261 -0.8472299 -0.9059093 -0.9001313 -0.8179875 -0.8160876\n",
              " [157] -0.8518730 -0.7900932 -0.8326839 -0.8147484 -0.8419251 -0.8225224\n",
              " [163] -0.8114132 -0.8430434 -0.7817945 -0.8420403 -0.8213872 -0.8065215\n",
              " [169] -0.8458652 -0.8523864 -0.8552537 -0.8431895 -0.7942150 -0.8389385\n",
              " [175] -0.8106423 -0.8544978 -0.7884053 -0.8369471 -0.8642103 -0.8317207\n",
              " [181] -0.8546627 -0.8334793 -0.8417926 -0.8394689 -0.8447081 -0.8572541\n",
              " [187] -0.8935602 -0.8837587 -0.8455884 -0.8437141 -0.8309018 -0.8771584\n",
              " [193] -0.8339660 -0.8270456 -0.8813511 -0.8452719 -0.8329299 -0.7790150\n",
              " [199] -0.8033002 -0.8011430 -0.8911479 -0.8298223 -0.8030163 -0.8219730\n",
              " [205] -0.8094404 -0.8195101 -0.8323349 -0.8603817 -0.8401831 -0.8041673\n",
              " [211] -0.8283133 -0.8381887 -0.7978651 -0.8377464 -0.8816770 -0.8385525\n",
              " [217] -0.8459567 -0.8280468 -0.7954158 -0.8155375 -0.8513965 -0.8209716\n",
              " [223] -0.8190817 -0.8473394 -0.8197818 -0.8183091 -0.8479060 -0.8639994\n",
              " [229] -0.8558923 -0.8472905 -0.8544422 -0.8988892 -0.8136021 -0.8755236\n",
              " [235] -0.8132375 -0.7855912 -0.8255229 -0.8962867 -0.7973487 -0.8339488\n",
              " [241] -0.7875629 -0.8204197 -0.8444656 -0.8101662 -0.7915773 -0.8701481\n",
              " [247] -0.8451000 -0.8539955 -0.8031303 -0.8372369 -0.8023547 -0.8408777\n",
              " [253] -0.7965348 -0.7570976 -0.7955904 -0.8101265 -0.8440150 -0.8629587\n",
              " [259] -0.7991100 -0.8355836 -0.8194179 -0.8547962 -0.8391428 -0.8414546\n",
              " [265] -0.8380126 -0.7814850 -0.7897021 -0.8462509 -0.8347717 -0.8463397\n",
              " [271] -0.8138667 -0.8658016 -0.8030920 -0.9118110 -0.8205453 -0.7838944\n",
              " [277] -0.8566317 -0.8501828 -0.8409461 -0.8477097 -0.8525148 -0.8057401\n",
              " [283] -0.8178790 -0.7879927 -0.8389891 -0.8720890 -0.8247537 -0.8090966\n",
              " [289] -0.7816672 -0.8430972 -0.7933601 -0.8671404 -0.7969314 -0.8437342\n",
              " [295] -0.8608476 -0.8571145 -0.9100363 -0.8752343 -0.7771455 -0.8515587\n",
              " [301] -0.8419363 -0.8603638 -0.8387858 -0.8752040 -0.8460643 -0.8233066\n",
              " [307] -0.8640557 -0.8774710 -0.7987930 -0.8333992 -0.8626769 -0.8347537\n",
              " [313] -0.8322142 -0.8564987 -0.8120082 -0.8247017 -0.8640336 -0.8517167\n",
              " [319] -0.8355354 -0.8595448 -0.7999568 -0.8679518 -0.8178291 -0.7817175\n",
              " [325] -0.9124574 -0.8068169 -0.8305667 -0.7803902 -0.8567921 -0.8591726\n",
              " [331] -0.8903775 -0.8673811 -0.8674026 -0.8353638 -0.8023654 -0.8861701\n",
              " [337] -0.7852346 -0.7801155 -0.8457334 -0.8120028 -0.8141166 -0.8468303\n",
              " [343] -0.8455562 -0.7916517 -0.7841870 -0.8430042 -0.7977649 -0.8043847\n",
              " [349] -0.7943512 -0.8407834 -0.7965907 -0.7991372 -0.8588192 -0.8069137\n",
              " [355] -0.8653606 -0.8114454 -0.8566743 -0.8312480 -0.8048143 -0.8285467\n",
              " [361] -0.8305687 -0.8333624 -0.8142481 -0.8560722 -0.8629815 -0.8104344\n",
              " [367] -0.8288128 -0.7735873 -0.8511182 -0.7644300 -0.8528900 -0.7967635\n",
              " [373] -0.8043669 -0.8034754 -0.8915607 -0.8067719 -0.8622325 -0.8234114\n",
              " [379] -0.8352217 -0.8559782 -0.8113647 -0.8686618 -0.7917095 -0.7852813\n",
              " [385] -0.8162652 -0.8853830 -0.8138020 -0.8254589 -0.8497741 -0.8172905\n",
              " [391] -0.8456316 -0.7807587 -0.8450864 -0.8963924 -0.8403386 -0.8233926\n",
              " [397] -0.8229489 -0.8453077 -0.8356503 -0.7895833 -0.8198844 -0.8549630\n",
              " [403] -0.8143510 -0.8293099 -0.8066749 -0.8277515 -0.8865268 -0.7684104\n",
              " [409] -0.8578474 -0.8868061 -0.8865307 -0.8745515 -0.8452835 -0.8444714\n",
              " [415] -0.8604052 -0.8327346 -0.8429708 -0.8928211 -0.8057876 -0.8893518\n",
              " [421] -0.8513364 -0.7873527 -0.8892055 -0.8810572 -0.8562948 -0.8664850\n",
              " [427] -0.8358385 -0.8783912 -0.8535741 -0.8232790 -0.7832939 -0.8172598\n",
              " [433] -0.8754704 -0.8583755 -0.8756460 -0.8489226 -0.7688089 -0.8819179\n",
              " [439] -0.8452988 -0.8258046 -0.8022599 -0.7930356 -0.8207972 -0.8506082\n",
              " [445] -0.7909113 -0.8270195 -0.8932038 -0.8833226 -0.8441759 -0.8881480\n",
              " [451] -0.9039598 -0.8264555 -0.8612592 -0.8293241 -0.8158110 -0.8251332\n",
              " [457] -0.8287507 -0.7781295 -0.8162047 -0.8033374 -0.8371940 -0.8480731\n",
              " [463] -0.8229923 -0.8851532 -0.8351344 -0.8465741 -0.8266113 -0.8439861\n",
              " [469] -0.8388778 -0.8557233 -0.8340184 -0.8318777 -0.8880698 -0.8624000\n",
              " [475] -0.8439172 -0.8638692 -0.8194357 -0.8031659 -0.8886887 -0.8114700\n",
              " [481] -0.7765347 -0.8431580 -0.8015366 -0.8197807 -0.8113537 -0.8441894\n",
              " [487] -0.8856109 -0.8998205 -0.8657304 -0.8209538 -0.8481891 -0.8015352\n",
              " [493] -0.8876315 -0.8420396 -0.8523348 -0.8134380 -0.8392599 -0.8224982\n",
              " [499] -0.8291148 -0.8837644 -0.8796415 -0.8774676 -0.8711627 -0.9115036\n",
              " [505] -0.9401719 -0.8104843 -0.8171749 -0.8111879 -0.8485225 -0.9058823\n",
              " [511] -0.8179789 -0.8456979 -0.8566201 -0.8218111 -0.8151602 -0.8285711\n",
              " [517] -0.8380140 -0.8416501 -0.8560217 -0.9153210 -0.8575818 -0.7960599\n",
              " [523] -0.7829805 -0.8355168 -0.8864484 -0.8436863 -0.8279852 -0.8686404\n",
              " [529] -0.8381826 -0.8185738 -0.7823870 -0.8242084 -0.8516669 -0.8707709\n",
              " [535] -0.7964695 -0.7978066 -0.8353682 -0.8235516 -0.8403253 -0.8294093\n",
              " [541] -0.8727501 -0.8489114 -0.9065755 -0.8172678 -0.8510038 -0.8554519\n",
              " [547] -0.8288776 -0.8611992 -0.8497410 -0.8549601 -0.8180994 -0.7872179\n",
              " [553] -0.8276818 -0.8715559 -0.8578672 -0.8252174 -0.8190056 -0.8847221\n",
              " [559] -0.8825677 -0.8717130 -0.9027182 -0.8261715 -0.8240442 -0.8249496\n",
              " [565] -0.8170618 -0.7945565 -0.8106253 -0.8474230 -0.8368624 -0.7491237\n",
              " [571] -0.7977700 -0.9257947 -0.8073085 -0.8420349 -0.8120671 -0.9007910\n",
              " [577] -0.8301869 -0.7891680 -0.8407003 -0.8135941 -0.7718803 -0.8638434\n",
              " [583] -0.8666631 -0.8483829 -0.8405997 -0.8368359 -0.8662705 -0.8810953\n",
              " [589] -0.8286273 -0.8970499 -0.8140082 -0.8109375 -0.8068279 -0.8477075\n",
              " [595] -0.8760907 -0.8574703 -0.8489659 -0.8598629 -0.8298330 -0.8995245\n",
              " [601] -0.8251573 -0.8574300 -0.8828870 -0.8258016 -0.8105137 -0.7739083\n",
              " [607] -0.8247236 -0.8738451 -0.8451605 -0.8470041 -0.8058271 -0.7721402\n",
              " [613] -0.8383441 -0.8222842 -0.8076115 -0.8165694 -0.8233430 -0.8404097\n",
              " [619] -0.8263687 -0.7970918 -0.8266882 -0.8431404 -0.8174093 -0.8630638\n",
              " [625] -0.8770518 -0.7845226 -0.8943340 -0.8487506 -0.8035505 -0.8616843\n",
              " [631] -0.8577223 -0.8260805 -0.8153314 -0.8541934 -0.8446924 -0.8542405\n",
              " [637] -0.7970687 -0.8763734 -0.8157563 -0.8360429 -0.8879710 -0.8434724\n",
              " [643] -0.8169666 -0.8455512 -0.8749112 -0.8246396 -0.8333487 -0.8591360\n",
              " [649] -0.8650844 -0.8071147 -0.8399441 -0.8249872 -0.8050625 -0.8112881\n",
              " [655] -0.8766233 -0.8724072 -0.8521318 -0.8261276 -0.8177476 -0.7932751\n",
              " [661] -0.8088511 -0.7845740 -0.8595901 -0.7826695 -0.8362237 -0.8201603\n",
              " [667] -0.8350071 -0.8116179 -0.7920443 -0.7639504 -0.7799534 -0.8472536\n",
              " [673] -0.8383677 -0.8218894 -0.8519171 -0.8357682 -0.8788923 -0.8563682\n",
              " [679] -0.8426968 -0.8198367 -0.8145359 -0.8576885 -0.8837705 -0.8393572\n",
              " [685] -0.8049328 -0.8152719 -0.8504980 -0.8381385 -0.8026978 -0.8685960\n",
              " [691] -0.7846498 -0.8406495 -0.8373299 -0.8588950 -0.8462332 -0.8565375\n",
              " [697] -0.8134864 -0.8795358 -0.8290924 -0.9007175 -0.8098618 -0.8482171\n",
              " [703] -0.8616001 -0.8719065 -0.8455304 -0.8794815 -0.8378855 -0.8457908\n",
              " [709] -0.8419011 -0.8353562 -0.7823139 -0.8423496 -0.8584707 -0.9092290\n",
              " [715] -0.8058929 -0.8281906 -0.9303960 -0.7947002 -0.8288635 -0.8565189\n",
              " [721] -0.8377589 -0.8476856 -0.7875592 -0.8950479 -0.8362557 -0.8096478\n",
              " [727] -0.8478781 -0.8277144 -0.8829097 -0.8722904 -0.8114630 -0.8493361\n",
              " [733] -0.8913300 -0.8498067 -0.8555058 -0.8659669 -0.8762792 -0.8268220\n",
              " [739] -0.7921087 -0.8594711 -0.8360938 -0.8602528 -0.8902124 -0.8400792\n",
              " [745] -0.8779608 -0.8739727 -0.7989269 -0.8291877 -0.8266369 -0.8573127\n",
              " [751] -0.7921294 -0.8357388 -0.8928799 -0.8478570 -0.8544661 -0.8440881\n",
              " [757] -0.8585193 -0.8146884 -0.7922247 -0.8731163 -0.9099537 -0.8312347\n",
              " [763] -0.8400709 -0.8732699 -0.7997248 -0.8894460 -0.8596625 -0.7867919\n",
              " [769] -0.8398926 -0.8565116 -0.8128758 -0.8114026 -0.7751475 -0.8316279\n",
              " [775] -0.8247836 -0.8727506 -0.8336287 -0.8864975 -0.8521226 -0.8036115\n",
              " [781] -0.8576497 -0.8513891 -0.8359742 -0.7757319 -0.8857437 -0.8518177\n",
              " [787] -0.8298347 -0.8035259 -0.8515296 -0.8781089 -0.8211698 -0.8658364\n",
              " [793] -0.8995701 -0.7812821 -0.7887083 -0.8436131 -0.7783845 -0.8252523\n",
              " [799] -0.8290666 -0.8768712 -0.8325931 -0.8793099 -0.8354796 -0.8571571\n",
              " [805] -0.8184886 -0.8013014 -0.8317742 -0.8404303 -0.7974020 -0.8851475\n",
              " [811] -0.8806987 -0.8098762 -0.7792557 -0.8249977 -0.8952856 -0.7999301\n",
              " [817] -0.8126696 -0.8171739 -0.8449863 -0.8180423 -0.8337053 -0.8756138\n",
              " [823] -0.8224831 -0.8242079 -0.8687145 -0.7852549 -0.8566062 -0.8972600\n",
              " [829] -0.8609781 -0.7928307 -0.8330950 -0.8626242 -0.8133826 -0.8141975\n",
              " [835] -0.8806112 -0.8416598 -0.8729693 -0.8672363 -0.8467801 -0.7930640\n",
              " [841] -0.8486550 -0.8626956 -0.8278342 -0.8689856 -0.8677591 -0.8360983\n",
              " [847] -0.8198573 -0.8783467 -0.8327172 -0.8309583 -0.8110546 -0.8027607\n",
              " [853] -0.8508257 -0.8245133 -0.8101353 -0.8760289 -0.8012993 -0.8782211\n",
              " [859] -0.8472408 -0.8175341 -0.8563715 -0.8530673 -0.7993652 -0.8132702\n",
              " [865] -0.9075166 -0.8454017 -0.8678913 -0.8568320 -0.8223513 -0.7970238\n",
              " [871] -0.8128052 -0.8065334 -0.8640308 -0.8355175 -0.7960762 -0.7982441\n",
              " [877] -0.8589237 -0.8217564 -0.8434106 -0.8370106 -0.8094171 -0.8340554\n",
              " [883] -0.8678683 -0.8397852 -0.8739585 -0.7994241 -0.8061938 -0.8452679\n",
              " [889] -0.8640955 -0.8430751 -0.8632014 -0.8414650 -0.8884236 -0.8600998\n",
              " [895] -0.8146839 -0.8583155 -0.8791057 -0.8330766 -0.8513908 -0.8448984\n",
              " [901] -0.8755134 -0.8373970 -0.7996371 -0.8103350 -0.8192800 -0.8228363\n",
              " [907] -0.7857177 -0.8360320 -0.8294547 -0.8192687 -0.8405288 -0.8161843\n",
              " [913] -0.8858344 -0.8122841 -0.8134422 -0.8133811 -0.8076513 -0.8394426\n",
              " [919] -0.8544261 -0.8780045 -0.8270011 -0.7874669 -0.8909597 -0.8849683\n",
              " [925] -0.7999307 -0.7888491 -0.8615232 -0.8557229 -0.8428782 -0.8009031\n",
              " [931] -0.8891962 -0.7875522 -0.8626030 -0.8228388 -0.8302004 -0.8201984\n",
              " [937] -0.8419515 -0.8688544 -0.7716091 -0.8522361 -0.8991552 -0.7983872\n",
              " [943] -0.8473216 -0.8325557 -0.8510556 -0.7946798 -0.8829257 -0.8614323\n",
              " [949] -0.7756207 -0.8531385 -0.8325389 -0.8209384 -0.8210285 -0.8471665\n",
              " [955] -0.7807904 -0.8538636 -0.8060897 -0.8227901 -0.7736717 -0.7842212\n",
              " [961] -0.8457562 -0.8582125 -0.8426120 -0.8456595 -0.8347930 -0.8945220\n",
              " [967] -0.7717328 -0.8651982 -0.7928969 -0.8496808 -0.8745392 -0.8218152\n",
              " [973] -0.8793475 -0.7991123 -0.8473648 -0.8219016 -0.8511358 -0.8617969\n",
              " [979] -0.8371617 -0.8088643 -0.8207018 -0.8016366 -0.8235314 -0.8303842\n",
              " [985] -0.8539441 -0.8115883 -0.8431143 -0.8342699 -0.8641167 -0.8980341\n",
              " [991] -0.7527143 -0.8626063 -0.8080641 -0.7961808 -0.8538902 -0.8442401\n",
              " [997] -0.7893141 -0.8075006 -0.8401129 -0.8011163"
            ]
          },
          "metadata": {},
          "output_type": "display_data"
        }
      ],
      "source": [
        "eta_mod1"
      ]
    },
    {
      "cell_type": "markdown",
      "id": "2dc385ab",
      "metadata": {
        "id": "2dc385ab"
      },
      "source": [
        "We can plot the sampling distribution of the estimated elasticity of demand"
      ]
    },
    {
      "cell_type": "code",
      "execution_count": null,
      "id": "9de4f264",
      "metadata": {
        "id": "9de4f264",
        "outputId": "7f9c89bf-9f26-4a45-a67b-fdaf9815a117"
      },
      "outputs": [
        {
          "data": {
            "image/png": "[encoded data removed]",
            "text/plain": [
              "Plot with title “Histogram of eta_mod1”"
            ]
          },
          "metadata": {
            "image/png": {
              "height": 420,
              "width": 420
            }
          },
          "output_type": "display_data"
        }
      ],
      "source": [
        "plot(hist(eta_mod1))"
      ]
    },
    {
      "cell_type": "markdown",
      "id": "67afa91f",
      "metadata": {
        "id": "67afa91f"
      },
      "source": [
        "Obtain the mean"
      ]
    },
    {
      "cell_type": "code",
      "execution_count": null,
      "id": "72ee5204",
      "metadata": {
        "lines_to_next_cell": 0,
        "id": "72ee5204",
        "outputId": "fa04d758-9be2-43fe-dd5f-4aa89f6328fb"
      },
      "outputs": [
        {
          "data": {
            "text/html": [
              "-0.837050051905209"
            ],
            "text/latex": [
              "-0.837050051905209"
            ],
            "text/markdown": [
              "-0.837050051905209"
            ],
            "text/plain": [
              "[1] -0.8370501"
            ]
          },
          "metadata": {},
          "output_type": "display_data"
        }
      ],
      "source": [
        "mean(eta_mod1)"
      ]
    },
    {
      "cell_type": "markdown",
      "id": "fd4fcb74",
      "metadata": {
        "id": "fd4fcb74"
      },
      "source": [
        "and finally, obtain the standard error"
      ]
    },
    {
      "cell_type": "code",
      "execution_count": null,
      "id": "57d8574a",
      "metadata": {
        "lines_to_next_cell": 0,
        "id": "57d8574a",
        "outputId": "efd617b6-f930-4ed4-957d-1121cc216396"
      },
      "outputs": [
        {
          "data": {
            "text/html": [
              "0.0314623431572168"
            ],
            "text/latex": [
              "0.0314623431572168"
            ],
            "text/markdown": [
              "0.0314623431572168"
            ],
            "text/plain": [
              "[1] 0.03146234"
            ]
          },
          "metadata": {},
          "output_type": "display_data"
        }
      ],
      "source": [
        "sqrt(var(eta_mod1))"
      ]
    },
    {
      "cell_type": "markdown",
      "id": "535ef031",
      "metadata": {
        "id": "535ef031"
      },
      "source": [
        "We could also estimate any quantity, for example the 2.5%. and 97.5% percentiles"
      ]
    },
    {
      "cell_type": "code",
      "execution_count": null,
      "id": "346bc981",
      "metadata": {
        "id": "346bc981"
      },
      "outputs": [],
      "source": [
        "quantile(eta_mod1,c(0.025,0.975))"
      ]
    },
    {
      "cell_type": "markdown",
      "id": "b0e9d1ae",
      "metadata": {
        "id": "b0e9d1ae"
      },
      "source": [
        "### Bootstrap with the boot package\n",
        "\n",
        "`R` as it is a heavily used software by statisticians and econometricians, it already includes a package that simplifies and speeds up obtaining standard errors using bootstrap"
      ]
    },
    {
      "cell_type": "code",
      "execution_count": null,
      "id": "cdd06d54",
      "metadata": {
        "id": "cdd06d54"
      },
      "outputs": [],
      "source": [
        "p_load(\"boot\")"
      ]
    },
    {
      "cell_type": "markdown",
      "id": "454cdcf9",
      "metadata": {
        "id": "454cdcf9"
      },
      "source": [
        "This package contains the function `boot` that takes 3 arguments:"
      ]
    },
    {
      "cell_type": "markdown",
      "id": "718bc502",
      "metadata": {
        "id": "718bc502"
      },
      "source": [
        "`boot(data, statistic, R)`"
      ]
    },
    {
      "cell_type": "markdown",
      "id": "61b62b1a",
      "metadata": {
        "id": "61b62b1a"
      },
      "source": [
        "the data set, a function which, when applied to data, returns a vector containing the statistic(s) of interest, and the number of desired bootstrap replicates. The first and the third arguments are straightforward. The second, however, needs more explanation\n",
        "\n",
        "\n",
        "\n",
        "The `boot` function requires a second argument which is a function. This function needs at least two arguments, a data set and an index, which tells `R` which points it should use for its estimation. The indexing strategy speeds up the computation of the bootstrap samples.\n",
        "\n",
        "With that, we can tell the function what to return. In this case, we care about the second coefficient of the linear regression:  `consumption~price+income`"
      ]
    },
    {
      "cell_type": "code",
      "execution_count": null,
      "id": "05558242",
      "metadata": {
        "id": "05558242"
      },
      "outputs": [],
      "source": [
        "eta_fn<-function(data,index){\n",
        "\n",
        "  coef(lm(consumption~price+income, data = data, subset = index))[2] #returns the second coefficient of the linear regression\n",
        "}"
      ]
    },
    {
      "cell_type": "markdown",
      "id": "2cf6500f",
      "metadata": {
        "id": "2cf6500f"
      },
      "source": [
        "Let's check that it works. We give the function our `gas` data and tell it to use all the observations from 1 to the last row:\n"
      ]
    },
    {
      "cell_type": "code",
      "execution_count": null,
      "id": "5950073e",
      "metadata": {
        "id": "5950073e",
        "outputId": "39eff8e5-8f4b-4a29-cf7c-751052bbed78"
      },
      "outputs": [
        {
          "data": {
            "text/html": [
              "<strong>price:</strong> -0.838363398058852"
            ],
            "text/latex": [
              "\\textbf{price:} -0.838363398058852"
            ],
            "text/markdown": [
              "**price:** -0.838363398058852"
            ],
            "text/plain": [
              "     price \n",
              "-0.8383634 "
            ]
          },
          "metadata": {},
          "output_type": "display_data"
        }
      ],
      "source": [
        "eta_fn(gas,1:nrow(gas))"
      ]
    },
    {
      "cell_type": "markdown",
      "id": "e5524b55",
      "metadata": {
        "id": "e5524b55"
      },
      "source": [
        "We get the same coefficient shown in our results table. So we know that the function is working. With that, we can estimate the standard error using the `boot` function:"
      ]
    },
    {
      "cell_type": "code",
      "execution_count": null,
      "id": "c8fc91ec",
      "metadata": {
        "id": "c8fc91ec",
        "outputId": "2e507b49-4fd5-4590-ffcd-ef07c32207f6"
      },
      "outputs": [
        {
          "data": {
            "text/plain": [
              "\n",
              "ORDINARY NONPARAMETRIC BOOTSTRAP\n",
              "\n",
              "\n",
              "Call:\n",
              "boot(data = gas, statistic = eta_fn, R = 1000)\n",
              "\n",
              "\n",
              "Bootstrap Statistics :\n",
              "      original      bias    std. error\n",
              "t1* -0.8383634 0.001700585  0.03092079"
            ]
          },
          "metadata": {},
          "output_type": "display_data"
        }
      ],
      "source": [
        "#call the boot function\n",
        "boot(gas, eta_fn, R = 1000)"
      ]
    },
    {
      "cell_type": "markdown",
      "id": "b790917b",
      "metadata": {
        "id": "b790917b"
      },
      "source": [
        "We get similar results from our estimates by hand. The small differences are given by the sampling strategy implemented by `boot` which is more efficient than the one implemented by us.\n",
        "\n",
        "Note also that the estimates obtained by bootstrapping differ from those returned by `lm.` **Why?**"
      ]
    },
    {
      "cell_type": "markdown",
      "id": "0f5997ef-66f3-40e3-a651-dd4e5d7d3085",
      "metadata": {
        "id": "0f5997ef-66f3-40e3-a651-dd4e5d7d3085"
      },
      "source": [
        "\n",
        "\n",
        "\n",
        "\n",
        "\n"
      ]
    },
    {
      "cell_type": "markdown",
      "id": "23770a17-2bf4-4da7-a3c1-ba7189b522cb",
      "metadata": {
        "id": "23770a17-2bf4-4da7-a3c1-ba7189b522cb"
      },
      "source": [
        "## Case 2"
      ]
    },
    {
      "cell_type": "markdown",
      "id": "0ed225fc-c670-45d1-a240-fc39d66675d4",
      "metadata": {
        "id": "0ed225fc-c670-45d1-a240-fc39d66675d4"
      },
      "source": [
        "\n",
        "The previous case was not particularly useful since the specification resulted in the elasticity of demand coinciding with a coefficient, and `R` outputs standard errors automatically. However, the power of the bootstrap lies in the fact that it can be easily applied to a wide range of statistical learning methods, including some for which a measure of variability is otherwise challenging to obtain and is not automatically output by statistical software.\n",
        "\n",
        "For example, let's suppose that the model is now the following\n",
        "\n",
        "$$\\ln{Quantity}_{t}= \\beta_0 + \\beta_1 \\ln{Price}_{t}  + \\beta_2 \\ln{Price}^2_{t} +\\beta_3 \\ln{Income}_{t}+ \\beta_4 \\ln{Price}_{t}\\times \\ln{Income}_{t} +u_{t}$$\n",
        "\n",
        "given this specification, the elasticity of demand implied by this model is:\n",
        "\n",
        "\n",
        "$$\n",
        "\\eta_{qp} =\\beta_1 + \\beta_2 \\ln{Price} + \\beta_4  \\ln{Income}_{t}\n",
        "$$\n",
        "Then the elasticity is the combination of 3 coefficients. Thus the uncertainty associated with this quantity should account for the uncertainty coming from all of them.\n",
        "\n",
        "\n",
        "Let's then estimate the model and calculate the elasticity of demand. First, we need  to generate the quadratic and interaction terms:"
      ]
    },
    {
      "cell_type": "code",
      "execution_count": null,
      "id": "4f119160",
      "metadata": {
        "comment": "#R_CODE#NA",
        "message": false,
        "warning": false,
        "id": "4f119160"
      },
      "outputs": [],
      "source": [
        "gas<- gas %>% mutate(price2=price^2,\n",
        "                     price_income=price*income )"
      ]
    },
    {
      "cell_type": "code",
      "execution_count": null,
      "id": "4aa7f61b",
      "metadata": {
        "id": "4aa7f61b",
        "outputId": "3ef698ed-869e-471b-9435-178e4675c397"
      },
      "outputs": [
        {
          "data": {
            "text/html": [
              "<table class=\"dataframe\">\n",
              "<caption>A data.frame: 6 × 5</caption>\n",
              "<thead>\n",
              "\t<tr><th></th><th scope=col>consumption</th><th scope=col>price</th><th scope=col>income</th><th scope=col>price2</th><th scope=col>price_income</th></tr>\n",
              "\t<tr><th></th><th scope=col>&lt;dbl&gt;</th><th scope=col>&lt;dbl&gt;</th><th scope=col>&lt;dbl&gt;</th><th scope=col>&lt;dbl&gt;</th><th scope=col>&lt;dbl&gt;</th></tr>\n",
              "</thead>\n",
              "<tbody>\n",
              "\t<tr><th scope=row>1</th><td>5.090526</td><td>-1.602419</td><td>2.342972</td><td>2.567746</td><td>-3.754423</td></tr>\n",
              "\t<tr><th scope=row>2</th><td>5.092324</td><td>-1.572913</td><td>2.317068</td><td>2.474054</td><td>-3.644545</td></tr>\n",
              "\t<tr><th scope=row>3</th><td>5.093950</td><td>-1.547504</td><td>2.340076</td><td>2.394769</td><td>-3.621277</td></tr>\n",
              "\t<tr><th scope=row>4</th><td>5.067488</td><td>-1.505120</td><td>2.323478</td><td>2.265387</td><td>-3.497114</td></tr>\n",
              "\t<tr><th scope=row>5</th><td>5.049762</td><td>-1.456725</td><td>2.335196</td><td>2.122048</td><td>-3.401739</td></tr>\n",
              "\t<tr><th scope=row>6</th><td>5.049566</td><td>-1.438641</td><td>2.364967</td><td>2.069689</td><td>-3.402340</td></tr>\n",
              "</tbody>\n",
              "</table>\n"
            ],
            "text/latex": [
              "A data.frame: 6 × 5\n",
              "\\begin{tabular}{r|lllll}\n",
              "  & consumption & price & income & price2 & price\\_income\\\\\n",
              "  & <dbl> & <dbl> & <dbl> & <dbl> & <dbl>\\\\\n",
              "\\hline\n",
              "\t1 & 5.090526 & -1.602419 & 2.342972 & 2.567746 & -3.754423\\\\\n",
              "\t2 & 5.092324 & -1.572913 & 2.317068 & 2.474054 & -3.644545\\\\\n",
              "\t3 & 5.093950 & -1.547504 & 2.340076 & 2.394769 & -3.621277\\\\\n",
              "\t4 & 5.067488 & -1.505120 & 2.323478 & 2.265387 & -3.497114\\\\\n",
              "\t5 & 5.049762 & -1.456725 & 2.335196 & 2.122048 & -3.401739\\\\\n",
              "\t6 & 5.049566 & -1.438641 & 2.364967 & 2.069689 & -3.402340\\\\\n",
              "\\end{tabular}\n"
            ],
            "text/markdown": [
              "\n",
              "A data.frame: 6 × 5\n",
              "\n",
              "| <!--/--> | consumption &lt;dbl&gt; | price &lt;dbl&gt; | income &lt;dbl&gt; | price2 &lt;dbl&gt; | price_income &lt;dbl&gt; |\n",
              "|---|---|---|---|---|---|\n",
              "| 1 | 5.090526 | -1.602419 | 2.342972 | 2.567746 | -3.754423 |\n",
              "| 2 | 5.092324 | -1.572913 | 2.317068 | 2.474054 | -3.644545 |\n",
              "| 3 | 5.093950 | -1.547504 | 2.340076 | 2.394769 | -3.621277 |\n",
              "| 4 | 5.067488 | -1.505120 | 2.323478 | 2.265387 | -3.497114 |\n",
              "| 5 | 5.049762 | -1.456725 | 2.335196 | 2.122048 | -3.401739 |\n",
              "| 6 | 5.049566 | -1.438641 | 2.364967 | 2.069689 | -3.402340 |\n",
              "\n"
            ],
            "text/plain": [
              "  consumption price     income   price2   price_income\n",
              "1 5.090526    -1.602419 2.342972 2.567746 -3.754423   \n",
              "2 5.092324    -1.572913 2.317068 2.474054 -3.644545   \n",
              "3 5.093950    -1.547504 2.340076 2.394769 -3.621277   \n",
              "4 5.067488    -1.505120 2.323478 2.265387 -3.497114   \n",
              "5 5.049762    -1.456725 2.335196 2.122048 -3.401739   \n",
              "6 5.049566    -1.438641 2.364967 2.069689 -3.402340   "
            ]
          },
          "metadata": {},
          "output_type": "display_data"
        }
      ],
      "source": [
        "head(gas)"
      ]
    },
    {
      "cell_type": "markdown",
      "id": "a3497800-b41f-444c-bfc7-5e55ec3cebe1",
      "metadata": {
        "lines_to_next_cell": 0,
        "id": "a3497800-b41f-444c-bfc7-5e55ec3cebe1"
      },
      "source": [
        "then regress:"
      ]
    },
    {
      "cell_type": "code",
      "execution_count": null,
      "id": "068309e2",
      "metadata": {
        "comment": "#R_CODE#NA",
        "id": "068309e2",
        "outputId": "4eb5b7fa-e608-40c3-a70e-668d2c759871"
      },
      "outputs": [
        {
          "name": "stdout",
          "output_type": "stream",
          "text": [
            "\n",
            "=========================================================================\n",
            "                                     Dependent variable:                 \n",
            "                    -----------------------------------------------------\n",
            "                                         consumption                     \n",
            "                               (1)                        (2)            \n",
            "-------------------------------------------------------------------------\n",
            "price                       -0.838***                  -1.783***         \n",
            "                             (0.025)                    (0.141)          \n",
            "                                                                         \n",
            "price2                                                 -0.299***         \n",
            "                                                        (0.021)          \n",
            "                                                                         \n",
            "income                       2.117***                   1.973***         \n",
            "                             (0.048)                    (0.041)          \n",
            "                                                                         \n",
            "price_income                                            0.279***         \n",
            "                                                        (0.040)          \n",
            "                                                                         \n",
            "Constant                    -1.056***                  -0.508***         \n",
            "                             (0.158)                    (0.135)          \n",
            "                                                                         \n",
            "-------------------------------------------------------------------------\n",
            "Observations                   246                        246            \n",
            "R2                            0.917                      0.970           \n",
            "Adjusted R2                   0.917                      0.969           \n",
            "Residual Std. Error      0.093 (df = 243)           0.057 (df = 241)     \n",
            "F Statistic         1,345.711*** (df = 2; 243) 1,929.821*** (df = 4; 241)\n",
            "=========================================================================\n",
            "Note:                                         *p<0.1; **p<0.05; ***p<0.01\n"
          ]
        }
      ],
      "source": [
        "mod2<-lm(consumption~price+price2+income+price_income,gas)\n",
        "stargazer(mod1,mod2,type=\"text\")"
      ]
    },
    {
      "cell_type": "markdown",
      "id": "af6aa83e-3951-4fe3-92b2-22cef527bfc2",
      "metadata": {
        "lines_to_next_cell": 0,
        "id": "af6aa83e-3951-4fe3-92b2-22cef527bfc2"
      },
      "source": [
        " To do that you will need to:\n",
        "\n",
        "i) Obtain the coefficients of regression:"
      ]
    },
    {
      "cell_type": "code",
      "execution_count": null,
      "id": "0a826515",
      "metadata": {
        "comment": "#R_CODE#NA",
        "lines_to_next_cell": 2,
        "id": "0a826515",
        "outputId": "d157da6e-61a1-404f-eb20-0a7fadda1329"
      },
      "outputs": [
        {
          "data": {
            "text/html": [
              "<style>\n",
              ".dl-inline {width: auto; margin:0; padding: 0}\n",
              ".dl-inline>dt, .dl-inline>dd {float: none; width: auto; display: inline-block}\n",
              ".dl-inline>dt::after {content: \":\\0020\"; padding-right: .5ex}\n",
              ".dl-inline>dt:not(:first-of-type) {padding-left: .5ex}\n",
              "</style><dl class=dl-inline><dt>(Intercept)</dt><dd>-0.508199518204342</dd><dt>price</dt><dd>-1.78254172471626</dd><dt>price2</dt><dd>-0.298680093122025</dd><dt>income</dt><dd>1.97343538378107</dd><dt>price_income</dt><dd>0.278896444449037</dd></dl>\n"
            ],
            "text/latex": [
              "\\begin{description*}\n",
              "\\item[(Intercept)] -0.508199518204342\n",
              "\\item[price] -1.78254172471626\n",
              "\\item[price2] -0.298680093122025\n",
              "\\item[income] 1.97343538378107\n",
              "\\item[price\\textbackslash{}\\_income] 0.278896444449037\n",
              "\\end{description*}\n"
            ],
            "text/markdown": [
              "(Intercept)\n",
              ":   -0.508199518204342price\n",
              ":   -1.78254172471626price2\n",
              ":   -0.298680093122025income\n",
              ":   1.97343538378107price_income\n",
              ":   0.278896444449037\n",
              "\n"
            ],
            "text/plain": [
              " (Intercept)        price       price2       income price_income \n",
              "  -0.5081995   -1.7825417   -0.2986801    1.9734354    0.2788964 "
            ]
          },
          "metadata": {},
          "output_type": "display_data"
        }
      ],
      "source": [
        "coefs<-mod2$coef\n",
        "coefs"
      ]
    },
    {
      "cell_type": "markdown",
      "id": "b06b6fa1-6aff-4e51-8b69-8a70ec3080d7",
      "metadata": {
        "id": "b06b6fa1-6aff-4e51-8b69-8a70ec3080d7"
      },
      "source": [
        "ii) Extract the coefficients to scalars:"
      ]
    },
    {
      "cell_type": "code",
      "execution_count": null,
      "id": "8fe88f03",
      "metadata": {
        "comment": "#R_CODE#NA",
        "id": "8fe88f03"
      },
      "outputs": [],
      "source": [
        "    b0<-coefs[1]\n",
        "    b1<-coefs[2]\n",
        "    b2<-coefs[3]\n",
        "    b3<-coefs[4]\n",
        "    b4<-coefs[5]"
      ]
    },
    {
      "cell_type": "markdown",
      "id": "37c019f7-6c6d-4586-b9f4-f8a16cd53d51",
      "metadata": {
        "id": "37c019f7-6c6d-4586-b9f4-f8a16cd53d51"
      },
      "source": [
        "iii) We need a value at which to estimate the elasticity since it depends on price and income ($\\eta_{qp} =\\beta_1 + \\beta_2 \\ln{Price} + \\beta_4  \\ln{Income}_{t}$). Here we are going to choose the sample mean, but you can do it at any point:"
      ]
    },
    {
      "cell_type": "code",
      "execution_count": null,
      "id": "cda5b326",
      "metadata": {
        "comment": "#R_CODE#NA",
        "lines_to_next_cell": 2,
        "id": "cda5b326",
        "outputId": "e21a5d49-990f-4750-9fc6-67beaf823e85"
      },
      "outputs": [
        {
          "data": {
            "text/html": [
              "<strong>price:</strong> -0.671776960873487"
            ],
            "text/latex": [
              "\\textbf{price:} -0.671776960873487"
            ],
            "text/markdown": [
              "**price:** -0.671776960873487"
            ],
            "text/plain": [
              "    price \n",
              "-0.671777 "
            ]
          },
          "metadata": {},
          "output_type": "display_data"
        }
      ],
      "source": [
        "price_bar<-mean(gas$price)\n",
        "income_bar<-mean(gas$income)\n",
        "\n",
        "\n",
        "elastpt<-b1+2*b2*price_bar+b4*income_bar\n",
        "\n",
        "elastpt"
      ]
    },
    {
      "cell_type": "markdown",
      "id": "21824522-2496-452e-b5ef-0b0cbe23ce64",
      "metadata": {
        "id": "21824522-2496-452e-b5ef-0b0cbe23ce64"
      },
      "source": [
        "Note that the elasticity of demand implied by the second model is smaller than the previous one. Next, we need to calculate the standard errors to characterize this demand's uncertainty.\n",
        "\n",
        "Let's turn to the boot package and construct the function that will return the elasticity of interest.\n"
      ]
    },
    {
      "cell_type": "code",
      "execution_count": null,
      "id": "2018ed5f",
      "metadata": {
        "comment": "#R_CODE#NA",
        "id": "2018ed5f"
      },
      "outputs": [],
      "source": [
        "\n",
        "eta_mod2_fn<-function(data,index,\n",
        "                      price_bar=mean(gas$price),\n",
        "                      income_bar=mean(gas$income)){\n",
        "\n",
        "      f<-lm(consumption~price+price2+income+price_income,data, subset = index)\n",
        "\n",
        "      coefs<-f$coefficients\n",
        "\n",
        "        b1<-coefs[2]\n",
        "        b2<-coefs[3]\n",
        "        b4<-coefs[5]\n",
        "\n",
        "      elastpt<-b1+2*b2*price_bar+b4*income_bar\n",
        "\n",
        "\n",
        "      return(elastpt)\n",
        "    }\n",
        "\n",
        "\n",
        ""
      ]
    },
    {
      "cell_type": "markdown",
      "id": "506c866d",
      "metadata": {
        "id": "506c866d"
      },
      "source": [
        "The function is similar to the first case. Still, we have added two arguments; the points where we want the elasticity to be evaluated, in this case, the sample means. Let's check that it works"
      ]
    },
    {
      "cell_type": "code",
      "execution_count": null,
      "id": "262a6f51",
      "metadata": {
        "id": "262a6f51",
        "outputId": "1e61f85d-bd27-4ab1-aaf1-dc2ea08a6a4a"
      },
      "outputs": [
        {
          "data": {
            "text/html": [
              "<strong>price:</strong> -0.671776960873487"
            ],
            "text/latex": [
              "\\textbf{price:} -0.671776960873487"
            ],
            "text/markdown": [
              "**price:** -0.671776960873487"
            ],
            "text/plain": [
              "    price \n",
              "-0.671777 "
            ]
          },
          "metadata": {},
          "output_type": "display_data"
        }
      ],
      "source": [
        "eta_mod2_fn(gas,1:nrow(gas))"
      ]
    },
    {
      "cell_type": "markdown",
      "id": "4b2a68e1",
      "metadata": {
        "id": "4b2a68e1"
      },
      "source": [
        "We get the same result as above. Let's evaluate it at different points of the distribution of price and income:\n"
      ]
    },
    {
      "cell_type": "code",
      "execution_count": null,
      "id": "e506e66b",
      "metadata": {
        "id": "e506e66b",
        "outputId": "653a6c19-5af4-4e3b-a254-78c38d5e22ad"
      },
      "outputs": [
        {
          "data": {
            "text/html": [
              "<strong>price:</strong> -0.627388649574139"
            ],
            "text/latex": [
              "\\textbf{price:} -0.627388649574139"
            ],
            "text/markdown": [
              "**price:** -0.627388649574139"
            ],
            "text/plain": [
              "     price \n",
              "-0.6273886 "
            ]
          },
          "metadata": {},
          "output_type": "display_data"
        }
      ],
      "source": [
        "eta_mod2_fn(gas,1:nrow(gas),price_bar=-1,income_bar=2)"
      ]
    },
    {
      "cell_type": "markdown",
      "id": "5e4026ab",
      "metadata": {
        "id": "5e4026ab"
      },
      "source": [
        "With our function working, we can run `boot` and obtain the standard error for our elasticity:"
      ]
    },
    {
      "cell_type": "code",
      "execution_count": null,
      "id": "1454e6da",
      "metadata": {
        "lines_to_next_cell": 0,
        "tags": [],
        "id": "1454e6da",
        "outputId": "2678192a-75a2-4dc5-fbfe-351d8da6ba02"
      },
      "outputs": [
        {
          "data": {
            "text/plain": [
              "\n",
              "ORDINARY NONPARAMETRIC BOOTSTRAP\n",
              "\n",
              "\n",
              "Call:\n",
              "boot(data = gas, statistic = eta_mod2_fn, R = 10)\n",
              "\n",
              "\n",
              "Bootstrap Statistics :\n",
              "     original    bias    std. error\n",
              "t1* -0.671777 0.0104673  0.01513049"
            ]
          },
          "metadata": {},
          "output_type": "display_data"
        }
      ],
      "source": [
        "#función boot requires, data (gas),\n",
        "#requires a statistic\n",
        "# requires number of replications\n",
        "results <- boot(data=gas, eta_mod2_fn,R=1000)\n",
        "results"
      ]
    },
    {
      "cell_type": "code",
      "execution_count": null,
      "id": "78e3c951",
      "metadata": {
        "id": "78e3c951"
      },
      "outputs": [],
      "source": []
    }
  ],
  "metadata": {
    "jupytext": {
      "formats": "ipynb,Rmd"
    },
    "kernelspec": {
      "display_name": "R",
      "language": "R",
      "name": "ir"
    },
    "language_info": {
      "codemirror_mode": "r",
      "file_extension": ".r",
      "mimetype": "text/x-r-source",
      "name": "R",
      "pygments_lexer": "r",
      "version": "4.3.0"
    },
    "toc": {
      "base_numbering": 1,
      "nav_menu": {},
      "number_sections": true,
      "sideBar": true,
      "skip_h1_title": false,
      "title_cell": "Table of Contents",
      "title_sidebar": "Contents",
      "toc_cell": false,
      "toc_position": {},
      "toc_section_display": true,
      "toc_window_display": false
    },
    "colab": {
      "provenance": [],
      "include_colab_link": true
    }
  },
  "nbformat": 4,
  "nbformat_minor": 5
}