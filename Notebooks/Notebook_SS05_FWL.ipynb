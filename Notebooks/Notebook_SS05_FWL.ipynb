{
 "cells": [
  {
   "cell_type": "markdown",
   "id": "a952ad54-2218-4382-b2eb-d401d349f764",
   "metadata": {},
   "source": [
    "<div >\n",
    "<img src = \"../../../banner.jpg\" />\n",
    "</div>"
   ]
  },
  {
   "cell_type": "markdown",
   "id": "3e54e9fb",
   "metadata": {},
   "source": [
    "<a target=\"_blank\" href=\"https://colab.research.google.com/github/ignaciomsarmiento/BDML_SS/blob/main/Lecture05/Notebook_SS05/Notebook_SS05_FWL.ipynb\">\n",
    "  <img src=\"https://colab.research.google.com/assets/colab-badge.svg\" alt=\"Open In Colab\"/>\n",
    "</a>"
   ]
  },
  {
   "cell_type": "markdown",
   "id": "f7e57de4",
   "metadata": {},
   "source": [
    "<style type=\"text/css\">\n",
    "\n",
    ".responsive {\n",
    " width: 100%;\n",
    " height: 25%;\n",
    "}\n",
    "\n",
    ".list-group-item.active, .list-group-item.active:focus, .list-group-item.active:hover {\n",
    "    z-index: 2;\n",
    "    color: #fff;\n",
    "    background-color: #1B175E;\n",
    "    border-color: #337ab7;\n",
    "}\n",
    "h1, h2, h3, h4 {\n",
    "    color: #000002;\n",
    "    background-color: #1B175E;\n",
    "    background-image:\n",
    "      linear-gradient(to right,\n",
    "       #fff, #ffff00\n",
    "     );\n",
    "\n",
    "}\n",
    "\n",
    "h1, h2, h3, h4, p {\n",
    "    color: #000002;\n",
    "}\n",
    "\n",
    "a {\n",
    "    color: #1B175E;\n",
    "}\n",
    "</style>\n",
    "\n",
    "# Introduction: The FWL Theorem\n"
   ]
  },
  {
   "cell_type": "markdown",
   "id": "44efaa5f-efe9-424e-bf07-c46550bc67fb",
   "metadata": {},
   "source": [
    "\n",
    "The FWL Theorem shows how to decompose a regression of $y$ on a set of variables $X$ into two pieces. \n",
    "\n",
    "To illustrate, suppose that we want to study the black-white wage gap: \n",
    "\n",
    "\\begin{align}\n",
    " ln(w) & = \\beta_0 + \\beta_1 Black +  \\theta X_{controls}  + u \n",
    "\\end{align}\n",
    "\n",
    "Where $Black$ is a dummy that takes 1 if the person is African American, and 0 otherwise. $X_{controls}$ are a set of controls in the regression.\n",
    "\n",
    "FWL says that the above long regression will give the same $\\beta_1$ than the following three step procedure:\n",
    "\n",
    "1) Regress $Black$ on $X_{controls}$ and take the residuals\n",
    "2) Regress $ ln(w)$ on $X_{controls} $ and take the residuals\n",
    "3) Regress the residuals from step 2 on the residuals from step 1\n",
    "\n",
    "This is, in essence, the FWL Theorem. Let's take it to the NLSY data and show that it works."
   ]
  },
  {
   "cell_type": "markdown",
   "id": "2fdab5a6",
   "metadata": {},
   "source": [
    "Let's load the packages, the data set, and keep only a few variables:"
   ]
  },
  {
   "cell_type": "code",
   "execution_count": 1,
   "id": "3e94ec2b-ab94-4ec8-8512-e370d2f22a56",
   "metadata": {
    "tags": [
     "remove_cell"
    ]
   },
   "outputs": [],
   "source": [
    "#packages\n",
    "require(\"pacman\")\n",
    "p_load(\"tidyverse\",\"stargazer\")\n",
    "\n",
    "nlsy <- read_csv('https://raw.githubusercontent.com/ignaciomsarmiento/datasets/main/nlsy97.csv')\n",
    "\n",
    "nlsy = nlsy  %>%   drop_na(educ) #dropea los valores faltantes (NA)\n",
    "\n",
    "#Select some predictors\n",
    "nlsy<- nlsy  %>% select(lnw_2016, \n",
    "                        educ,\n",
    "                        black,\n",
    "                        hispanic,\n",
    "                        other,\n",
    "                        exp,\n",
    "                        afqt,\n",
    "                        mom_educ,\n",
    "                        dad_educ)"
   ]
  },
  {
   "cell_type": "markdown",
   "id": "fa0771b5",
   "metadata": {},
   "source": [
    "## Long regression"
   ]
  },
  {
   "cell_type": "code",
   "execution_count": 2,
   "id": "e204a3fb",
   "metadata": {},
   "outputs": [],
   "source": [
    "long<-lm(lnw_2016~black+ hispanic+ other+ educ + exp + afqt + mom_educ + dad_educ,data=nlsy)\n",
    "\n",
    "stargazer(long,type=\"text\")"
   ]
  },
  {
   "cell_type": "markdown",
   "id": "53142d9c",
   "metadata": {},
   "source": [
    "## Short Regression\n",
    "\n",
    "1) Regress $Black$ on $X_{controls}$ and take the residuals"
   ]
  },
  {
   "cell_type": "code",
   "execution_count": 3,
   "id": "9abaaeaf",
   "metadata": {},
   "outputs": [],
   "source": [
    "reg_step1<-lm(black~ hispanic+ other+ educ + exp + afqt + mom_educ + dad_educ,data=nlsy)"
   ]
  },
  {
   "cell_type": "code",
   "execution_count": 4,
   "id": "a38ab8a0",
   "metadata": {},
   "outputs": [],
   "source": [
    "nlsy<-nlsy %>% mutate(black_resid=reg_step1$residuals) #Residuals of black~controls"
   ]
  },
  {
   "cell_type": "markdown",
   "id": "ba0402bc",
   "metadata": {},
   "source": [
    "2) Regress $ ln(w)$ on $X_{controls} $ and take the residuals\n"
   ]
  },
  {
   "cell_type": "code",
   "execution_count": 5,
   "id": "9177d058",
   "metadata": {},
   "outputs": [],
   "source": [
    "reg_step2<-lm(lnw_2016~ hispanic+ other+ educ + exp + afqt + mom_educ + dad_educ,data=nlsy)"
   ]
  },
  {
   "cell_type": "code",
   "execution_count": 6,
   "id": "fd0e69b0",
   "metadata": {},
   "outputs": [],
   "source": [
    "nlsy<-nlsy %>% mutate(lnw_resid=reg_step2$residuals) #Residuals of black~controls"
   ]
  },
  {
   "cell_type": "markdown",
   "id": "1e1dcaf6",
   "metadata": {},
   "source": [
    "3) Regress the residuals from step 2 on the residuals from step 1"
   ]
  },
  {
   "cell_type": "code",
   "execution_count": 7,
   "id": "92ac5576",
   "metadata": {},
   "outputs": [],
   "source": [
    "reg_step3<-lm(lnw_resid~black_resid,data=nlsy)"
   ]
  },
  {
   "cell_type": "code",
   "execution_count": 8,
   "id": "4625a2a9",
   "metadata": {},
   "outputs": [],
   "source": [
    "stargazer(reg_step3,long,type=\"text\")"
   ]
  },
  {
   "cell_type": "markdown",
   "id": "0f2532d7",
   "metadata": {},
   "source": [
    "# Function that does these steps?\n",
    "\n",
    "\n"
   ]
  },
  {
   "cell_type": "code",
   "execution_count": 9,
   "id": "de44aadf",
   "metadata": {},
   "outputs": [],
   "source": [
    "black_wage_gap<-function(data,index){\n",
    "    reg_step1<-lm(black~ hispanic+ other+ educ + exp + afqt + mom_educ + dad_educ,data=data,subset=index)\n",
    "    reg_step2<-lm(lnw_2016~ hispanic+ other+ educ + exp + afqt + mom_educ + dad_educ,data=data,subset=index)\n",
    "\n",
    "    nlsy<-nlsy %>% mutate(black_resid=reg_step1$residuals) #Residuals of black~controls\n",
    "    nlsy<-nlsy %>% mutate(lnw_resid=reg_step2$residuals) #Residuals of black~controls\n",
    "    reg_step3<-lm(lnw_resid~black_resid,data=nlsy)\n",
    "    reg_step3$coefficients[2]\n",
    "}"
   ]
  },
  {
   "cell_type": "markdown",
   "id": "724b5d12",
   "metadata": {},
   "source": [
    "Test the function:"
   ]
  },
  {
   "cell_type": "code",
   "execution_count": 10,
   "id": "a29c40cc",
   "metadata": {},
   "outputs": [],
   "source": [
    "black_wage_gap(nlsy,1:nrow(nlsy))"
   ]
  }
 ],
 "metadata": {
  "jupytext": {
   "formats": "ipynb,Rmd"
  },
  "kernelspec": {
   "display_name": "R",
   "language": "R",
   "name": "ir"
  },
  "language_info": {
   "codemirror_mode": "r",
   "file_extension": ".r",
   "mimetype": "text/x-r-source",
   "name": "R",
   "pygments_lexer": "r",
   "version": "4.3.0"
  },
  "toc": {
   "base_numbering": 1,
   "nav_menu": {},
   "number_sections": true,
   "sideBar": true,
   "skip_h1_title": false,
   "title_cell": "Table of Contents",
   "title_sidebar": "Contents",
   "toc_cell": false,
   "toc_position": {},
   "toc_section_display": true,
   "toc_window_display": false
  }
 },
 "nbformat": 4,
 "nbformat_minor": 5
}
