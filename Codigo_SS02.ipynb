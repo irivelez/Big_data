{
  "cells": [
    {
      "cell_type": "markdown",
      "metadata": {
        "id": "view-in-github",
        "colab_type": "text"
      },
      "source": [
        "<a href=\"https://colab.research.google.com/github/irivelez/Big_data/blob/main/Codigo_SS02.ipynb\" target=\"_parent\"><img src=\"https://colab.research.google.com/assets/colab-badge.svg\" alt=\"Open In Colab\"/></a>"
      ]
    },
    {
      "cell_type": "markdown",
      "id": "e53dc4f6",
      "metadata": {
        "id": "e53dc4f6"
      },
      "source": [
        "<div >\n",
        "<img src = \"../../banner.jpg\" />\n",
        "</div>"
      ]
    },
    {
      "cell_type": "markdown",
      "id": "32d87f3f",
      "metadata": {
        "id": "32d87f3f"
      },
      "source": [
        "# Linear Regression for Prediction\n",
        "\n",
        "Model\n",
        "\n",
        "$$\n",
        "y= f(X) + u\n",
        "$$\n",
        "\n",
        "$$\n",
        "y= X\\beta + u\n",
        "$$\n",
        "\n",
        "Outcome to be predicted: $Y_i$\n",
        "\n",
        "> *example:* a worker's log wage\n",
        "\n",
        "Characteristics (aka **features**): $X_i=\\left(X_{1i},\\ldots,X_{pi}\\right)'$\n",
        "\n",
        "> *example:* education, age, state of birth, parents' education, cognitive ability, family background\n"
      ]
    },
    {
      "cell_type": "code",
      "source": [
        "# Install packages\n",
        "install.packages(\"pacman\")"
      ],
      "metadata": {
        "id": "TKaxEQItZbtZ",
        "outputId": "9b80edaa-6932-490e-8477-34097952988d",
        "colab": {
          "base_uri": "https://localhost:8080/"
        }
      },
      "id": "TKaxEQItZbtZ",
      "execution_count": null,
      "outputs": [
        {
          "output_type": "stream",
          "name": "stderr",
          "text": [
            "Installing package into ‘/usr/local/lib/R/site-library’\n",
            "(as ‘lib’ is unspecified)\n",
            "\n"
          ]
        }
      ]
    },
    {
      "cell_type": "code",
      "execution_count": null,
      "id": "d86d5977",
      "metadata": {
        "id": "d86d5977",
        "outputId": "cb4fa658-b965-40e2-875f-7f5742e239b9",
        "colab": {
          "base_uri": "https://localhost:8080/"
        }
      },
      "outputs": [
        {
          "output_type": "stream",
          "name": "stderr",
          "text": [
            "Loading required package: pacman\n",
            "\n",
            "Installing package into ‘/usr/local/lib/R/site-library’\n",
            "(as ‘lib’ is unspecified)\n",
            "\n",
            "\n",
            "stargazer installed\n",
            "\n"
          ]
        }
      ],
      "source": [
        "#Load Packages\n",
        "require(\"pacman\")\n",
        "p_load(\"tidyverse\",\"stargazer\")\n"
      ]
    },
    {
      "cell_type": "code",
      "execution_count": null,
      "id": "0f4546c8",
      "metadata": {
        "id": "0f4546c8",
        "outputId": "29467ee5-1040-4f3a-9449-7dfb1d7c04d9"
      },
      "outputs": [
        {
          "name": "stderr",
          "output_type": "stream",
          "text": [
            "\u001b[1mRows: \u001b[22m\u001b[34m1266\u001b[39m \u001b[1mColumns: \u001b[22m\u001b[34m994\u001b[39m\n",
            "\u001b[36m──\u001b[39m \u001b[1mColumn specification\u001b[22m \u001b[36m────────────────────────────────────────────────────────────────────────────────────────────────────────────────────────────────────────────────────────────────────────────────────\u001b[39m\n",
            "\u001b[1mDelimiter:\u001b[22m \",\"\n",
            "\u001b[32mdbl\u001b[39m (994): lnw_2016, educ, black, hispanic, other, exp, afqt, mom_educ, dad_...\n",
            "\n",
            "\u001b[36mℹ\u001b[39m Use `spec()` to retrieve the full column specification for this data.\n",
            "\u001b[36mℹ\u001b[39m Specify the column types or set `show_col_types = FALSE` to quiet this message.\n"
          ]
        }
      ],
      "source": [
        "nlsy = read_csv('https://raw.githubusercontent.com/ignaciomsarmiento/datasets/main/nlsy97.csv')\n",
        "\n",
        "nlsy = nlsy  %>%   drop_na(educ) #dropea los valores faltantes (NA)"
      ]
    },
    {
      "cell_type": "code",
      "execution_count": null,
      "id": "676de3bf",
      "metadata": {
        "id": "676de3bf",
        "outputId": "b2b0578c-ea72-4875-dcab-ba96caeaa3f3"
      },
      "outputs": [
        {
          "data": {
            "text/html": [
              "<table class=\"dataframe\">\n",
              "<caption>A tibble: 6 × 994</caption>\n",
              "<thead>\n",
              "\t<tr><th scope=col>lnw_2016</th><th scope=col>educ</th><th scope=col>black</th><th scope=col>hispanic</th><th scope=col>other</th><th scope=col>exp</th><th scope=col>afqt</th><th scope=col>mom_educ</th><th scope=col>dad_educ</th><th scope=col>yhea_100_1997</th><th scope=col>⋯</th><th scope=col>_XPexp_13</th><th scope=col>_XPexp_14</th><th scope=col>_XPexp_16</th><th scope=col>_XPexp_17</th><th scope=col>_XPexp_18</th><th scope=col>_XPexp_19</th><th scope=col>_XPexp_20</th><th scope=col>_XPexp_21</th><th scope=col>_XPexp_22</th><th scope=col>_XPexp_23</th></tr>\n",
              "\t<tr><th scope=col>&lt;dbl&gt;</th><th scope=col>&lt;dbl&gt;</th><th scope=col>&lt;dbl&gt;</th><th scope=col>&lt;dbl&gt;</th><th scope=col>&lt;dbl&gt;</th><th scope=col>&lt;dbl&gt;</th><th scope=col>&lt;dbl&gt;</th><th scope=col>&lt;dbl&gt;</th><th scope=col>&lt;dbl&gt;</th><th scope=col>&lt;dbl&gt;</th><th scope=col>⋯</th><th scope=col>&lt;dbl&gt;</th><th scope=col>&lt;dbl&gt;</th><th scope=col>&lt;dbl&gt;</th><th scope=col>&lt;dbl&gt;</th><th scope=col>&lt;dbl&gt;</th><th scope=col>&lt;dbl&gt;</th><th scope=col>&lt;dbl&gt;</th><th scope=col>&lt;dbl&gt;</th><th scope=col>&lt;dbl&gt;</th><th scope=col>&lt;dbl&gt;</th></tr>\n",
              "</thead>\n",
              "<tbody>\n",
              "\t<tr><td>4.076898</td><td>16</td><td>0</td><td>0</td><td>0</td><td>11</td><td>7.0724</td><td>12</td><td>12</td><td>3</td><td>⋯</td><td>0</td><td>0</td><td>0</td><td>0</td><td>0</td><td>0</td><td>0</td><td>0</td><td>0</td><td>0</td></tr>\n",
              "\t<tr><td>3.294138</td><td> 9</td><td>0</td><td>0</td><td>0</td><td>19</td><td>4.7481</td><td> 9</td><td>10</td><td>2</td><td>⋯</td><td>0</td><td>0</td><td>0</td><td>0</td><td>0</td><td>1</td><td>0</td><td>0</td><td>0</td><td>0</td></tr>\n",
              "\t<tr><td>2.830896</td><td> 9</td><td>0</td><td>1</td><td>0</td><td>22</td><td>1.1987</td><td>12</td><td> 9</td><td>3</td><td>⋯</td><td>0</td><td>0</td><td>0</td><td>0</td><td>0</td><td>0</td><td>0</td><td>0</td><td>1</td><td>0</td></tr>\n",
              "\t<tr><td>4.306459</td><td>16</td><td>0</td><td>0</td><td>0</td><td>13</td><td>8.9321</td><td>16</td><td>18</td><td>2</td><td>⋯</td><td>1</td><td>0</td><td>0</td><td>0</td><td>0</td><td>0</td><td>0</td><td>0</td><td>0</td><td>0</td></tr>\n",
              "\t<tr><td>5.991465</td><td>16</td><td>0</td><td>1</td><td>0</td><td>15</td><td>2.2618</td><td>16</td><td>16</td><td>1</td><td>⋯</td><td>0</td><td>0</td><td>0</td><td>0</td><td>0</td><td>0</td><td>0</td><td>0</td><td>0</td><td>0</td></tr>\n",
              "\t<tr><td>4.711924</td><td>16</td><td>0</td><td>0</td><td>0</td><td>14</td><td>8.9502</td><td>18</td><td>20</td><td>1</td><td>⋯</td><td>0</td><td>1</td><td>0</td><td>0</td><td>0</td><td>0</td><td>0</td><td>0</td><td>0</td><td>0</td></tr>\n",
              "</tbody>\n",
              "</table>\n"
            ],
            "text/latex": [
              "A tibble: 6 × 994\n",
              "\\begin{tabular}{lllllllllllllllllllll}\n",
              " lnw\\_2016 & educ & black & hispanic & other & exp & afqt & mom\\_educ & dad\\_educ & yhea\\_100\\_1997 & ⋯ & \\_XPexp\\_13 & \\_XPexp\\_14 & \\_XPexp\\_16 & \\_XPexp\\_17 & \\_XPexp\\_18 & \\_XPexp\\_19 & \\_XPexp\\_20 & \\_XPexp\\_21 & \\_XPexp\\_22 & \\_XPexp\\_23\\\\\n",
              " <dbl> & <dbl> & <dbl> & <dbl> & <dbl> & <dbl> & <dbl> & <dbl> & <dbl> & <dbl> & ⋯ & <dbl> & <dbl> & <dbl> & <dbl> & <dbl> & <dbl> & <dbl> & <dbl> & <dbl> & <dbl>\\\\\n",
              "\\hline\n",
              "\t 4.076898 & 16 & 0 & 0 & 0 & 11 & 7.0724 & 12 & 12 & 3 & ⋯ & 0 & 0 & 0 & 0 & 0 & 0 & 0 & 0 & 0 & 0\\\\\n",
              "\t 3.294138 &  9 & 0 & 0 & 0 & 19 & 4.7481 &  9 & 10 & 2 & ⋯ & 0 & 0 & 0 & 0 & 0 & 1 & 0 & 0 & 0 & 0\\\\\n",
              "\t 2.830896 &  9 & 0 & 1 & 0 & 22 & 1.1987 & 12 &  9 & 3 & ⋯ & 0 & 0 & 0 & 0 & 0 & 0 & 0 & 0 & 1 & 0\\\\\n",
              "\t 4.306459 & 16 & 0 & 0 & 0 & 13 & 8.9321 & 16 & 18 & 2 & ⋯ & 1 & 0 & 0 & 0 & 0 & 0 & 0 & 0 & 0 & 0\\\\\n",
              "\t 5.991465 & 16 & 0 & 1 & 0 & 15 & 2.2618 & 16 & 16 & 1 & ⋯ & 0 & 0 & 0 & 0 & 0 & 0 & 0 & 0 & 0 & 0\\\\\n",
              "\t 4.711924 & 16 & 0 & 0 & 0 & 14 & 8.9502 & 18 & 20 & 1 & ⋯ & 0 & 1 & 0 & 0 & 0 & 0 & 0 & 0 & 0 & 0\\\\\n",
              "\\end{tabular}\n"
            ],
            "text/markdown": [
              "\n",
              "A tibble: 6 × 994\n",
              "\n",
              "| lnw_2016 &lt;dbl&gt; | educ &lt;dbl&gt; | black &lt;dbl&gt; | hispanic &lt;dbl&gt; | other &lt;dbl&gt; | exp &lt;dbl&gt; | afqt &lt;dbl&gt; | mom_educ &lt;dbl&gt; | dad_educ &lt;dbl&gt; | yhea_100_1997 &lt;dbl&gt; | ⋯ ⋯ | _XPexp_13 &lt;dbl&gt; | _XPexp_14 &lt;dbl&gt; | _XPexp_16 &lt;dbl&gt; | _XPexp_17 &lt;dbl&gt; | _XPexp_18 &lt;dbl&gt; | _XPexp_19 &lt;dbl&gt; | _XPexp_20 &lt;dbl&gt; | _XPexp_21 &lt;dbl&gt; | _XPexp_22 &lt;dbl&gt; | _XPexp_23 &lt;dbl&gt; |\n",
              "|---|---|---|---|---|---|---|---|---|---|---|---|---|---|---|---|---|---|---|---|---|\n",
              "| 4.076898 | 16 | 0 | 0 | 0 | 11 | 7.0724 | 12 | 12 | 3 | ⋯ | 0 | 0 | 0 | 0 | 0 | 0 | 0 | 0 | 0 | 0 |\n",
              "| 3.294138 |  9 | 0 | 0 | 0 | 19 | 4.7481 |  9 | 10 | 2 | ⋯ | 0 | 0 | 0 | 0 | 0 | 1 | 0 | 0 | 0 | 0 |\n",
              "| 2.830896 |  9 | 0 | 1 | 0 | 22 | 1.1987 | 12 |  9 | 3 | ⋯ | 0 | 0 | 0 | 0 | 0 | 0 | 0 | 0 | 1 | 0 |\n",
              "| 4.306459 | 16 | 0 | 0 | 0 | 13 | 8.9321 | 16 | 18 | 2 | ⋯ | 1 | 0 | 0 | 0 | 0 | 0 | 0 | 0 | 0 | 0 |\n",
              "| 5.991465 | 16 | 0 | 1 | 0 | 15 | 2.2618 | 16 | 16 | 1 | ⋯ | 0 | 0 | 0 | 0 | 0 | 0 | 0 | 0 | 0 | 0 |\n",
              "| 4.711924 | 16 | 0 | 0 | 0 | 14 | 8.9502 | 18 | 20 | 1 | ⋯ | 0 | 1 | 0 | 0 | 0 | 0 | 0 | 0 | 0 | 0 |\n",
              "\n"
            ],
            "text/plain": [
              "  lnw_2016 educ black hispanic other exp afqt   mom_educ dad_educ yhea_100_1997\n",
              "1 4.076898 16   0     0        0     11  7.0724 12       12       3            \n",
              "2 3.294138  9   0     0        0     19  4.7481  9       10       2            \n",
              "3 2.830896  9   0     1        0     22  1.1987 12        9       3            \n",
              "4 4.306459 16   0     0        0     13  8.9321 16       18       2            \n",
              "5 5.991465 16   0     1        0     15  2.2618 16       16       1            \n",
              "6 4.711924 16   0     0        0     14  8.9502 18       20       1            \n",
              "  ⋯ _XPexp_13 _XPexp_14 _XPexp_16 _XPexp_17 _XPexp_18 _XPexp_19 _XPexp_20\n",
              "1 ⋯ 0         0         0         0         0         0         0        \n",
              "2 ⋯ 0         0         0         0         0         1         0        \n",
              "3 ⋯ 0         0         0         0         0         0         0        \n",
              "4 ⋯ 1         0         0         0         0         0         0        \n",
              "5 ⋯ 0         0         0         0         0         0         0        \n",
              "6 ⋯ 0         1         0         0         0         0         0        \n",
              "  _XPexp_21 _XPexp_22 _XPexp_23\n",
              "1 0         0         0        \n",
              "2 0         0         0        \n",
              "3 0         1         0        \n",
              "4 0         0         0        \n",
              "5 0         0         0        \n",
              "6 0         0         0        "
            ]
          },
          "metadata": {},
          "output_type": "display_data"
        }
      ],
      "source": [
        "head(nlsy)"
      ]
    },
    {
      "cell_type": "code",
      "execution_count": null,
      "id": "1c589b4f",
      "metadata": {
        "id": "1c589b4f"
      },
      "outputs": [],
      "source": [
        "#Polinomios de educación\n",
        "\n",
        "nlsy <- nlsy  %>% mutate(educ2=educ^2,\n",
        "                         educ3=educ^3,\n",
        "                         educ4=educ^4,\n",
        "                         educ5=educ^5,\n",
        "                         educ6=educ^6,\n",
        "                         educ7=educ^7,\n",
        "                         educ8=educ^8,\n",
        "                         educ9=educ^9,\n",
        "                         educ10=educ^10\n",
        "                        )"
      ]
    },
    {
      "cell_type": "code",
      "execution_count": null,
      "id": "ff9a7d77",
      "metadata": {
        "id": "ff9a7d77",
        "outputId": "36709aea-43b8-4726-e28f-a5e3b96b650b"
      },
      "outputs": [
        {
          "data": {
            "text/html": [
              "<table class=\"dataframe\">\n",
              "<caption>A tibble: 6 × 1003</caption>\n",
              "<thead>\n",
              "\t<tr><th scope=col>lnw_2016</th><th scope=col>educ</th><th scope=col>black</th><th scope=col>hispanic</th><th scope=col>other</th><th scope=col>exp</th><th scope=col>afqt</th><th scope=col>mom_educ</th><th scope=col>dad_educ</th><th scope=col>yhea_100_1997</th><th scope=col>⋯</th><th scope=col>_XPexp_23</th><th scope=col>educ2</th><th scope=col>educ3</th><th scope=col>educ4</th><th scope=col>educ5</th><th scope=col>educ6</th><th scope=col>educ7</th><th scope=col>educ8</th><th scope=col>educ9</th><th scope=col>educ10</th></tr>\n",
              "\t<tr><th scope=col>&lt;dbl&gt;</th><th scope=col>&lt;dbl&gt;</th><th scope=col>&lt;dbl&gt;</th><th scope=col>&lt;dbl&gt;</th><th scope=col>&lt;dbl&gt;</th><th scope=col>&lt;dbl&gt;</th><th scope=col>&lt;dbl&gt;</th><th scope=col>&lt;dbl&gt;</th><th scope=col>&lt;dbl&gt;</th><th scope=col>&lt;dbl&gt;</th><th scope=col>⋯</th><th scope=col>&lt;dbl&gt;</th><th scope=col>&lt;dbl&gt;</th><th scope=col>&lt;dbl&gt;</th><th scope=col>&lt;dbl&gt;</th><th scope=col>&lt;dbl&gt;</th><th scope=col>&lt;dbl&gt;</th><th scope=col>&lt;dbl&gt;</th><th scope=col>&lt;dbl&gt;</th><th scope=col>&lt;dbl&gt;</th><th scope=col>&lt;dbl&gt;</th></tr>\n",
              "</thead>\n",
              "<tbody>\n",
              "\t<tr><td>4.076898</td><td>16</td><td>0</td><td>0</td><td>0</td><td>11</td><td>7.0724</td><td>12</td><td>12</td><td>3</td><td>⋯</td><td>0</td><td>256</td><td>4096</td><td>65536</td><td>1048576</td><td>16777216</td><td>268435456</td><td>4294967296</td><td>68719476736</td><td>1.099512e+12</td></tr>\n",
              "\t<tr><td>3.294138</td><td> 9</td><td>0</td><td>0</td><td>0</td><td>19</td><td>4.7481</td><td> 9</td><td>10</td><td>2</td><td>⋯</td><td>0</td><td> 81</td><td> 729</td><td> 6561</td><td>  59049</td><td>  531441</td><td>  4782969</td><td>  43046721</td><td>  387420489</td><td>3.486784e+09</td></tr>\n",
              "\t<tr><td>2.830896</td><td> 9</td><td>0</td><td>1</td><td>0</td><td>22</td><td>1.1987</td><td>12</td><td> 9</td><td>3</td><td>⋯</td><td>0</td><td> 81</td><td> 729</td><td> 6561</td><td>  59049</td><td>  531441</td><td>  4782969</td><td>  43046721</td><td>  387420489</td><td>3.486784e+09</td></tr>\n",
              "\t<tr><td>4.306459</td><td>16</td><td>0</td><td>0</td><td>0</td><td>13</td><td>8.9321</td><td>16</td><td>18</td><td>2</td><td>⋯</td><td>0</td><td>256</td><td>4096</td><td>65536</td><td>1048576</td><td>16777216</td><td>268435456</td><td>4294967296</td><td>68719476736</td><td>1.099512e+12</td></tr>\n",
              "\t<tr><td>5.991465</td><td>16</td><td>0</td><td>1</td><td>0</td><td>15</td><td>2.2618</td><td>16</td><td>16</td><td>1</td><td>⋯</td><td>0</td><td>256</td><td>4096</td><td>65536</td><td>1048576</td><td>16777216</td><td>268435456</td><td>4294967296</td><td>68719476736</td><td>1.099512e+12</td></tr>\n",
              "\t<tr><td>4.711924</td><td>16</td><td>0</td><td>0</td><td>0</td><td>14</td><td>8.9502</td><td>18</td><td>20</td><td>1</td><td>⋯</td><td>0</td><td>256</td><td>4096</td><td>65536</td><td>1048576</td><td>16777216</td><td>268435456</td><td>4294967296</td><td>68719476736</td><td>1.099512e+12</td></tr>\n",
              "</tbody>\n",
              "</table>\n"
            ],
            "text/latex": [
              "A tibble: 6 × 1003\n",
              "\\begin{tabular}{lllllllllllllllllllll}\n",
              " lnw\\_2016 & educ & black & hispanic & other & exp & afqt & mom\\_educ & dad\\_educ & yhea\\_100\\_1997 & ⋯ & \\_XPexp\\_23 & educ2 & educ3 & educ4 & educ5 & educ6 & educ7 & educ8 & educ9 & educ10\\\\\n",
              " <dbl> & <dbl> & <dbl> & <dbl> & <dbl> & <dbl> & <dbl> & <dbl> & <dbl> & <dbl> & ⋯ & <dbl> & <dbl> & <dbl> & <dbl> & <dbl> & <dbl> & <dbl> & <dbl> & <dbl> & <dbl>\\\\\n",
              "\\hline\n",
              "\t 4.076898 & 16 & 0 & 0 & 0 & 11 & 7.0724 & 12 & 12 & 3 & ⋯ & 0 & 256 & 4096 & 65536 & 1048576 & 16777216 & 268435456 & 4294967296 & 68719476736 & 1.099512e+12\\\\\n",
              "\t 3.294138 &  9 & 0 & 0 & 0 & 19 & 4.7481 &  9 & 10 & 2 & ⋯ & 0 &  81 &  729 &  6561 &   59049 &   531441 &   4782969 &   43046721 &   387420489 & 3.486784e+09\\\\\n",
              "\t 2.830896 &  9 & 0 & 1 & 0 & 22 & 1.1987 & 12 &  9 & 3 & ⋯ & 0 &  81 &  729 &  6561 &   59049 &   531441 &   4782969 &   43046721 &   387420489 & 3.486784e+09\\\\\n",
              "\t 4.306459 & 16 & 0 & 0 & 0 & 13 & 8.9321 & 16 & 18 & 2 & ⋯ & 0 & 256 & 4096 & 65536 & 1048576 & 16777216 & 268435456 & 4294967296 & 68719476736 & 1.099512e+12\\\\\n",
              "\t 5.991465 & 16 & 0 & 1 & 0 & 15 & 2.2618 & 16 & 16 & 1 & ⋯ & 0 & 256 & 4096 & 65536 & 1048576 & 16777216 & 268435456 & 4294967296 & 68719476736 & 1.099512e+12\\\\\n",
              "\t 4.711924 & 16 & 0 & 0 & 0 & 14 & 8.9502 & 18 & 20 & 1 & ⋯ & 0 & 256 & 4096 & 65536 & 1048576 & 16777216 & 268435456 & 4294967296 & 68719476736 & 1.099512e+12\\\\\n",
              "\\end{tabular}\n"
            ],
            "text/markdown": [
              "\n",
              "A tibble: 6 × 1003\n",
              "\n",
              "| lnw_2016 &lt;dbl&gt; | educ &lt;dbl&gt; | black &lt;dbl&gt; | hispanic &lt;dbl&gt; | other &lt;dbl&gt; | exp &lt;dbl&gt; | afqt &lt;dbl&gt; | mom_educ &lt;dbl&gt; | dad_educ &lt;dbl&gt; | yhea_100_1997 &lt;dbl&gt; | ⋯ ⋯ | _XPexp_23 &lt;dbl&gt; | educ2 &lt;dbl&gt; | educ3 &lt;dbl&gt; | educ4 &lt;dbl&gt; | educ5 &lt;dbl&gt; | educ6 &lt;dbl&gt; | educ7 &lt;dbl&gt; | educ8 &lt;dbl&gt; | educ9 &lt;dbl&gt; | educ10 &lt;dbl&gt; |\n",
              "|---|---|---|---|---|---|---|---|---|---|---|---|---|---|---|---|---|---|---|---|---|\n",
              "| 4.076898 | 16 | 0 | 0 | 0 | 11 | 7.0724 | 12 | 12 | 3 | ⋯ | 0 | 256 | 4096 | 65536 | 1048576 | 16777216 | 268435456 | 4294967296 | 68719476736 | 1.099512e+12 |\n",
              "| 3.294138 |  9 | 0 | 0 | 0 | 19 | 4.7481 |  9 | 10 | 2 | ⋯ | 0 |  81 |  729 |  6561 |   59049 |   531441 |   4782969 |   43046721 |   387420489 | 3.486784e+09 |\n",
              "| 2.830896 |  9 | 0 | 1 | 0 | 22 | 1.1987 | 12 |  9 | 3 | ⋯ | 0 |  81 |  729 |  6561 |   59049 |   531441 |   4782969 |   43046721 |   387420489 | 3.486784e+09 |\n",
              "| 4.306459 | 16 | 0 | 0 | 0 | 13 | 8.9321 | 16 | 18 | 2 | ⋯ | 0 | 256 | 4096 | 65536 | 1048576 | 16777216 | 268435456 | 4294967296 | 68719476736 | 1.099512e+12 |\n",
              "| 5.991465 | 16 | 0 | 1 | 0 | 15 | 2.2618 | 16 | 16 | 1 | ⋯ | 0 | 256 | 4096 | 65536 | 1048576 | 16777216 | 268435456 | 4294967296 | 68719476736 | 1.099512e+12 |\n",
              "| 4.711924 | 16 | 0 | 0 | 0 | 14 | 8.9502 | 18 | 20 | 1 | ⋯ | 0 | 256 | 4096 | 65536 | 1048576 | 16777216 | 268435456 | 4294967296 | 68719476736 | 1.099512e+12 |\n",
              "\n"
            ],
            "text/plain": [
              "  lnw_2016 educ black hispanic other exp afqt   mom_educ dad_educ yhea_100_1997\n",
              "1 4.076898 16   0     0        0     11  7.0724 12       12       3            \n",
              "2 3.294138  9   0     0        0     19  4.7481  9       10       2            \n",
              "3 2.830896  9   0     1        0     22  1.1987 12        9       3            \n",
              "4 4.306459 16   0     0        0     13  8.9321 16       18       2            \n",
              "5 5.991465 16   0     1        0     15  2.2618 16       16       1            \n",
              "6 4.711924 16   0     0        0     14  8.9502 18       20       1            \n",
              "  ⋯ _XPexp_23 educ2 educ3 educ4 educ5   educ6    educ7     educ8     \n",
              "1 ⋯ 0         256   4096  65536 1048576 16777216 268435456 4294967296\n",
              "2 ⋯ 0          81    729   6561   59049   531441   4782969   43046721\n",
              "3 ⋯ 0          81    729   6561   59049   531441   4782969   43046721\n",
              "4 ⋯ 0         256   4096  65536 1048576 16777216 268435456 4294967296\n",
              "5 ⋯ 0         256   4096  65536 1048576 16777216 268435456 4294967296\n",
              "6 ⋯ 0         256   4096  65536 1048576 16777216 268435456 4294967296\n",
              "  educ9       educ10      \n",
              "1 68719476736 1.099512e+12\n",
              "2   387420489 3.486784e+09\n",
              "3   387420489 3.486784e+09\n",
              "4 68719476736 1.099512e+12\n",
              "5 68719476736 1.099512e+12\n",
              "6 68719476736 1.099512e+12"
            ]
          },
          "metadata": {},
          "output_type": "display_data"
        }
      ],
      "source": [
        "head(nlsy)"
      ]
    },
    {
      "cell_type": "code",
      "execution_count": null,
      "id": "c209a0c9",
      "metadata": {
        "id": "c209a0c9"
      },
      "outputs": [],
      "source": [
        "# Regresion lineal Salario en polinomios de educación\n",
        "# reg lnw_2016 educ-educ10 #Stata\n",
        "reg<- lm(lnw_2016~educ+ educ2 + educ3 + educ4 + educ5 + educ6 + educ7 +\n",
        "    educ8 + educ9 + educ10,   data = nlsy)\n",
        "\n",
        "#reg <- lm(lnw_2016 ~ educ +I(educ^2)  +I(educ^3)  +I(educ^4)  +I(educ^5)  +I(educ^6)  +I(educ^7)\n",
        "#  +I(educ^8)  +I(educ^9)  +I(educ^10),   data = nlsy) #hacer los polinomios sin crear las variables (otra opción)\n",
        "reg0<- lm(lnw_2016~educ,   data = nlsy)"
      ]
    },
    {
      "cell_type": "code",
      "execution_count": null,
      "id": "640813a8",
      "metadata": {
        "id": "640813a8",
        "outputId": "32947abf-59c3-41de-d3ec-ca63ec937725"
      },
      "outputs": [
        {
          "data": {
            "text/plain": [
              "\n",
              "Call:\n",
              "lm(formula = lnw_2016 ~ educ + educ2 + educ3 + educ4 + educ5 + \n",
              "    educ6 + educ7 + educ8 + educ9 + educ10, data = nlsy)\n",
              "\n",
              "Residuals:\n",
              "    Min      1Q  Median      3Q     Max \n",
              "-4.9297 -0.4005 -0.0368  0.3649  4.4115 \n",
              "\n",
              "Coefficients: (1 not defined because of singularities)\n",
              "              Estimate Std. Error t value Pr(>|t|)\n",
              "(Intercept) -1.082e+04  1.958e+04  -0.552    0.581\n",
              "educ         7.189e+03  1.362e+04   0.528    0.598\n",
              "educ2       -2.075e+03  4.144e+03  -0.501    0.617\n",
              "educ3        3.411e+02  7.231e+02   0.472    0.637\n",
              "educ4       -3.511e+01  7.953e+01  -0.441    0.659\n",
              "educ5        2.334e+00  5.691e+00   0.410    0.682\n",
              "educ6       -9.912e-02  2.621e-01  -0.378    0.705\n",
              "educ7        2.519e-03  7.275e-03   0.346    0.729\n",
              "educ8       -3.090e-05  9.832e-05  -0.314    0.753\n",
              "educ9               NA         NA      NA       NA\n",
              "educ10       2.774e-09  1.100e-08   0.252    0.801\n",
              "\n",
              "Residual standard error: 0.8391 on 1256 degrees of freedom\n",
              "Multiple R-squared:  0.07473,\tAdjusted R-squared:  0.0681 \n",
              "F-statistic: 11.27 on 9 and 1256 DF,  p-value: < 2.2e-16\n"
            ]
          },
          "metadata": {},
          "output_type": "display_data"
        }
      ],
      "source": [
        "summary(reg) #ver los resultados"
      ]
    },
    {
      "cell_type": "code",
      "execution_count": null,
      "id": "50ca8d07",
      "metadata": {
        "id": "50ca8d07",
        "outputId": "c65cb631-42d5-4dcb-a3c0-9efd94e109a9"
      },
      "outputs": [
        {
          "name": "stdout",
          "output_type": "stream",
          "text": [
            "\n",
            "=====================================================================\n",
            "                                   Dependent variable:               \n",
            "                    -------------------------------------------------\n",
            "                                        lnw_2016                     \n",
            "                              (1)                      (2)           \n",
            "---------------------------------------------------------------------\n",
            "educ                       7,189.043                 0.077***        \n",
            "                          (13,620.270)               (0.008)         \n",
            "                                                                     \n",
            "educ2                      -2,075.162                                \n",
            "                          (4,144.199)                                \n",
            "                                                                     \n",
            "educ3                       341.132                                  \n",
            "                           (723.058)                                 \n",
            "                                                                     \n",
            "educ4                       -35.106                                  \n",
            "                            (79.527)                                 \n",
            "                                                                     \n",
            "educ5                        2.334                                   \n",
            "                            (5.691)                                  \n",
            "                                                                     \n",
            "educ6                        -0.099                                  \n",
            "                            (0.262)                                  \n",
            "                                                                     \n",
            "educ7                        0.003                                   \n",
            "                            (0.007)                                  \n",
            "                                                                     \n",
            "educ8                       -0.00003                                 \n",
            "                            (0.0001)                                 \n",
            "                                                                     \n",
            "educ9                                                                \n",
            "                                                                     \n",
            "                                                                     \n",
            "educ10                       0.000                                   \n",
            "                            (0.000)                                  \n",
            "                                                                     \n",
            "Constant                  -10,819.340                2.003***        \n",
            "                          (19,583.730)               (0.119)         \n",
            "                                                                     \n",
            "---------------------------------------------------------------------\n",
            "Observations                 1,266                    1,266          \n",
            "R2                           0.075                    0.067          \n",
            "Adjusted R2                  0.068                    0.066          \n",
            "Residual Std. Error    0.839 (df = 1256)        0.840 (df = 1264)    \n",
            "F Statistic         11.271*** (df = 9; 1256) 90.128*** (df = 1; 1264)\n",
            "=====================================================================\n",
            "Note:                                     *p<0.1; **p<0.05; ***p<0.01\n"
          ]
        }
      ],
      "source": [
        "stargazer(reg,reg0,type=\"text\") #Equivalente en stata: outreg2"
      ]
    },
    {
      "cell_type": "markdown",
      "id": "9727ac8e",
      "metadata": {
        "id": "9727ac8e"
      },
      "source": [
        "## Predicción\n",
        "\n",
        "$$\n",
        "\\hat{y} = \\hat{\\beta}_0 +  \\hat{\\beta}_1 educ + .... +  \\hat{\\beta}_{10} educ10\n",
        "$$"
      ]
    },
    {
      "cell_type": "code",
      "execution_count": null,
      "id": "18c41cbd",
      "metadata": {
        "id": "18c41cbd"
      },
      "outputs": [],
      "source": [
        "#predict me simplifica hacer la operacion X\\hat{\\beta}\n",
        "\n",
        "nlsy$yhat = predict(reg) #R base\n",
        "#nsly <- nsly  %>% mutate(yhat=predict(reg)) #con el paquete mutate"
      ]
    },
    {
      "cell_type": "code",
      "execution_count": null,
      "id": "fad3cc0d",
      "metadata": {
        "id": "fad3cc0d",
        "outputId": "5a238167-522b-4ace-8780-6db70c2e5950"
      },
      "outputs": [
        {
          "data": {
            "text/html": [
              "<table class=\"dataframe\">\n",
              "<caption>A tibble: 6 × 1004</caption>\n",
              "<thead>\n",
              "\t<tr><th scope=col>lnw_2016</th><th scope=col>educ</th><th scope=col>black</th><th scope=col>hispanic</th><th scope=col>other</th><th scope=col>exp</th><th scope=col>afqt</th><th scope=col>mom_educ</th><th scope=col>dad_educ</th><th scope=col>yhea_100_1997</th><th scope=col>⋯</th><th scope=col>educ2</th><th scope=col>educ3</th><th scope=col>educ4</th><th scope=col>educ5</th><th scope=col>educ6</th><th scope=col>educ7</th><th scope=col>educ8</th><th scope=col>educ9</th><th scope=col>educ10</th><th scope=col>yhat</th></tr>\n",
              "\t<tr><th scope=col>&lt;dbl&gt;</th><th scope=col>&lt;dbl&gt;</th><th scope=col>&lt;dbl&gt;</th><th scope=col>&lt;dbl&gt;</th><th scope=col>&lt;dbl&gt;</th><th scope=col>&lt;dbl&gt;</th><th scope=col>&lt;dbl&gt;</th><th scope=col>&lt;dbl&gt;</th><th scope=col>&lt;dbl&gt;</th><th scope=col>&lt;dbl&gt;</th><th scope=col>⋯</th><th scope=col>&lt;dbl&gt;</th><th scope=col>&lt;dbl&gt;</th><th scope=col>&lt;dbl&gt;</th><th scope=col>&lt;dbl&gt;</th><th scope=col>&lt;dbl&gt;</th><th scope=col>&lt;dbl&gt;</th><th scope=col>&lt;dbl&gt;</th><th scope=col>&lt;dbl&gt;</th><th scope=col>&lt;dbl&gt;</th><th scope=col>&lt;dbl&gt;</th></tr>\n",
              "</thead>\n",
              "<tbody>\n",
              "\t<tr><td>4.076898</td><td>16</td><td>0</td><td>0</td><td>0</td><td>11</td><td>7.0724</td><td>12</td><td>12</td><td>3</td><td>⋯</td><td>256</td><td>4096</td><td>65536</td><td>1048576</td><td>16777216</td><td>268435456</td><td>4294967296</td><td>68719476736</td><td>1.099512e+12</td><td>3.310792</td></tr>\n",
              "\t<tr><td>3.294138</td><td> 9</td><td>0</td><td>0</td><td>0</td><td>19</td><td>4.7481</td><td> 9</td><td>10</td><td>2</td><td>⋯</td><td> 81</td><td> 729</td><td> 6561</td><td>  59049</td><td>  531441</td><td>  4782969</td><td>  43046721</td><td>  387420489</td><td>3.486784e+09</td><td>2.667921</td></tr>\n",
              "\t<tr><td>2.830896</td><td> 9</td><td>0</td><td>1</td><td>0</td><td>22</td><td>1.1987</td><td>12</td><td> 9</td><td>3</td><td>⋯</td><td> 81</td><td> 729</td><td> 6561</td><td>  59049</td><td>  531441</td><td>  4782969</td><td>  43046721</td><td>  387420489</td><td>3.486784e+09</td><td>2.667921</td></tr>\n",
              "\t<tr><td>4.306459</td><td>16</td><td>0</td><td>0</td><td>0</td><td>13</td><td>8.9321</td><td>16</td><td>18</td><td>2</td><td>⋯</td><td>256</td><td>4096</td><td>65536</td><td>1048576</td><td>16777216</td><td>268435456</td><td>4294967296</td><td>68719476736</td><td>1.099512e+12</td><td>3.310792</td></tr>\n",
              "\t<tr><td>5.991465</td><td>16</td><td>0</td><td>1</td><td>0</td><td>15</td><td>2.2618</td><td>16</td><td>16</td><td>1</td><td>⋯</td><td>256</td><td>4096</td><td>65536</td><td>1048576</td><td>16777216</td><td>268435456</td><td>4294967296</td><td>68719476736</td><td>1.099512e+12</td><td>3.310792</td></tr>\n",
              "\t<tr><td>4.711924</td><td>16</td><td>0</td><td>0</td><td>0</td><td>14</td><td>8.9502</td><td>18</td><td>20</td><td>1</td><td>⋯</td><td>256</td><td>4096</td><td>65536</td><td>1048576</td><td>16777216</td><td>268435456</td><td>4294967296</td><td>68719476736</td><td>1.099512e+12</td><td>3.310792</td></tr>\n",
              "</tbody>\n",
              "</table>\n"
            ],
            "text/latex": [
              "A tibble: 6 × 1004\n",
              "\\begin{tabular}{lllllllllllllllllllll}\n",
              " lnw\\_2016 & educ & black & hispanic & other & exp & afqt & mom\\_educ & dad\\_educ & yhea\\_100\\_1997 & ⋯ & educ2 & educ3 & educ4 & educ5 & educ6 & educ7 & educ8 & educ9 & educ10 & yhat\\\\\n",
              " <dbl> & <dbl> & <dbl> & <dbl> & <dbl> & <dbl> & <dbl> & <dbl> & <dbl> & <dbl> & ⋯ & <dbl> & <dbl> & <dbl> & <dbl> & <dbl> & <dbl> & <dbl> & <dbl> & <dbl> & <dbl>\\\\\n",
              "\\hline\n",
              "\t 4.076898 & 16 & 0 & 0 & 0 & 11 & 7.0724 & 12 & 12 & 3 & ⋯ & 256 & 4096 & 65536 & 1048576 & 16777216 & 268435456 & 4294967296 & 68719476736 & 1.099512e+12 & 3.310792\\\\\n",
              "\t 3.294138 &  9 & 0 & 0 & 0 & 19 & 4.7481 &  9 & 10 & 2 & ⋯ &  81 &  729 &  6561 &   59049 &   531441 &   4782969 &   43046721 &   387420489 & 3.486784e+09 & 2.667921\\\\\n",
              "\t 2.830896 &  9 & 0 & 1 & 0 & 22 & 1.1987 & 12 &  9 & 3 & ⋯ &  81 &  729 &  6561 &   59049 &   531441 &   4782969 &   43046721 &   387420489 & 3.486784e+09 & 2.667921\\\\\n",
              "\t 4.306459 & 16 & 0 & 0 & 0 & 13 & 8.9321 & 16 & 18 & 2 & ⋯ & 256 & 4096 & 65536 & 1048576 & 16777216 & 268435456 & 4294967296 & 68719476736 & 1.099512e+12 & 3.310792\\\\\n",
              "\t 5.991465 & 16 & 0 & 1 & 0 & 15 & 2.2618 & 16 & 16 & 1 & ⋯ & 256 & 4096 & 65536 & 1048576 & 16777216 & 268435456 & 4294967296 & 68719476736 & 1.099512e+12 & 3.310792\\\\\n",
              "\t 4.711924 & 16 & 0 & 0 & 0 & 14 & 8.9502 & 18 & 20 & 1 & ⋯ & 256 & 4096 & 65536 & 1048576 & 16777216 & 268435456 & 4294967296 & 68719476736 & 1.099512e+12 & 3.310792\\\\\n",
              "\\end{tabular}\n"
            ],
            "text/markdown": [
              "\n",
              "A tibble: 6 × 1004\n",
              "\n",
              "| lnw_2016 &lt;dbl&gt; | educ &lt;dbl&gt; | black &lt;dbl&gt; | hispanic &lt;dbl&gt; | other &lt;dbl&gt; | exp &lt;dbl&gt; | afqt &lt;dbl&gt; | mom_educ &lt;dbl&gt; | dad_educ &lt;dbl&gt; | yhea_100_1997 &lt;dbl&gt; | ⋯ ⋯ | educ2 &lt;dbl&gt; | educ3 &lt;dbl&gt; | educ4 &lt;dbl&gt; | educ5 &lt;dbl&gt; | educ6 &lt;dbl&gt; | educ7 &lt;dbl&gt; | educ8 &lt;dbl&gt; | educ9 &lt;dbl&gt; | educ10 &lt;dbl&gt; | yhat &lt;dbl&gt; |\n",
              "|---|---|---|---|---|---|---|---|---|---|---|---|---|---|---|---|---|---|---|---|---|\n",
              "| 4.076898 | 16 | 0 | 0 | 0 | 11 | 7.0724 | 12 | 12 | 3 | ⋯ | 256 | 4096 | 65536 | 1048576 | 16777216 | 268435456 | 4294967296 | 68719476736 | 1.099512e+12 | 3.310792 |\n",
              "| 3.294138 |  9 | 0 | 0 | 0 | 19 | 4.7481 |  9 | 10 | 2 | ⋯ |  81 |  729 |  6561 |   59049 |   531441 |   4782969 |   43046721 |   387420489 | 3.486784e+09 | 2.667921 |\n",
              "| 2.830896 |  9 | 0 | 1 | 0 | 22 | 1.1987 | 12 |  9 | 3 | ⋯ |  81 |  729 |  6561 |   59049 |   531441 |   4782969 |   43046721 |   387420489 | 3.486784e+09 | 2.667921 |\n",
              "| 4.306459 | 16 | 0 | 0 | 0 | 13 | 8.9321 | 16 | 18 | 2 | ⋯ | 256 | 4096 | 65536 | 1048576 | 16777216 | 268435456 | 4294967296 | 68719476736 | 1.099512e+12 | 3.310792 |\n",
              "| 5.991465 | 16 | 0 | 1 | 0 | 15 | 2.2618 | 16 | 16 | 1 | ⋯ | 256 | 4096 | 65536 | 1048576 | 16777216 | 268435456 | 4294967296 | 68719476736 | 1.099512e+12 | 3.310792 |\n",
              "| 4.711924 | 16 | 0 | 0 | 0 | 14 | 8.9502 | 18 | 20 | 1 | ⋯ | 256 | 4096 | 65536 | 1048576 | 16777216 | 268435456 | 4294967296 | 68719476736 | 1.099512e+12 | 3.310792 |\n",
              "\n"
            ],
            "text/plain": [
              "  lnw_2016 educ black hispanic other exp afqt   mom_educ dad_educ yhea_100_1997\n",
              "1 4.076898 16   0     0        0     11  7.0724 12       12       3            \n",
              "2 3.294138  9   0     0        0     19  4.7481  9       10       2            \n",
              "3 2.830896  9   0     1        0     22  1.1987 12        9       3            \n",
              "4 4.306459 16   0     0        0     13  8.9321 16       18       2            \n",
              "5 5.991465 16   0     1        0     15  2.2618 16       16       1            \n",
              "6 4.711924 16   0     0        0     14  8.9502 18       20       1            \n",
              "  ⋯ educ2 educ3 educ4 educ5   educ6    educ7     educ8      educ9      \n",
              "1 ⋯ 256   4096  65536 1048576 16777216 268435456 4294967296 68719476736\n",
              "2 ⋯  81    729   6561   59049   531441   4782969   43046721   387420489\n",
              "3 ⋯  81    729   6561   59049   531441   4782969   43046721   387420489\n",
              "4 ⋯ 256   4096  65536 1048576 16777216 268435456 4294967296 68719476736\n",
              "5 ⋯ 256   4096  65536 1048576 16777216 268435456 4294967296 68719476736\n",
              "6 ⋯ 256   4096  65536 1048576 16777216 268435456 4294967296 68719476736\n",
              "  educ10       yhat    \n",
              "1 1.099512e+12 3.310792\n",
              "2 3.486784e+09 2.667921\n",
              "3 3.486784e+09 2.667921\n",
              "4 1.099512e+12 3.310792\n",
              "5 1.099512e+12 3.310792\n",
              "6 1.099512e+12 3.310792"
            ]
          },
          "metadata": {},
          "output_type": "display_data"
        }
      ],
      "source": [
        "head(nlsy)"
      ]
    },
    {
      "cell_type": "code",
      "execution_count": null,
      "id": "a5d8cb0f",
      "metadata": {
        "id": "a5d8cb0f"
      },
      "outputs": [],
      "source": [
        "# Voy a calcular E(y|X=x) y E(\\hat(y)| X=x)\n",
        "# plot predicted values\n",
        "summ = nlsy %>%\n",
        "  group_by(\n",
        "    educ, educ2, educ3, educ4, educ5,\n",
        "    educ6, educ7, educ8, educ9, educ10\n",
        "  ) %>%\n",
        "  summarize(\n",
        "    mean_y = mean(lnw_2016),\n",
        "    yhat_reg = mean(yhat), .groups=\"drop\"\n",
        "  )"
      ]
    },
    {
      "cell_type": "code",
      "execution_count": null,
      "id": "801aa98f",
      "metadata": {
        "id": "801aa98f",
        "outputId": "3704c144-64f3-4aed-e792-c19e9acd6bcf"
      },
      "outputs": [
        {
          "data": {
            "text/html": [
              "<table class=\"dataframe\">\n",
              "<caption>A tibble: 6 × 12</caption>\n",
              "<thead>\n",
              "\t<tr><th scope=col>educ</th><th scope=col>educ2</th><th scope=col>educ3</th><th scope=col>educ4</th><th scope=col>educ5</th><th scope=col>educ6</th><th scope=col>educ7</th><th scope=col>educ8</th><th scope=col>educ9</th><th scope=col>educ10</th><th scope=col>mean_y</th><th scope=col>yhat_reg</th></tr>\n",
              "\t<tr><th scope=col>&lt;dbl&gt;</th><th scope=col>&lt;dbl&gt;</th><th scope=col>&lt;dbl&gt;</th><th scope=col>&lt;dbl&gt;</th><th scope=col>&lt;dbl&gt;</th><th scope=col>&lt;dbl&gt;</th><th scope=col>&lt;dbl&gt;</th><th scope=col>&lt;dbl&gt;</th><th scope=col>&lt;dbl&gt;</th><th scope=col>&lt;dbl&gt;</th><th scope=col>&lt;dbl&gt;</th><th scope=col>&lt;dbl&gt;</th></tr>\n",
              "</thead>\n",
              "<tbody>\n",
              "\t<tr><td> 8</td><td> 64</td><td> 512</td><td> 4096</td><td> 32768</td><td> 262144</td><td> 2097152</td><td> 16777216</td><td>  134217728</td><td>  1073741824</td><td>2.893439</td><td>2.891490</td></tr>\n",
              "\t<tr><td> 9</td><td> 81</td><td> 729</td><td> 6561</td><td> 59049</td><td> 531441</td><td> 4782969</td><td> 43046721</td><td>  387420489</td><td>  3486784401</td><td>2.660140</td><td>2.667921</td></tr>\n",
              "\t<tr><td>10</td><td>100</td><td>1000</td><td>10000</td><td>100000</td><td>1000000</td><td>10000000</td><td>100000000</td><td> 1000000000</td><td> 10000000000</td><td>2.592467</td><td>2.584776</td></tr>\n",
              "\t<tr><td>11</td><td>121</td><td>1331</td><td>14641</td><td>161051</td><td>1771561</td><td>19487171</td><td>214358881</td><td> 2357947691</td><td> 25937424601</td><td>2.862028</td><td>2.831769</td></tr>\n",
              "\t<tr><td>12</td><td>144</td><td>1728</td><td>20736</td><td>248832</td><td>2985984</td><td>35831808</td><td>429981696</td><td> 5159780352</td><td> 61917364224</td><td>2.948959</td><td>2.974296</td></tr>\n",
              "\t<tr><td>13</td><td>169</td><td>2197</td><td>28561</td><td>371293</td><td>4826809</td><td>62748517</td><td>815730721</td><td>10604499373</td><td>137858491849</td><td>3.080338</td><td>2.960614</td></tr>\n",
              "</tbody>\n",
              "</table>\n"
            ],
            "text/latex": [
              "A tibble: 6 × 12\n",
              "\\begin{tabular}{llllllllllll}\n",
              " educ & educ2 & educ3 & educ4 & educ5 & educ6 & educ7 & educ8 & educ9 & educ10 & mean\\_y & yhat\\_reg\\\\\n",
              " <dbl> & <dbl> & <dbl> & <dbl> & <dbl> & <dbl> & <dbl> & <dbl> & <dbl> & <dbl> & <dbl> & <dbl>\\\\\n",
              "\\hline\n",
              "\t  8 &  64 &  512 &  4096 &  32768 &  262144 &  2097152 &  16777216 &   134217728 &   1073741824 & 2.893439 & 2.891490\\\\\n",
              "\t  9 &  81 &  729 &  6561 &  59049 &  531441 &  4782969 &  43046721 &   387420489 &   3486784401 & 2.660140 & 2.667921\\\\\n",
              "\t 10 & 100 & 1000 & 10000 & 100000 & 1000000 & 10000000 & 100000000 &  1000000000 &  10000000000 & 2.592467 & 2.584776\\\\\n",
              "\t 11 & 121 & 1331 & 14641 & 161051 & 1771561 & 19487171 & 214358881 &  2357947691 &  25937424601 & 2.862028 & 2.831769\\\\\n",
              "\t 12 & 144 & 1728 & 20736 & 248832 & 2985984 & 35831808 & 429981696 &  5159780352 &  61917364224 & 2.948959 & 2.974296\\\\\n",
              "\t 13 & 169 & 2197 & 28561 & 371293 & 4826809 & 62748517 & 815730721 & 10604499373 & 137858491849 & 3.080338 & 2.960614\\\\\n",
              "\\end{tabular}\n"
            ],
            "text/markdown": [
              "\n",
              "A tibble: 6 × 12\n",
              "\n",
              "| educ &lt;dbl&gt; | educ2 &lt;dbl&gt; | educ3 &lt;dbl&gt; | educ4 &lt;dbl&gt; | educ5 &lt;dbl&gt; | educ6 &lt;dbl&gt; | educ7 &lt;dbl&gt; | educ8 &lt;dbl&gt; | educ9 &lt;dbl&gt; | educ10 &lt;dbl&gt; | mean_y &lt;dbl&gt; | yhat_reg &lt;dbl&gt; |\n",
              "|---|---|---|---|---|---|---|---|---|---|---|---|\n",
              "|  8 |  64 |  512 |  4096 |  32768 |  262144 |  2097152 |  16777216 |   134217728 |   1073741824 | 2.893439 | 2.891490 |\n",
              "|  9 |  81 |  729 |  6561 |  59049 |  531441 |  4782969 |  43046721 |   387420489 |   3486784401 | 2.660140 | 2.667921 |\n",
              "| 10 | 100 | 1000 | 10000 | 100000 | 1000000 | 10000000 | 100000000 |  1000000000 |  10000000000 | 2.592467 | 2.584776 |\n",
              "| 11 | 121 | 1331 | 14641 | 161051 | 1771561 | 19487171 | 214358881 |  2357947691 |  25937424601 | 2.862028 | 2.831769 |\n",
              "| 12 | 144 | 1728 | 20736 | 248832 | 2985984 | 35831808 | 429981696 |  5159780352 |  61917364224 | 2.948959 | 2.974296 |\n",
              "| 13 | 169 | 2197 | 28561 | 371293 | 4826809 | 62748517 | 815730721 | 10604499373 | 137858491849 | 3.080338 | 2.960614 |\n",
              "\n"
            ],
            "text/plain": [
              "  educ educ2 educ3 educ4 educ5  educ6   educ7    educ8     educ9      \n",
              "1  8    64    512   4096  32768  262144  2097152  16777216   134217728\n",
              "2  9    81    729   6561  59049  531441  4782969  43046721   387420489\n",
              "3 10   100   1000  10000 100000 1000000 10000000 100000000  1000000000\n",
              "4 11   121   1331  14641 161051 1771561 19487171 214358881  2357947691\n",
              "5 12   144   1728  20736 248832 2985984 35831808 429981696  5159780352\n",
              "6 13   169   2197  28561 371293 4826809 62748517 815730721 10604499373\n",
              "  educ10       mean_y   yhat_reg\n",
              "1   1073741824 2.893439 2.891490\n",
              "2   3486784401 2.660140 2.667921\n",
              "3  10000000000 2.592467 2.584776\n",
              "4  25937424601 2.862028 2.831769\n",
              "5  61917364224 2.948959 2.974296\n",
              "6 137858491849 3.080338 2.960614"
            ]
          },
          "metadata": {},
          "output_type": "display_data"
        }
      ],
      "source": [
        "head(summ)"
      ]
    },
    {
      "cell_type": "code",
      "execution_count": null,
      "id": "bacc3aa8",
      "metadata": {
        "id": "bacc3aa8",
        "outputId": "22da9406-6a45-49e5-e306-5b601bbd9bfc"
      },
      "outputs": [
        {
          "name": "stderr",
          "output_type": "stream",
          "text": [
            "Warning message:\n",
            "“\u001b[1m\u001b[22mUsing `size` aesthetic for lines was deprecated in ggplot2 3.4.0.\n",
            "\u001b[36mℹ\u001b[39m Please use `linewidth` instead.”\n"
          ]
        },
        {
          "data": {
            "image/png": "[encoded data removed]",
            "text/plain": [
              "plot without title"
            ]
          },
          "metadata": {
            "image/png": {
              "height": 420,
              "width": 420
            }
          },
          "output_type": "display_data"
        }
      ],
      "source": [
        "\n",
        "ggplot(summ) +\n",
        "  geom_point(\n",
        "    aes(x = educ, y = mean_y),\n",
        "    color = \"blue\", size = 2\n",
        "  ) +\n",
        "  geom_line(\n",
        "    aes(x = educ, y = yhat_reg),\n",
        "    color = \"green\", size = 1.5\n",
        "  ) +\n",
        "  labs(\n",
        "    title = \"ln Wages by Education in the NLSY\",\n",
        "    x = \"Years of Schooling\",\n",
        "    y = \"ln Wages\"\n",
        "  ) +\n",
        "  theme_bw()\n"
      ]
    },
    {
      "cell_type": "markdown",
      "id": "57fd77cb",
      "metadata": {
        "id": "57fd77cb"
      },
      "source": [
        "As we can see, least squares linear regression can approximate any continuous function and can certainly be used for prediction. Include a rich enough set of transformations, and OLS predictions will yield unbiased estimates of the true ideal predictor, the conditional expectation function. But these estimates will be quite noisy."
      ]
    },
    {
      "cell_type": "markdown",
      "id": "10a625cf",
      "metadata": {
        "id": "10a625cf"
      },
      "source": [
        "# Example 2"
      ]
    },
    {
      "cell_type": "markdown",
      "id": "e06db823",
      "metadata": {
        "id": "e06db823"
      },
      "source": [
        "\n",
        "Two Models\n",
        "\n",
        " (1) $y=\\beta_1 X_1 + u_1 $\n",
        "\n",
        " (2) $y=\\beta_1 X_1 + \\beta_2 X_2 + u_2$\n",
        "\n",
        " If model (1) is true then estimating the larger model (2) leads to inefficient though unbiased estimators due to unnecessarily including $X_2$.\n",
        "\n",
        "If model (2) holds, estimating the smaller model (1) leads to a more efficient but biased estimate if $X_1$ is also correlated with the omitted regressor $X_2$.\n"
      ]
    },
    {
      "cell_type": "markdown",
      "id": "50052d48",
      "metadata": {
        "id": "50052d48"
      },
      "source": [
        "## Case 1"
      ]
    },
    {
      "cell_type": "markdown",
      "id": "31983cb2",
      "metadata": {
        "id": "31983cb2"
      },
      "source": [
        "Let's show this: Suppose Model (1) is True, i.e. wage depends only on schooling but not ability"
      ]
    },
    {
      "cell_type": "code",
      "execution_count": null,
      "id": "3ad6a685",
      "metadata": {
        "id": "3ad6a685"
      },
      "outputs": [],
      "source": [
        "p_load(\"fabricatr\")\n",
        "\n",
        "#for reproducibility\n",
        "set.seed(101010)\n",
        "\n",
        "\n",
        "db1 <- fabricate(\n",
        "  N = 100000,\n",
        "  ability=rnorm(N,mean=.5,sd=2),\n",
        "  schooling = round(runif(N, 2, 14)),\n",
        "  logwage =rnorm(N, mean=7+.15*schooling, sd=20)\n",
        ")"
      ]
    },
    {
      "cell_type": "code",
      "execution_count": null,
      "id": "f60abc19",
      "metadata": {
        "id": "f60abc19",
        "outputId": "4a15973f-cc10-40d8-88bd-95ae36e1c39d"
      },
      "outputs": [
        {
          "data": {
            "text/html": [
              "<table class=\"dataframe\">\n",
              "<caption>A data.frame: 6 × 4</caption>\n",
              "<thead>\n",
              "\t<tr><th></th><th scope=col>ID</th><th scope=col>ability</th><th scope=col>schooling</th><th scope=col>logwage</th></tr>\n",
              "\t<tr><th></th><th scope=col>&lt;chr&gt;</th><th scope=col>&lt;dbl&gt;</th><th scope=col>&lt;dbl&gt;</th><th scope=col>&lt;dbl&gt;</th></tr>\n",
              "</thead>\n",
              "<tbody>\n",
              "\t<tr><th scope=row>1</th><td>00001</td><td>-1.3284949</td><td> 9</td><td>45.212609</td></tr>\n",
              "\t<tr><th scope=row>2</th><td>00002</td><td>-2.0472302</td><td> 4</td><td>18.422567</td></tr>\n",
              "\t<tr><th scope=row>3</th><td>00003</td><td>-1.1985696</td><td>13</td><td> 2.945070</td></tr>\n",
              "\t<tr><th scope=row>4</th><td>00004</td><td> 4.7268511</td><td> 4</td><td>24.073468</td></tr>\n",
              "\t<tr><th scope=row>5</th><td>00005</td><td> 1.3459891</td><td>12</td><td> 9.319559</td></tr>\n",
              "\t<tr><th scope=row>6</th><td>00006</td><td> 0.9971236</td><td>10</td><td> 5.879960</td></tr>\n",
              "</tbody>\n",
              "</table>\n"
            ],
            "text/latex": [
              "A data.frame: 6 × 4\n",
              "\\begin{tabular}{r|llll}\n",
              "  & ID & ability & schooling & logwage\\\\\n",
              "  & <chr> & <dbl> & <dbl> & <dbl>\\\\\n",
              "\\hline\n",
              "\t1 & 00001 & -1.3284949 &  9 & 45.212609\\\\\n",
              "\t2 & 00002 & -2.0472302 &  4 & 18.422567\\\\\n",
              "\t3 & 00003 & -1.1985696 & 13 &  2.945070\\\\\n",
              "\t4 & 00004 &  4.7268511 &  4 & 24.073468\\\\\n",
              "\t5 & 00005 &  1.3459891 & 12 &  9.319559\\\\\n",
              "\t6 & 00006 &  0.9971236 & 10 &  5.879960\\\\\n",
              "\\end{tabular}\n"
            ],
            "text/markdown": [
              "\n",
              "A data.frame: 6 × 4\n",
              "\n",
              "| <!--/--> | ID &lt;chr&gt; | ability &lt;dbl&gt; | schooling &lt;dbl&gt; | logwage &lt;dbl&gt; |\n",
              "|---|---|---|---|---|\n",
              "| 1 | 00001 | -1.3284949 |  9 | 45.212609 |\n",
              "| 2 | 00002 | -2.0472302 |  4 | 18.422567 |\n",
              "| 3 | 00003 | -1.1985696 | 13 |  2.945070 |\n",
              "| 4 | 00004 |  4.7268511 |  4 | 24.073468 |\n",
              "| 5 | 00005 |  1.3459891 | 12 |  9.319559 |\n",
              "| 6 | 00006 |  0.9971236 | 10 |  5.879960 |\n",
              "\n"
            ],
            "text/plain": [
              "  ID    ability    schooling logwage  \n",
              "1 00001 -1.3284949  9        45.212609\n",
              "2 00002 -2.0472302  4        18.422567\n",
              "3 00003 -1.1985696 13         2.945070\n",
              "4 00004  4.7268511  4        24.073468\n",
              "5 00005  1.3459891 12         9.319559\n",
              "6 00006  0.9971236 10         5.879960"
            ]
          },
          "metadata": {},
          "output_type": "display_data"
        }
      ],
      "source": [
        "head(db1)"
      ]
    },
    {
      "cell_type": "code",
      "execution_count": null,
      "id": "f08e9a3d",
      "metadata": {
        "id": "f08e9a3d",
        "outputId": "219c3ce8-70b9-497d-9568-69339bbea3f7"
      },
      "outputs": [
        {
          "name": "stdout",
          "output_type": "stream",
          "text": [
            "\n",
            "=======================================================================\n",
            "                                    Dependent variable:                \n",
            "                    ---------------------------------------------------\n",
            "                                          logwage                      \n",
            "                               (1)                       (2)           \n",
            "-----------------------------------------------------------------------\n",
            "schooling                   0.175***                  0.175***         \n",
            "                             (0.018)                   (0.018)         \n",
            "                                                                       \n",
            "ability                                                -0.018          \n",
            "                                                       (0.032)         \n",
            "                                                                       \n",
            "Constant                    6.829***                  6.838***         \n",
            "                             (0.158)                   (0.159)         \n",
            "                                                                       \n",
            "-----------------------------------------------------------------------\n",
            "Observations                 100,000                   100,000         \n",
            "R2                            0.001                     0.001          \n",
            "Adjusted R2                   0.001                     0.001          \n",
            "Residual Std. Error    19.995 (df = 99998)       19.995 (df = 99997)   \n",
            "F Statistic         92.809*** (df = 1; 99998) 46.562*** (df = 2; 99997)\n",
            "=======================================================================\n",
            "Note:                                       *p<0.1; **p<0.05; ***p<0.01\n"
          ]
        }
      ],
      "source": [
        "reg1<-lm(logwage~schooling,db1)\n",
        "\n",
        "reg2<-lm(logwage~schooling+ability,db1)\n",
        "\n",
        "stargazer(reg1,reg2,type=\"text\")"
      ]
    },
    {
      "cell_type": "code",
      "execution_count": null,
      "id": "bd91e6ff",
      "metadata": {
        "id": "bd91e6ff"
      },
      "outputs": [],
      "source": [
        "db1<- db1 %>% mutate(yhat_reg1=predict(reg1),\n",
        "                     yhat_reg2=predict(reg2))\n"
      ]
    },
    {
      "cell_type": "code",
      "execution_count": null,
      "id": "b3a6a538",
      "metadata": {
        "id": "b3a6a538",
        "outputId": "ebb3b9b9-f43a-408d-9864-e36f64e1895b"
      },
      "outputs": [
        {
          "data": {
            "text/html": [
              "0.371037708907709"
            ],
            "text/latex": [
              "0.371037708907709"
            ],
            "text/markdown": [
              "0.371037708907709"
            ],
            "text/plain": [
              "[1] 0.3710377"
            ]
          },
          "metadata": {},
          "output_type": "display_data"
        }
      ],
      "source": [
        "var(db1$yhat_reg1)\n"
      ]
    },
    {
      "cell_type": "code",
      "execution_count": null,
      "id": "940d1e33",
      "metadata": {
        "id": "940d1e33",
        "outputId": "947fe50a-b7bb-4ab5-dfc7-39a5df8815b0"
      },
      "outputs": [
        {
          "data": {
            "text/html": [
              "0.37230085591271"
            ],
            "text/latex": [
              "0.37230085591271"
            ],
            "text/markdown": [
              "0.37230085591271"
            ],
            "text/plain": [
              "[1] 0.3723009"
            ]
          },
          "metadata": {},
          "output_type": "display_data"
        }
      ],
      "source": [
        "var(db1$yhat_reg2)"
      ]
    },
    {
      "cell_type": "markdown",
      "id": "d12274dd",
      "metadata": {
        "id": "d12274dd"
      },
      "source": [
        "Estimating the larger model (2) leads to inefficient though unbiased estimators due to unnecessarily including $X_2$."
      ]
    },
    {
      "cell_type": "markdown",
      "id": "e806717f",
      "metadata": {
        "id": "e806717f"
      },
      "source": [
        "## Case 2\n",
        "\n",
        "Now suppose Model (2) is True, i.e. wage depends on schooling AND ability, and they are correlated"
      ]
    },
    {
      "cell_type": "code",
      "execution_count": null,
      "id": "a6882591",
      "metadata": {
        "id": "a6882591"
      },
      "outputs": [],
      "source": [
        "db2 <- fabricate(\n",
        "  N = 100000,\n",
        "  ability=rnorm(N,mean=.5,sd=2),\n",
        "  schooling = round(runif(N, 2, 14)),\n",
        "  schooling = round(ceiling(schooling+1*ability)), #educacion es aumentada por la habilidad\n",
        "  logwage =rnorm(N, mean=7+.15*schooling+.25*ability, sd=20) #salario depende de educacion y habilidad\n",
        ")"
      ]
    },
    {
      "cell_type": "code",
      "execution_count": null,
      "id": "cd8bc9ae",
      "metadata": {
        "id": "cd8bc9ae",
        "outputId": "b47aa2a2-0e33-4886-e2c1-854316d47565"
      },
      "outputs": [
        {
          "data": {
            "text/html": [
              "<table class=\"dataframe\">\n",
              "<caption>A data.frame: 6 × 4</caption>\n",
              "<thead>\n",
              "\t<tr><th></th><th scope=col>ID</th><th scope=col>ability</th><th scope=col>schooling</th><th scope=col>logwage</th></tr>\n",
              "\t<tr><th></th><th scope=col>&lt;chr&gt;</th><th scope=col>&lt;dbl&gt;</th><th scope=col>&lt;dbl&gt;</th><th scope=col>&lt;dbl&gt;</th></tr>\n",
              "</thead>\n",
              "<tbody>\n",
              "\t<tr><th scope=row>1</th><td>00001</td><td>-1.33074991</td><td> 4</td><td>14.217687</td></tr>\n",
              "\t<tr><th scope=row>2</th><td>00002</td><td>-0.08190473</td><td> 8</td><td>17.724687</td></tr>\n",
              "\t<tr><th scope=row>3</th><td>00003</td><td> 2.93434878</td><td>17</td><td>33.349840</td></tr>\n",
              "\t<tr><th scope=row>4</th><td>00004</td><td> 2.69727763</td><td>12</td><td>13.700272</td></tr>\n",
              "\t<tr><th scope=row>5</th><td>00005</td><td> 2.30242655</td><td> 9</td><td>35.650034</td></tr>\n",
              "\t<tr><th scope=row>6</th><td>00006</td><td> 2.83305535</td><td> 8</td><td> 7.594834</td></tr>\n",
              "</tbody>\n",
              "</table>\n"
            ],
            "text/latex": [
              "A data.frame: 6 × 4\n",
              "\\begin{tabular}{r|llll}\n",
              "  & ID & ability & schooling & logwage\\\\\n",
              "  & <chr> & <dbl> & <dbl> & <dbl>\\\\\n",
              "\\hline\n",
              "\t1 & 00001 & -1.33074991 &  4 & 14.217687\\\\\n",
              "\t2 & 00002 & -0.08190473 &  8 & 17.724687\\\\\n",
              "\t3 & 00003 &  2.93434878 & 17 & 33.349840\\\\\n",
              "\t4 & 00004 &  2.69727763 & 12 & 13.700272\\\\\n",
              "\t5 & 00005 &  2.30242655 &  9 & 35.650034\\\\\n",
              "\t6 & 00006 &  2.83305535 &  8 &  7.594834\\\\\n",
              "\\end{tabular}\n"
            ],
            "text/markdown": [
              "\n",
              "A data.frame: 6 × 4\n",
              "\n",
              "| <!--/--> | ID &lt;chr&gt; | ability &lt;dbl&gt; | schooling &lt;dbl&gt; | logwage &lt;dbl&gt; |\n",
              "|---|---|---|---|---|\n",
              "| 1 | 00001 | -1.33074991 |  4 | 14.217687 |\n",
              "| 2 | 00002 | -0.08190473 |  8 | 17.724687 |\n",
              "| 3 | 00003 |  2.93434878 | 17 | 33.349840 |\n",
              "| 4 | 00004 |  2.69727763 | 12 | 13.700272 |\n",
              "| 5 | 00005 |  2.30242655 |  9 | 35.650034 |\n",
              "| 6 | 00006 |  2.83305535 |  8 |  7.594834 |\n",
              "\n"
            ],
            "text/plain": [
              "  ID    ability     schooling logwage  \n",
              "1 00001 -1.33074991  4        14.217687\n",
              "2 00002 -0.08190473  8        17.724687\n",
              "3 00003  2.93434878 17        33.349840\n",
              "4 00004  2.69727763 12        13.700272\n",
              "5 00005  2.30242655  9        35.650034\n",
              "6 00006  2.83305535  8         7.594834"
            ]
          },
          "metadata": {},
          "output_type": "display_data"
        }
      ],
      "source": [
        "head(db2)"
      ]
    },
    {
      "cell_type": "code",
      "execution_count": null,
      "id": "2527abf8",
      "metadata": {
        "id": "2527abf8",
        "outputId": "0d43986f-9ac5-484c-b291-e26e55ea0b0f"
      },
      "outputs": [
        {
          "name": "stdout",
          "output_type": "stream",
          "text": [
            "\n",
            "=========================================================================\n",
            "                                     Dependent variable:                 \n",
            "                    -----------------------------------------------------\n",
            "                                           logwage                       \n",
            "                               (1)                        (2)            \n",
            "-------------------------------------------------------------------------\n",
            "schooling                    0.254***                   0.179***         \n",
            "                             (0.016)                    (0.018)          \n",
            "                                                                         \n",
            "ability                                                 0.300***         \n",
            "                                                        (0.036)          \n",
            "                                                                         \n",
            "Constant                     6.158***                   6.675***         \n",
            "                             (0.154)                    (0.167)          \n",
            "                                                                         \n",
            "-------------------------------------------------------------------------\n",
            "Observations                 100,000                    100,000          \n",
            "R2                            0.003                      0.003           \n",
            "Adjusted R2                   0.003                      0.003           \n",
            "Residual Std. Error    19.999 (df = 99998)        19.992 (df = 99997)    \n",
            "F Statistic         262.561*** (df = 1; 99998) 165.251*** (df = 2; 99997)\n",
            "=========================================================================\n",
            "Note:                                         *p<0.1; **p<0.05; ***p<0.01\n"
          ]
        }
      ],
      "source": [
        "reg3<-lm(logwage~schooling,db2)\n",
        "\n",
        "reg4<-lm(logwage~schooling+ability,db2)\n",
        "\n",
        "stargazer(reg3,reg4,type=\"text\")"
      ]
    },
    {
      "cell_type": "code",
      "execution_count": null,
      "id": "4ca94091",
      "metadata": {
        "id": "4ca94091"
      },
      "outputs": [],
      "source": [
        "db2$yhat_reg3<-predict(reg3)\n",
        "\n",
        "db2$yhat_reg4<-predict(reg4)\n"
      ]
    },
    {
      "cell_type": "code",
      "execution_count": null,
      "id": "7e962397",
      "metadata": {
        "id": "7e962397",
        "outputId": "b58277be-e70e-4894-e9e9-0a3bd8ef6b05"
      },
      "outputs": [
        {
          "data": {
            "text/html": [
              "1.05013265717052"
            ],
            "text/latex": [
              "1.05013265717052"
            ],
            "text/markdown": [
              "1.05013265717052"
            ],
            "text/plain": [
              "[1] 1.050133"
            ]
          },
          "metadata": {},
          "output_type": "display_data"
        }
      ],
      "source": [
        "var(db2$yhat_reg3)\n"
      ]
    },
    {
      "cell_type": "code",
      "execution_count": null,
      "id": "968ded1a",
      "metadata": {
        "id": "968ded1a",
        "outputId": "719a8526-4679-4e6a-ef56-ed6b1588f793"
      },
      "outputs": [
        {
          "data": {
            "text/html": [
              "1.32098382497997"
            ],
            "text/latex": [
              "1.32098382497997"
            ],
            "text/markdown": [
              "1.32098382497997"
            ],
            "text/plain": [
              "[1] 1.320984"
            ]
          },
          "metadata": {},
          "output_type": "display_data"
        }
      ],
      "source": [
        "var(db2$yhat_reg4)"
      ]
    },
    {
      "cell_type": "markdown",
      "id": "12e9e2c2",
      "metadata": {
        "id": "12e9e2c2"
      },
      "source": [
        "Estimating the smaller model (1) leads to a more efficient but biased estimate when $X_1$ is also correlated with the omitted regressor $X_2$."
      ]
    }
  ],
  "metadata": {
    "kernelspec": {
      "display_name": "R",
      "language": "R",
      "name": "ir"
    },
    "language_info": {
      "codemirror_mode": "r",
      "file_extension": ".r",
      "mimetype": "text/x-r-source",
      "name": "R",
      "pygments_lexer": "r",
      "version": "4.3.0"
    },
    "toc": {
      "base_numbering": 1,
      "nav_menu": {},
      "number_sections": true,
      "sideBar": true,
      "skip_h1_title": false,
      "title_cell": "Table of Contents",
      "title_sidebar": "Contents",
      "toc_cell": false,
      "toc_position": {},
      "toc_section_display": true,
      "toc_window_display": false
    },
    "colab": {
      "provenance": [],
      "include_colab_link": true
    }
  },
  "nbformat": 4,
  "nbformat_minor": 5
}